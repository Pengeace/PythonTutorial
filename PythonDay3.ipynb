{
 "cells": [
  {
   "cell_type": "markdown",
   "metadata": {},
   "source": [
    "# 1. Python Operators"
   ]
  },
  {
   "cell_type": "markdown",
   "metadata": {},
   "source": [
    "## 1.1 Operator & Operand"
   ]
  },
  {
   "cell_type": "markdown",
   "metadata": {},
   "source": [
    "- Operators are special tokens that represent computations.\n",
    "- The values the operator works on are called operands."
   ]
  },
  {
   "cell_type": "markdown",
   "metadata": {},
   "source": [
    "In `4 + 5`, `4` and `5` are called operands and `+` is called operator."
   ]
  },
  {
   "cell_type": "markdown",
   "metadata": {},
   "source": [
    "## 1.2 Types of Operator"
   ]
  },
  {
   "cell_type": "markdown",
   "metadata": {},
   "source": [
    "Python language supports the following types of operators.\n",
    "\n",
    "- Arithmetic Operators\n",
    "- Comparison (Relational) Operators\n",
    "- Assignment Operators\n",
    "- Logical Operators\n",
    "- Bitwise Operators\n",
    "- Membership Operators\n",
    "- Identity Operators"
   ]
  },
  {
   "cell_type": "markdown",
   "metadata": {},
   "source": [
    "### 1.2.1 Arithmetic Operators"
   ]
  },
  {
   "cell_type": "markdown",
   "metadata": {},
   "source": [
    "Arithmetic operators are used to perform mathematical operations like addition, subtraction, multiplication and division.\n",
    "\n",
    "OPERATOR | DESCRIPTION | SYNTAX\n",
    ":---     |:------      |:---\n",
    "+ | Addition: adds two operands | x + y\n",
    "- | Subtraction: subtracts two operands | x - y\n",
    "* | Multiplication: multiplies two operands | x * y\n",
    "/ | Division (float): divides the first operand by the second | x / y\n",
    "// | Division (floor): divides the first operand by the second | x // y\n",
    "% | Modulus: returns the remainder when first operand is divided by the second | x % y\n",
    "** | Power : Returns first raised to power second | x ** y"
   ]
  },
  {
   "cell_type": "markdown",
   "metadata": {},
   "source": [
    "- In Python 3, Division operator / always generate a floating point result.\n",
    "- However, Integer Division // truncates its result down to the next smallest integer (to the left on the number line)."
   ]
  },
  {
   "cell_type": "code",
   "execution_count": 46,
   "metadata": {},
   "outputs": [
    {
     "name": "stdout",
     "output_type": "stream",
     "text": [
      "2.0\n",
      "2.3333333333333335\n",
      "2\n",
      "-2.3333333333333335\n",
      "-3\n"
     ]
    }
   ],
   "source": [
    "print(6 / 3)\n",
    "print(7 / 3)\n",
    "print(7 // 3)\n",
    "print(-7 / 3)\n",
    "print(-7 // 3)"
   ]
  },
  {
   "cell_type": "code",
   "execution_count": 47,
   "metadata": {},
   "outputs": [
    {
     "name": "stdout",
     "output_type": "stream",
     "text": [
      "1\n",
      "1\n"
     ]
    }
   ],
   "source": [
    "print(7 % 3) # 7 = 3*2 + 1\n",
    "print(5 % 2) #"
   ]
  },
  {
   "cell_type": "code",
   "execution_count": 48,
   "metadata": {},
   "outputs": [
    {
     "name": "stdout",
     "output_type": "stream",
     "text": [
      "32\n",
      "1000\n"
     ]
    }
   ],
   "source": [
    "print(2**5) 2*2*2*2*2\n",
    "print(10**3)"
   ]
  },
  {
   "cell_type": "markdown",
   "metadata": {},
   "source": [
    "### 1.2.2 Relational operators"
   ]
  },
  {
   "cell_type": "markdown",
   "metadata": {},
   "source": [
    "Relational operators compares the values. It either returns True or False according to the condition.\n",
    "\n",
    "OPERATOR | DESCRIPTION | SYNTAX\n",
    ":---     |:------      |:---\n",
    "> | Greater than: True if left operand is greater than the right | x > y\n",
    "< | Less than: True if left operand is less than the right | x < y\n",
    "== | Equal to: True if both operands are equal | x == y\n",
    "!= | Not equal to - True if operands are not equal | x != y\n",
    ">= | Greater than or equal to: True if left operand is greater than or equal to the right | x >= y\n",
    "<= | Less than or equal to: True if left operand is less than or equal to the right | x <= y"
   ]
  },
  {
   "cell_type": "code",
   "execution_count": 10,
   "metadata": {},
   "outputs": [
    {
     "name": "stdout",
     "output_type": "stream",
     "text": [
      "False\n"
     ]
    }
   ],
   "source": [
    "print(3 > 7)"
   ]
  },
  {
   "cell_type": "markdown",
   "metadata": {},
   "source": [
    "### 1.2.3 Assignment Operators"
   ]
  },
  {
   "cell_type": "markdown",
   "metadata": {},
   "source": [
    "Assignment operators are used to assign values to the variables.\n",
    "\n",
    "OPERATOR | DESCRIPTION | SYNTAX\n",
    ":---     |:------      |:---\n",
    "= | Assign value of right side of expression to left side operand | x = y + z\n",
    "+= | Add AND: Add right side operand with left side operand and then assign to left operand | a+=b     a=a+b\n",
    "-= | Subtract AND: Subtract right operand from left operand and then assign to left operand | a-=b       a=a-b\n",
    "\\*= | Multiply AND: Multiply right operand with left operand and then assign to left operand | a\\*=b       a=a*b\n",
    "/= | Divide AND: Divide left operand with right operand and then assign to left operand | a/=b         a=a/b\n",
    "%= | Modulus AND: Takes modulus using left and right operands and assign result to left operand | a%=b   a=a%b\n",
    "//= | Divide(floor) AND: Divide left operand with right operand and then assign the value(floor) to left operand | a//=b       a=a//b\n",
    "\\*\\*= | Exponent AND: Calculate exponent(raise power) value using operands and assign value to left operand | a\\*\\*=b     a=a\\*\\*b\n",
    "&= | Performs Bitwise AND on operands and assign value to left operand | a&=b     a=a&b\n",
    "\\|= | Performs Bitwise OR on operands and assign value to left operand | a\\|=b         a=a\\|b\n",
    "^= | Performs Bitwise xOR on operands and assign value to left operand | a^=b       a=a^b\n",
    ">>= | Performs Bitwise right shift on operands and assign value to left operand | a>>=b     a=a>>b\n",
    "<<= | Performs Bitwise left shift on operands and assign value to left operand | a <<= b                    a= a << b"
   ]
  },
  {
   "cell_type": "code",
   "execution_count": 51,
   "metadata": {},
   "outputs": [
    {
     "name": "stdout",
     "output_type": "stream",
     "text": [
      "7\n"
     ]
    }
   ],
   "source": [
    "a = 10; b =3\n",
    "a-=b # a = a-b\n",
    "print(a)"
   ]
  },
  {
   "cell_type": "markdown",
   "metadata": {},
   "source": [
    "### 1.2.4 Logical Operators"
   ]
  },
  {
   "cell_type": "markdown",
   "metadata": {},
   "source": [
    "Logical operators perform Logical AND, Logical OR and Logical NOT operations.\n",
    "\n",
    "OPERATOR | DESCRIPTION | SYNTAX\n",
    ":---     |:------      |:---\n",
    "and | Logical AND: True if both the operands are true | x and y\n",
    "or | Logical OR: True if either of the operands is true | x or y\n",
    "not | Logical NOT: True if operand is false | not x"
   ]
  },
  {
   "cell_type": "code",
   "execution_count": 12,
   "metadata": {},
   "outputs": [
    {
     "name": "stdout",
     "output_type": "stream",
     "text": [
      "False\n",
      "True\n",
      "True\n"
     ]
    }
   ],
   "source": [
    "print(True and False)\n",
    "print(True or False)\n",
    "\n",
    "a = 5; b = 2\n",
    "print(not (a < b))"
   ]
  },
  {
   "cell_type": "markdown",
   "metadata": {},
   "source": [
    "### 1.2.5 Bitwise Operators"
   ]
  },
  {
   "cell_type": "markdown",
   "metadata": {},
   "source": [
    "Bitwise operators acts on bits and performs bit by bit operation.\n",
    "\n",
    "OPERATOR | NAME | DESCRIPTION\n",
    ":---     |:------      |:---\n",
    "&  | AND | Sets each bit to 1 if both bits are 1\n",
    "| | OR | Sets each bit to 1 if one of two bits is 1\n",
    " ^ | XOR | Sets each bit to 1 if only one of two bits is 1\n",
    "~  | NOT | Inverts all the bits\n",
    "<< | Zero fill left shift | Shift left by pushing zeros in from the right and let the leftmost bits fall off\n",
    ">> | Signed right shift | Shift right by pushing copies of the leftmost bit in from the left, and let the rightmost bits fall off"
   ]
  },
  {
   "cell_type": "markdown",
   "metadata": {},
   "source": [
    "Python `bin()` method converts a given integer to it's equivalent binary string.\n",
    "\n",
    "`0b` is the Python prefix for the representation of binary numbers."
   ]
  },
  {
   "cell_type": "code",
   "execution_count": 54,
   "metadata": {},
   "outputs": [
    {
     "name": "stdout",
     "output_type": "stream",
     "text": [
      "0 0b0\n",
      "14 0b1110\n",
      "14 0b1110\n",
      "-11 -0b1011\n",
      "2 0b10\n",
      "40 0b101000\n"
     ]
    }
   ],
   "source": [
    "# Examples of Bitwise operators \n",
    "a = 10 # 1010 in binary\n",
    "b = 4  #  100 in binary\n",
    "\n",
    "# a = 10 = 1010\n",
    "# b = 4  = 0100\n",
    "# a & b  = 0000\n",
    "# a | b  = 1110 (in binary) = 8 + 4 + 2 + 0 (14, in decimal)\n",
    "# a ^ b  = 1110 (in binary) = 8 + 4 + 2 + 0 (14, in decimal)\n",
    "\n",
    "\"\"\"\n",
    "# Rules for AND &\n",
    "1 & 1 = 1\n",
    "1 & 0 = 0\n",
    "0 & 1 = 0\n",
    "0 & 0 = 0\n",
    "\n",
    "# Rules for OR |\n",
    "1 | 1 = 1\n",
    "1 | 0 = 1\n",
    "0 | 1 = 1\n",
    "0 | 0 = 0\n",
    "\n",
    "# Rules for XOR ^\n",
    "1 ^ 1 = 0\n",
    "1 ^ 0 = 1\n",
    "0 ^ 1 = 1\n",
    "0 ^ 0 = 0\n",
    "\"\"\"\n",
    "\n",
    "# Binary operators\n",
    "# Print bitwise AND operation   \n",
    "print(a & b, bin(a & b)) \n",
    "  \n",
    "# Print bitwise OR operation \n",
    "print(a | b, bin(a | b)) \n",
    "\n",
    "# print bitwise XOR operation  \n",
    "print(a ^ b, bin(a ^ b)) \n",
    "\n",
    "# Unary operators\n",
    "# Print bitwise NOT operation  \n",
    "print(~a, bin(~a)) # 0101\n",
    "\n",
    "# print bitwise right shift operation  \n",
    "print(a >> 2, bin(a>>2)) # 1010 -> 10\n",
    "\n",
    "# print bitwise left shift operation  \n",
    "print(a << 2, bin(a<<2)) # 1010 -> 101000 (10 * 4)"
   ]
  },
  {
   "cell_type": "markdown",
   "metadata": {},
   "source": [
    "### 1.2.6 Membership Operators"
   ]
  },
  {
   "cell_type": "markdown",
   "metadata": {},
   "source": [
    "`in` and `not in` are the membership operators in Python. They are used to test whether a value or variable could be found in `string`, `list`, `tuple`, `set`, `dictionary` and etc."
   ]
  },
  {
   "cell_type": "code",
   "execution_count": 59,
   "metadata": {},
   "outputs": [
    {
     "name": "stdout",
     "output_type": "stream",
     "text": [
      "a\n",
      "True\n",
      "False\n",
      "True\n",
      "True\n",
      "True\n",
      "False\n",
      "True\n"
     ]
    }
   ],
   "source": [
    "# Examples of Membership operator \n",
    "x = 'Python Introduction'\n",
    "y = {3:'a', 4:'b'}  # dictionary -- data type; key : value format\n",
    "\n",
    "print(y[3])\n",
    "y['name'] = \"Kim\"\n",
    "\n",
    "\n",
    "print('Python' in x) \n",
    "\n",
    "print('Python' not in x) \n",
    "\n",
    "print('I' in x) \n",
    "\n",
    "print(3 in y)\n",
    "print(3 in y.keys())\n",
    "\n",
    "print('b' in y)\n",
    "print('b' in y.keys())\n",
    "print('b' in y.values())"
   ]
  },
  {
   "cell_type": "code",
   "execution_count": 60,
   "metadata": {},
   "outputs": [
    {
     "name": "stdout",
     "output_type": "stream",
     "text": [
      "True\n",
      "True\n"
     ]
    }
   ],
   "source": [
    "print(3 in (1,2,3))\n",
    "print(50 in range(0,100,10))"
   ]
  },
  {
   "cell_type": "markdown",
   "metadata": {},
   "source": [
    "### 1.2.7 Identity Operators"
   ]
  },
  {
   "cell_type": "markdown",
   "metadata": {},
   "source": [
    "Identity operators are used to compare the objects, not if they are equal, but if they are actually the same object, **with the same memory location**.\n",
    "\n",
    "\n",
    "OPERATOR | DESCRIPTION | SYNTAX\n",
    ":---     |:------      |:---\n",
    "is | Returns True if both variables are the same object |x is y\t\n",
    "is not | Returns True if both variables are not the same object | x is not y"
   ]
  },
  {
   "cell_type": "code",
   "execution_count": 61,
   "metadata": {},
   "outputs": [
    {
     "name": "stdout",
     "output_type": "stream",
     "text": [
      "True\n",
      "True\n",
      "False\n"
     ]
    }
   ],
   "source": [
    "# Examples of Identity operators \n",
    "a1 = 3\n",
    "b1 = 3\n",
    "a2 = 'Python'\n",
    "b2 = 'Python'\n",
    "a3 = [1,2,3] \n",
    "b3 = [1,2,3] \n",
    "\n",
    "\n",
    "print(a1 is b1) \n",
    "\n",
    "print(a2 is b2) \n",
    "\n",
    "# Output is False\n",
    "print(a3 is b3) "
   ]
  },
  {
   "cell_type": "markdown",
   "metadata": {},
   "source": [
    "#### Find Identity by `id()` "
   ]
  },
  {
   "cell_type": "markdown",
   "metadata": {},
   "source": [
    "Python `id()` function returns the \"identity\" of the object. The identity of an object is an integer, which is guaranteed to be unique and constant for this object during its lifetime.\n",
    "\n",
    "In CPython implementation, this is the address of the object in memory."
   ]
  },
  {
   "cell_type": "markdown",
   "metadata": {},
   "source": [
    "- For basic objects like int, float, complex, string, bool, they'll have same `id`s when having same values\n",
    "- For composed objects like lists, tuples, dictionaries, etc., id() would give a unique integer even if the content of those containers is same.\n"
   ]
  },
  {
   "cell_type": "code",
   "execution_count": 37,
   "metadata": {},
   "outputs": [
    {
     "name": "stdout",
     "output_type": "stream",
     "text": [
      "1918987360\n",
      "1918987360\n",
      "1918987360\n"
     ]
    }
   ],
   "source": [
    "print(id(3))\n",
    "print(id(a1))\n",
    "print(id(b1))"
   ]
  },
  {
   "cell_type": "code",
   "execution_count": 62,
   "metadata": {},
   "outputs": [
    {
     "name": "stdout",
     "output_type": "stream",
     "text": [
      "2451092407160 2451092407160\n",
      "2451143275400 2451167934152\n"
     ]
    }
   ],
   "source": [
    "print(id(a2), id(b2))\n",
    "\n",
    "# The id of two lists with even same values are different\n",
    "print(id(a3), id(b3))"
   ]
  }
 ],
 "metadata": {
  "kernelspec": {
   "display_name": "Python 3",
   "language": "python",
   "name": "python3"
  },
  "language_info": {
   "codemirror_mode": {
    "name": "ipython",
    "version": 3
   },
   "file_extension": ".py",
   "mimetype": "text/x-python",
   "name": "python",
   "nbconvert_exporter": "python",
   "pygments_lexer": "ipython3",
   "version": "3.6.6"
  }
 },
 "nbformat": 4,
 "nbformat_minor": 2
}

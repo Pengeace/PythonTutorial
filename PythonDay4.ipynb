{
 "cells": [
  {
   "cell_type": "markdown",
   "metadata": {},
   "source": [
    "# 1. Variables"
   ]
  },
  {
   "cell_type": "markdown",
   "metadata": {},
   "source": [
    "In programming, variables are used to store data values. Computations are performed on varialbes."
   ]
  },
  {
   "cell_type": "markdown",
   "metadata": {},
   "source": [
    "## 1.1 Creating"
   ]
  },
  {
   "cell_type": "markdown",
   "metadata": {},
   "source": [
    "A variable is created the first time you assign a value to it."
   ]
  },
  {
   "cell_type": "code",
   "execution_count": 80,
   "metadata": {},
   "outputs": [
    {
     "name": "stdout",
     "output_type": "stream",
     "text": [
      "5 3.2 Hello\n"
     ]
    }
   ],
   "source": [
    "# Three examles\n",
    "n = 3\n",
    "\n",
    "a, b, c = 5, 3.2, \"Hello\"\n",
    "\n",
    "x = y = z = \"same\"\n",
    "\n",
    "print(a, b, c)"
   ]
  },
  {
   "cell_type": "markdown",
   "metadata": {},
   "source": [
    "## 1.2 Dynamic Typing"
   ]
  },
  {
   "cell_type": "markdown",
   "metadata": {},
   "source": [
    "- One of the important features of Python is that it is a **dynamically-typed language**. \n",
    "\n",
    "\n",
    "- Programming languages such as C, C++, Java, and C# are statically-typed languages.\n",
    "    1. We must explicitly declare the data type of a variable before we use it.\n",
    "    2. We can not change the data type of a variable."
   ]
  },
  {
   "cell_type": "markdown",
   "metadata": {},
   "source": [
    "In Python, the data assigned to a variable decides its data type. "
   ]
  },
  {
   "cell_type": "code",
   "execution_count": 6,
   "metadata": {},
   "outputs": [
    {
     "name": "stdout",
     "output_type": "stream",
     "text": [
      "3 <class 'int'>\n",
      "apple <class 'str'>\n"
     ]
    }
   ],
   "source": [
    "a = 3\n",
    "print(a, type(a))\n",
    "\n",
    "a = 'apple'\n",
    "print(a, type(a))"
   ]
  },
  {
   "cell_type": "markdown",
   "metadata": {},
   "source": [
    "## 1.3 Scope"
   ]
  },
  {
   "cell_type": "markdown",
   "metadata": {},
   "source": [
    "A variable is only available from inside the region it is created. This is called scope."
   ]
  },
  {
   "cell_type": "markdown",
   "metadata": {},
   "source": [
    "### 1.3.1 Local Scope"
   ]
  },
  {
   "cell_type": "markdown",
   "metadata": {},
   "source": [
    "A variable created inside a function belongs to the local scope of that function, and can only be used inside that function."
   ]
  },
  {
   "cell_type": "code",
   "execution_count": 67,
   "metadata": {},
   "outputs": [
    {
     "name": "stdout",
     "output_type": "stream",
     "text": [
      "300\n"
     ]
    },
    {
     "ename": "NameError",
     "evalue": "name 'data' is not defined",
     "output_type": "error",
     "traceback": [
      "\u001b[1;31m---------------------------------------------------------------------------\u001b[0m",
      "\u001b[1;31mNameError\u001b[0m                                 Traceback (most recent call last)",
      "\u001b[1;32m<ipython-input-67-8cf1b55c685c>\u001b[0m in \u001b[0;36m<module>\u001b[1;34m\u001b[0m\n\u001b[0;32m      6\u001b[0m \u001b[1;33m\u001b[0m\u001b[0m\n\u001b[0;32m      7\u001b[0m \u001b[1;31m# This is wrong for the variable data could only be used inside myfunc().\u001b[0m\u001b[1;33m\u001b[0m\u001b[1;33m\u001b[0m\u001b[0m\n\u001b[1;32m----> 8\u001b[1;33m \u001b[0mprint\u001b[0m\u001b[1;33m(\u001b[0m\u001b[0mdata\u001b[0m\u001b[1;33m)\u001b[0m\u001b[1;33m\u001b[0m\u001b[0m\n\u001b[0m",
      "\u001b[1;31mNameError\u001b[0m: name 'data' is not defined"
     ]
    }
   ],
   "source": [
    "def myfunc():\n",
    "  data = 300\n",
    "  print(data)\n",
    "\n",
    "myfunc()\n",
    "\n",
    "# This is wrong for the variable data could only be used inside myfunc().\n",
    "print(data)"
   ]
  },
  {
   "cell_type": "code",
   "execution_count": 68,
   "metadata": {},
   "outputs": [
    {
     "name": "stdout",
     "output_type": "stream",
     "text": [
      "200\n",
      "300\n"
     ]
    }
   ],
   "source": [
    "x = 300\n",
    "\n",
    "def myfunc():\n",
    "  x = 200\n",
    "  print(x)\n",
    "\n",
    "myfunc()\n",
    "\n",
    "print(x)"
   ]
  },
  {
   "cell_type": "markdown",
   "metadata": {},
   "source": [
    "### 1.3.1 Global Scope"
   ]
  },
  {
   "cell_type": "markdown",
   "metadata": {},
   "source": [
    "Variables that are created outside of a function are known as global variables.\n",
    "\n",
    "Global variables can be used by everyone, both inside of functions and outside."
   ]
  },
  {
   "cell_type": "code",
   "execution_count": 18,
   "metadata": {},
   "outputs": [
    {
     "name": "stdout",
     "output_type": "stream",
     "text": [
      "Python is awesome.\n"
     ]
    }
   ],
   "source": [
    "x = \"awesome\"\n",
    "\n",
    "def myfunc():\n",
    "  print(\"Python is %s.\" % x)\n",
    "\n",
    "myfunc()"
   ]
  },
  {
   "cell_type": "markdown",
   "metadata": {},
   "source": [
    "**Global Keyword**\n",
    "\n",
    "If you need to create a global variable, but are stuck in the local scope, you can use the `global` keyword.\n",
    "\n",
    "The `global` keyword makes the variable global."
   ]
  },
  {
   "cell_type": "code",
   "execution_count": 81,
   "metadata": {},
   "outputs": [
    {
     "name": "stdout",
     "output_type": "stream",
     "text": [
      "Python is fantastic.\n",
      "y is 3\n"
     ]
    }
   ],
   "source": [
    "def myfunc():\n",
    "  global x\n",
    "  x = \"fantastic\"\n",
    "  global y\n",
    "  y = 3\n",
    "\n",
    "myfunc()\n",
    "\n",
    "print(\"Python is %s.\" % x)\n",
    "print(\"y is %d\" % y)"
   ]
  },
  {
   "cell_type": "markdown",
   "metadata": {},
   "source": [
    "# 2. Data Types"
   ]
  },
  {
   "cell_type": "markdown",
   "metadata": {},
   "source": [
    "Every variable or value in Python has a data type. \n",
    "\n",
    "**In Python, all data types are actually classes** and variables are instances (objects) of these classes."
   ]
  },
  {
   "cell_type": "markdown",
   "metadata": {},
   "source": [
    "## 2.1 Built-in Types"
   ]
  },
  {
   "cell_type": "markdown",
   "metadata": {},
   "source": [
    "There are various built-in data types in Python as listed below."
   ]
  },
  {
   "cell_type": "markdown",
   "metadata": {},
   "source": [
    "- Numeric Types:\t`int`, `float`, `complex`\n",
    "- Sequence Types:\t`str`, `list`, `tuple`, `range`\n",
    "- Mapping Type:\t`dict`\n",
    "- Set Types:\t`set`, `frozenset`\n",
    "- Boolean Type:\t`bool`\n",
    "- Binary Types:\t`bytes`, `bytearray`, `memoryview`"
   ]
  },
  {
   "cell_type": "markdown",
   "metadata": {},
   "source": [
    "### 2.1.1 Numeric Types"
   ]
  },
  {
   "cell_type": "markdown",
   "metadata": {},
   "source": [
    "#### 1. `int`"
   ]
  },
  {
   "cell_type": "markdown",
   "metadata": {},
   "source": [
    "Integers can be of any length, it is only limited by the memory available.\n",
    "\n",
    "This means that python supports **arbitrarily large integers** naturally.\n",
    "\n",
    "The reason is that when a integer exceeds the boundaries of 32-bit, it will be automatically (and transparently) converted to a [bignum](https://www.python.org/dev/peps/pep-0237/)."
   ]
  },
  {
   "cell_type": "code",
   "execution_count": 27,
   "metadata": {},
   "outputs": [
    {
     "name": "stdout",
     "output_type": "stream",
     "text": [
      "2343295429572452752405324967324907324963240632496324890124905223152135709132750312752 <class 'int'>\n"
     ]
    }
   ],
   "source": [
    "a = 2343295429572452752405324967324907324963240632496324890124905223152135709132750312752\n",
    "print(a, type(a))"
   ]
  },
  {
   "cell_type": "markdown",
   "metadata": {},
   "source": [
    "#### 2. `float`"
   ]
  },
  {
   "cell_type": "markdown",
   "metadata": {},
   "source": [
    "A floating-point number has **limited 15–17 digits of precision**.\n",
    "\n",
    "Integers and floating points are separated by decimal points. 1 is an integer, 1.0 is a floating-point number."
   ]
  },
  {
   "cell_type": "code",
   "execution_count": 82,
   "metadata": {},
   "outputs": [
    {
     "name": "stdout",
     "output_type": "stream",
     "text": [
      "0.8888888888888888 <class 'float'>\n",
      "5.237235927521357e+36\n"
     ]
    }
   ],
   "source": [
    "f = 8 / 9\n",
    "print(f, type(f))\n",
    "\n",
    "a = 5237235927521357125931257352550243245.23523535\n",
    "print(a)"
   ]
  },
  {
   "cell_type": "markdown",
   "metadata": {},
   "source": [
    "Float can also be scientific numbers with an \"e\" or \"E\" to indicate the power (exponent) of 10."
   ]
  },
  {
   "cell_type": "code",
   "execution_count": 33,
   "metadata": {},
   "outputs": [
    {
     "name": "stdout",
     "output_type": "stream",
     "text": [
      "35000.0 <class 'float'>\n",
      "120000.0 <class 'float'>\n",
      "-8.77e+101 <class 'float'>\n"
     ]
    }
   ],
   "source": [
    "x = 35e3 # 35 * (10**3)\n",
    "y = 12E4\n",
    "z = -87.7e100\n",
    "\n",
    "print(x, type(x))\n",
    "print(y, type(y))\n",
    "print(z, type(z))"
   ]
  },
  {
   "cell_type": "markdown",
   "metadata": {},
   "source": [
    "#### 3. `complex`"
   ]
  },
  {
   "cell_type": "markdown",
   "metadata": {},
   "source": [
    "Complex numbers are written in the form, `x + yj`, where `x` is the real part and `y` is the imaginary part."
   ]
  },
  {
   "cell_type": "code",
   "execution_count": 71,
   "metadata": {},
   "outputs": [
    {
     "name": "stdout",
     "output_type": "stream",
     "text": [
      "(3+5j) <class 'complex'>\n",
      "5j <class 'complex'>\n",
      "(-3-5j) <class 'complex'>\n",
      "(-1+0j)\n"
     ]
    }
   ],
   "source": [
    "x = 3+5j\n",
    "y = 5j\n",
    "z = -x\n",
    "\n",
    "print(x, type(x))\n",
    "print(y, type(y))\n",
    "print(z, type(z))\n",
    "\n",
    "# The square of j is -1\n",
    "n = 1j\n",
    "print(n*n)"
   ]
  },
  {
   "cell_type": "markdown",
   "metadata": {},
   "source": [
    "### 2.1.2 Sequence Types"
   ]
  },
  {
   "cell_type": "markdown",
   "metadata": {},
   "source": [
    "#### 1.` str`"
   ]
  },
  {
   "cell_type": "markdown",
   "metadata": {},
   "source": [
    "Strings in python are surrounded by either single quotation marks ('), or double quotation marks (\")."
   ]
  },
  {
   "cell_type": "code",
   "execution_count": 41,
   "metadata": {},
   "outputs": [
    {
     "name": "stdout",
     "output_type": "stream",
     "text": [
      "String\n",
      "String\n",
      "\n",
      "Strings can be created \n",
      "by enclosing characters \n",
      "inside a single quote or double-quotes.\n",
      "\n",
      "\n",
      "Strings can be created \n",
      "by enclosing characters \n",
      "inside a single quote or double-quotes.\n",
      "\n"
     ]
    }
   ],
   "source": [
    "# Four basic ways to create a string\n",
    "s1 = 'String'\n",
    "\n",
    "s2 = \"String\"\n",
    "\n",
    "s3 = '''\n",
    "Strings can be created \n",
    "by enclosing characters \n",
    "inside a single quote or double-quotes.\n",
    "'''\n",
    "\n",
    "s4 = \"\"\"\n",
    "Strings can be created \n",
    "by enclosing characters \n",
    "inside a single quote or double-quotes.\n",
    "\"\"\"\n",
    "\n",
    "print(s1)\n",
    "print(s2)\n",
    "print(s3)\n",
    "print(s4)"
   ]
  },
  {
   "cell_type": "markdown",
   "metadata": {},
   "source": [
    "**Escape Character**\n",
    "\n",
    "To insert characters that are illegal in a string, use an escape character.\n",
    "\n",
    "An escape character is a backslash `\\` followed by the character you want to insert."
   ]
  },
  {
   "cell_type": "markdown",
   "metadata": {},
   "source": [
    "Here are  escape characters used in Python.\n",
    "\n",
    "Code | Result\n",
    ":---|:--------\n",
    "\\\\' | Single Quote \n",
    "\\\\\" | Double Quote \n",
    "\\\\\\ | Backslash\n",
    "\\n | New Line\n",
    "\\r | Carriage Return\n",
    "\\t | Tab\n",
    "\\b | Backspace\n",
    "\\f | Form Feed\n",
    "\\ooo | Octal value\n",
    "\\xhh | Hex value"
   ]
  },
  {
   "cell_type": "code",
   "execution_count": 86,
   "metadata": {},
   "outputs": [
    {
     "name": "stdout",
     "output_type": "stream",
     "text": [
      "It's alright.\n",
      "\n",
      "This will insert one \\ (backslash).\n",
      "\n",
      "I want to change line \n",
      " here.\n"
     ]
    }
   ],
   "source": [
    "print('It\\'s alright.\\n') \n",
    "\n",
    "print(\"This will insert one \\\\ (backslash).\\n\") \n",
    "\n",
    "print('I want to change line \\n here.')"
   ]
  },
  {
   "cell_type": "markdown",
   "metadata": {},
   "source": [
    "**String Methods**\n",
    "\n",
    "Python has a set of built-in methods that you can use on strings.\n",
    "\n",
    "All string methods returns new values. They do not change the original string."
   ]
  },
  {
   "cell_type": "markdown",
   "metadata": {},
   "source": [
    "Method | Description\n",
    ":------|:-----------\n",
    "capitalize() | Converts the first character to upper case\n",
    "casefold() | Converts string into lower case\n",
    "center() | Returns a centered string\n",
    "count() | Returns the number of times a specified value occurs in a string\n",
    "encode() | Returns an encoded version of the string\n",
    "endswith() | Returns true if the string ends with the specified value\n",
    "expandtabs() | Sets the tab size of the string\n",
    "find() | Searches the string for a specified value and returns the position of where it was found\n",
    "format() | Formats specified values in a string\n",
    "format_map() | Formats specified values in a string\n",
    "index() | Searches the string for a specified value and returns the position of where it was found\n",
    "isalnum() | Returns True if all characters in the string are alphanumeric\n",
    "isalpha() | Returns True if all characters in the string are in the alphabet\n",
    "isdecimal() | Returns True if all characters in the string are decimals\n",
    "isdigit() | Returns True if all characters in the string are digits\n",
    "isidentifier() | Returns True if the string is an identifier\n",
    "islower() | Returns True if all characters in the string are lower case\n",
    "isnumeric() | Returns True if all characters in the string are numeric\n",
    "isprintable() | Returns True if all characters in the string are printable\n",
    "isspace() | Returns True if all characters in the string are whitespaces\n",
    "istitle() | Returns True if the string follows the rules of a title\n",
    "isupper() | Returns True if all characters in the string are upper case\n",
    "join() | Joins the elements of an iterable to the end of the string\n",
    "ljust() | Returns a left justified version of the string\n",
    "lower() | Converts a string into lower case\n",
    "lstrip() | Returns a left trim version of the string\n",
    "maketrans() | Returns a translation table to be used in translations\n",
    "partition() | Returns a tuple where the string is parted into three parts\n",
    "replace() | Returns a string where a specified value is replaced with a specified value\n",
    "rfind() | Searches the string for a specified value and returns the last position of where it was found\n",
    "rindex() | Searches the string for a specified value and returns the last position of where it was found\n",
    "rjust() | Returns a right justified version of the string\n",
    "rpartition() | Returns a tuple where the string is parted into three parts\n",
    "rsplit() | Splits the string at the specified separator, and returns a list\n",
    "rstrip() | Returns a right trim version of the string\n",
    "split() | Splits the string at the specified separator, and returns a list\n",
    "splitlines() | Splits the string at line breaks and returns a list\n",
    "startswith() | Returns true if the string starts with the specified value\n",
    "strip() | Returns a trimmed version of the string\n",
    "swapcase() | Swaps cases, lower case becomes upper case and vice versa\n",
    "title() | Converts the first character of each word to upper case\n",
    "translate() | Returns a translated string\n",
    "upper() | Converts a string into upper case\n",
    "zfill() | Fills the string with a specified number of 0 values at the beginning"
   ]
  },
  {
   "cell_type": "code",
   "execution_count": 101,
   "metadata": {},
   "outputs": [
    {
     "name": "stdout",
     "output_type": "stream",
     "text": [
      "string 'python' in python language.\n",
      "STRING 'PYTHON' IN PYTHON LANGUAGE.\n",
      "Python appears 2 times in this string.\n",
      "\n",
      "True\n",
      "True\n",
      "False\n",
      "True\n",
      "\n",
      "\n",
      "red\n",
      "blue\n",
      "green\n",
      "black\n",
      "white\n"
     ]
    }
   ],
   "source": [
    "s = \"String 'Python' in Python language.\"\n",
    "\n",
    "print(s.lower())\n",
    "print(s.upper())\n",
    "print(\"Python appears {} times in this string.\\n\".format(s.count('Python')))\n",
    "\n",
    "print('424325325252525'.isdigit())\n",
    "print('34325325'.isnumeric())\n",
    "print('abcABC'.isdigit())\n",
    "print('abcABC'.isalpha())\n",
    "\n",
    "print('\\n')\n",
    "s1 = 'red, blue, green, black, white'\n",
    "for item in s1.split(', '):\n",
    "    print(item)"
   ]
  },
  {
   "cell_type": "markdown",
   "metadata": {},
   "source": [
    "**Indexing**\n",
    "\n",
    "Remember that the first character has the position 0."
   ]
  },
  {
   "cell_type": "code",
   "execution_count": 103,
   "metadata": {},
   "outputs": [
    {
     "name": "stdout",
     "output_type": "stream",
     "text": [
      "m\n"
     ]
    }
   ],
   "source": [
    "name = 'Kim'\n",
    "print(name[2])"
   ]
  },
  {
   "cell_type": "markdown",
   "metadata": {},
   "source": [
    "**Slicing**"
   ]
  },
  {
   "cell_type": "markdown",
   "metadata": {},
   "source": [
    "Slicing specify the start index and the end index of the wanted sub-string, separated by a colon, to return a part of the string.\n",
    "\n",
    "The character at the end index is **not included**.\n",
    "\n",
    "Negative Indexing: Use negative indexes to start the slice from the end of the string."
   ]
  },
  {
   "cell_type": "code",
   "execution_count": 90,
   "metadata": {
    "scrolled": true
   },
   "outputs": [
    {
     "name": "stdout",
     "output_type": "stream",
     "text": [
      "llo\n",
      ", Worl\n"
     ]
    }
   ],
   "source": [
    "# Get the characters from position 2 to position 5 (not included):\n",
    "b = \"Hello, World!\"\n",
    "print(b[2:5])\n",
    "\n",
    "# Get the characters from position 5 to position 1 (not included), \n",
    "# starting the count from the end of the string:\n",
    "b = \"Hello, World!\"\n",
    "print(b[-8:-2])"
   ]
  },
  {
   "cell_type": "markdown",
   "metadata": {},
   "source": [
    "**Concatenation**"
   ]
  },
  {
   "cell_type": "code",
   "execution_count": 91,
   "metadata": {},
   "outputs": [
    {
     "name": "stdout",
     "output_type": "stream",
     "text": [
      "Apple belongs to fruits.\n"
     ]
    }
   ],
   "source": [
    "a = \"Apple\"\n",
    "b = \"fruits\"\n",
    "c = a + \" belongs to \" + b + \".\"\n",
    "\n",
    "print(c)"
   ]
  },
  {
   "cell_type": "markdown",
   "metadata": {},
   "source": [
    "**Length**"
   ]
  },
  {
   "cell_type": "code",
   "execution_count": 66,
   "metadata": {},
   "outputs": [
    {
     "name": "stdout",
     "output_type": "stream",
     "text": [
      "5\n"
     ]
    }
   ],
   "source": [
    "print(len('hello'))"
   ]
  },
  {
   "cell_type": "markdown",
   "metadata": {},
   "source": [
    "#### 2. `list`"
   ]
  },
  {
   "cell_type": "markdown",
   "metadata": {},
   "source": [
    "List is a collection which is **ordered** and **changeable**. **Allows duplicate members**."
   ]
  },
  {
   "cell_type": "markdown",
   "metadata": {},
   "source": [
    "Elements are separated by commas and enclosed by **square brackets**."
   ]
  },
  {
   "cell_type": "code",
   "execution_count": 5,
   "metadata": {},
   "outputs": [
    {
     "name": "stdout",
     "output_type": "stream",
     "text": [
      "[2, 4, 3, 3, 3, 1]\n",
      "[100, 4, 3, 3, 3, 1]\n"
     ]
    }
   ],
   "source": [
    "a = [2,4,3,3,3,1]\n",
    "print(a)\n",
    "\n",
    "a[0] = 100\n",
    "print(a)"
   ]
  },
  {
   "cell_type": "markdown",
   "metadata": {},
   "source": [
    "**The `list()` Constructor**"
   ]
  },
  {
   "cell_type": "code",
   "execution_count": 117,
   "metadata": {},
   "outputs": [
    {
     "name": "stdout",
     "output_type": "stream",
     "text": [
      "['apple', 'banana', 'cherry', 'apple', 'cherry']\n",
      "[0, 1, 2, 3, 4, 5, 6, 7, 8, 9]\n",
      "[2, 3, 4]\n"
     ]
    }
   ],
   "source": [
    "# from a tuple\n",
    "eles = (\"apple\", \"banana\", \"cherry\", \"apple\", \"cherry\") # tuple\n",
    "list1 = list(eles)\n",
    "print(list1)\n",
    "\n",
    "# from a range\n",
    "list2 = list(range(10))\n",
    "print(list2)\n",
    "\n",
    "# from a set\n",
    "my_set = {3, 2, 4, 2, 3}\n",
    "list3 = list(my_set)\n",
    "print(list3)"
   ]
  },
  {
   "cell_type": "markdown",
   "metadata": {},
   "source": [
    "Elements inside a list are not required to have same data types."
   ]
  },
  {
   "cell_type": "code",
   "execution_count": 1,
   "metadata": {},
   "outputs": [
    {
     "name": "stdout",
     "output_type": "stream",
     "text": [
      "[1, 2.0, True, 'hello', [1, 2.0, True, 'hello']]\n"
     ]
    }
   ],
   "source": [
    "a = [1, 2.0, True, 'hello', [1, 2.0, True, 'hello']]\n",
    "print(a)"
   ]
  },
  {
   "cell_type": "markdown",
   "metadata": {},
   "source": [
    "**Indexing \\& Slicing**\n",
    "\n",
    "Same as the usages for `str` data type."
   ]
  },
  {
   "cell_type": "code",
   "execution_count": 4,
   "metadata": {},
   "outputs": [
    {
     "name": "stdout",
     "output_type": "stream",
     "text": [
      "3\n",
      "5\n",
      "[4, 5, 6]\n",
      "[2, 3, 4]\n",
      "[1, 2, 3, 4]\n"
     ]
    }
   ],
   "source": [
    "a = [1, 2, 3, 4, 5, 6]\n",
    "\n",
    "print(a[2])\n",
    "print(a[-2])\n",
    "\n",
    "print(a[3:])\n",
    "print(a[-5:-2])\n",
    "print(a[:-2])"
   ]
  },
  {
   "cell_type": "markdown",
   "metadata": {},
   "source": [
    "**Iterating**"
   ]
  },
  {
   "cell_type": "code",
   "execution_count": 7,
   "metadata": {},
   "outputs": [
    {
     "name": "stdout",
     "output_type": "stream",
     "text": [
      "1\n",
      "2\n",
      "3\n",
      "4\n"
     ]
    }
   ],
   "source": [
    "my_list = [1, 2, 3, 4]\n",
    "for x in my_list:\n",
    "    print(x)"
   ]
  },
  {
   "cell_type": "markdown",
   "metadata": {},
   "source": [
    "**Add Items**"
   ]
  },
  {
   "cell_type": "markdown",
   "metadata": {},
   "source": [
    "- The `append()` method add an element at the end of a list.\n",
    "- The `insert()` method add an element at the specific index of a list."
   ]
  },
  {
   "cell_type": "code",
   "execution_count": 119,
   "metadata": {},
   "outputs": [
    {
     "name": "stdout",
     "output_type": "stream",
     "text": [
      "['red', 'blue', 'green', 'white']\n",
      "['red', 'blue', 'yellow', 'green', 'white']\n"
     ]
    }
   ],
   "source": [
    "my_list = ['red', 'blue', 'green']\n",
    "\n",
    "my_list.append('white')\n",
    "print(my_list)\n",
    "\n",
    "my_list.insert(2, 'yellow') # insert an element at the index of 2\n",
    "print(my_list)"
   ]
  },
  {
   "cell_type": "markdown",
   "metadata": {},
   "source": [
    "**Delete Items**"
   ]
  },
  {
   "cell_type": "markdown",
   "metadata": {},
   "source": [
    "- The `remove()` method removes the specified item.\n",
    "- The `pop()` method removes the specified index, (or the last item if index is not specified).\n",
    "- The `del` keyword removes the specified index.\n",
    "- The `clear()` mythod empties the list."
   ]
  },
  {
   "cell_type": "code",
   "execution_count": 121,
   "metadata": {},
   "outputs": [
    {
     "name": "stdout",
     "output_type": "stream",
     "text": [
      "['red', 'blue', 'green', 'white', 'black']\n",
      "['red', 'blue', 'green', 'white']\n",
      "['blue', 'green', 'white']\n",
      "['blue', 'white']\n",
      "[]\n"
     ]
    }
   ],
   "source": [
    "my_list = ['red', 'blue', 'yellow', 'green', 'white', 'black']\n",
    "\n",
    "my_list.remove('yellow')\n",
    "print(my_list)\n",
    "my_list.pop()\n",
    "print(my_list)\n",
    "my_list.pop(0)\n",
    "print(my_list)\n",
    "del my_list[1]\n",
    "print(my_list)\n",
    "\n",
    "my_list.clear()\n",
    "print(my_list)"
   ]
  },
  {
   "cell_type": "markdown",
   "metadata": {},
   "source": [
    "**Join or Concat lists**"
   ]
  },
  {
   "cell_type": "markdown",
   "metadata": {},
   "source": [
    "- Use `+` operator.\n",
    "- By `extend()` method.\n",
    "- Through iterative appending."
   ]
  },
  {
   "cell_type": "code",
   "execution_count": 123,
   "metadata": {},
   "outputs": [
    {
     "name": "stdout",
     "output_type": "stream",
     "text": [
      "[1, 2, 3, 4, 5, 6]\n",
      "[1, 2, 3, 4, 5, 6]\n",
      "[1, 2, 3, 4, 5, 6, 4, 5, 6]\n"
     ]
    }
   ],
   "source": [
    "a = [1, 2, 3]\n",
    "b = [4, 5, 6]\n",
    "\n",
    "c = a+b\n",
    "print(c)\n",
    "\n",
    "a.extend(b)\n",
    "print(a)\n",
    "\n",
    "for x in b:\n",
    "    a.append(x)\n",
    "print(a)"
   ]
  },
  {
   "cell_type": "markdown",
   "metadata": {},
   "source": [
    "**Built-in Methods**"
   ]
  },
  {
   "cell_type": "markdown",
   "metadata": {},
   "source": [
    "Method | Description\n",
    ":------|:-----------\n",
    "append() | Adds an element at the end of the list\n",
    "clear() | Removes all the elements from the list\n",
    "copy() | Returns a copy of the list\n",
    "count() | Returns the number of elements with the specified value\n",
    "extend() | Add the elements of a list (or any iterable), to the end of the current list\n",
    "index() | Returns the index of the first element with the specified value\n",
    "insert() | Adds an element at the specified position\n",
    "pop() | Removes the element at the specified position\n",
    "remove() | Removes the item with the specified value\n",
    "reverse() | Reverses the order of the list\n",
    "sort() | Sorts the list"
   ]
  },
  {
   "cell_type": "code",
   "execution_count": 23,
   "metadata": {},
   "outputs": [
    {
     "name": "stdout",
     "output_type": "stream",
     "text": [
      "[5, 4, 3, 2, 1]\n",
      "[1, 2, 3, 4, 6, 6, 10]\n"
     ]
    }
   ],
   "source": [
    "a = [1,2,3,4,5]\n",
    "a.reverse()\n",
    "print(a)\n",
    "\n",
    "b = [3,4,6,6,2,1,10]\n",
    "b.sort()\n",
    "print(b)"
   ]
  },
  {
   "cell_type": "code",
   "execution_count": 126,
   "metadata": {},
   "outputs": [
    {
     "name": "stdout",
     "output_type": "stream",
     "text": [
      "[3, 4, 6, 6, 2, 1, 10]\n",
      "[10, 6, 6, 4, 3, 2, 1]\n"
     ]
    }
   ],
   "source": [
    "b = [3,4,6,6,2,1,10]\n",
    "c = sorted(b, reverse=True)\n",
    "print(b)\n",
    "print(c)"
   ]
  },
  {
   "cell_type": "markdown",
   "metadata": {},
   "source": [
    "#### 3. `tuple`"
   ]
  },
  {
   "cell_type": "markdown",
   "metadata": {},
   "source": [
    "Tuple is a collection which is **ordered** and **unchangeable. Allows duplicate members**."
   ]
  },
  {
   "cell_type": "markdown",
   "metadata": {},
   "source": [
    "Elements are seperated by commas and enclosed by **round brackets**."
   ]
  },
  {
   "cell_type": "code",
   "execution_count": 31,
   "metadata": {},
   "outputs": [
    {
     "name": "stdout",
     "output_type": "stream",
     "text": [
      "(3, 4, 2, 4, 5, 5)\n"
     ]
    },
    {
     "ename": "TypeError",
     "evalue": "'tuple' object does not support item assignment",
     "output_type": "error",
     "traceback": [
      "\u001b[1;31m---------------------------------------------------------------------------\u001b[0m",
      "\u001b[1;31mTypeError\u001b[0m                                 Traceback (most recent call last)",
      "\u001b[1;32m<ipython-input-31-211ec570d211>\u001b[0m in \u001b[0;36m<module>\u001b[1;34m\u001b[0m\n\u001b[0;32m      2\u001b[0m \u001b[0mprint\u001b[0m\u001b[1;33m(\u001b[0m\u001b[0ma\u001b[0m\u001b[1;33m)\u001b[0m\u001b[1;33m\u001b[0m\u001b[0m\n\u001b[0;32m      3\u001b[0m \u001b[1;33m\u001b[0m\u001b[0m\n\u001b[1;32m----> 4\u001b[1;33m \u001b[0ma\u001b[0m\u001b[1;33m[\u001b[0m\u001b[1;36m0\u001b[0m\u001b[1;33m]\u001b[0m \u001b[1;33m=\u001b[0m \u001b[1;36m2\u001b[0m\u001b[1;33m\u001b[0m\u001b[0m\n\u001b[0m",
      "\u001b[1;31mTypeError\u001b[0m: 'tuple' object does not support item assignment"
     ]
    }
   ],
   "source": [
    "a = (3,4,2,4,5,5)\n",
    "print(a)\n",
    "\n",
    "a[0] = 2"
   ]
  },
  {
   "cell_type": "markdown",
   "metadata": {},
   "source": [
    "**The `tuple()` Constructor**"
   ]
  },
  {
   "cell_type": "code",
   "execution_count": 128,
   "metadata": {},
   "outputs": [
    {
     "name": "stdout",
     "output_type": "stream",
     "text": [
      "('apple', 'banana', 'cherry', 'apple', 'cherry')\n",
      "(0, 1, 2, 3, 4, 5, 6, 7, 8, 9)\n",
      "{2, 3, 4}\n",
      "(2, 3, 4)\n"
     ]
    }
   ],
   "source": [
    "# from a list\n",
    "tuple1 = tuple([\"apple\", \"banana\", \"cherry\", \"apple\", \"cherry\"]) \n",
    "print(tuple1)\n",
    "\n",
    "# from a range\n",
    "tuple2 = tuple(range(10))\n",
    "print(tuple2)\n",
    "\n",
    "# from a set\n",
    "my_set = {3,2,4}\n",
    "print(my_set)\n",
    "tuple3 = tuple(my_set)\n",
    "print(tuple3)"
   ]
  },
  {
   "cell_type": "markdown",
   "metadata": {},
   "source": [
    "**Value Changing**"
   ]
  },
  {
   "cell_type": "markdown",
   "metadata": {},
   "source": [
    "Once a tuple is created, you cannot change its values, like appending and removing items. \n",
    "\n",
    "Tuples are **unchangeable, or immutable** as it also is called.\n",
    "\n",
    "Thus, the only workaround is to create a new tuple if you want to change an item inside it."
   ]
  },
  {
   "cell_type": "code",
   "execution_count": 35,
   "metadata": {},
   "outputs": [
    {
     "name": "stdout",
     "output_type": "stream",
     "text": [
      "(2, 3, 4, 5, 6)\n"
     ]
    }
   ],
   "source": [
    "a = (2, 3, 4, 5)\n",
    "\n",
    "b = list(a)\n",
    "b.append(6)\n",
    "a = tuple(b)\n",
    "print(a)"
   ]
  },
  {
   "cell_type": "markdown",
   "metadata": {},
   "source": [
    "**Join**"
   ]
  },
  {
   "cell_type": "code",
   "execution_count": 129,
   "metadata": {},
   "outputs": [
    {
     "name": "stdout",
     "output_type": "stream",
     "text": [
      "(3, 3, 4) (1, 2, 5)\n",
      "(3, 3, 4, 1, 2, 5)\n"
     ]
    }
   ],
   "source": [
    "a = (3,3,4)\n",
    "b = (1,2,5)\n",
    "\n",
    "print(a, b)\n",
    "print(a+b) # the result is a new tuple"
   ]
  },
  {
   "cell_type": "markdown",
   "metadata": {},
   "source": [
    "**Built-in Methods**"
   ]
  },
  {
   "cell_type": "markdown",
   "metadata": {},
   "source": [
    "Method | Description\n",
    ":------|:-----------\n",
    "count() | Returns the number of times a specified value occurs in a tuple\n",
    "index() | Searches the tuple for a specified value and returns the position of where it was found"
   ]
  },
  {
   "cell_type": "code",
   "execution_count": 38,
   "metadata": {},
   "outputs": [
    {
     "name": "stdout",
     "output_type": "stream",
     "text": [
      "2\n",
      "3\n"
     ]
    }
   ],
   "source": [
    "a = (1, 2, 3, 4, 4, 5)\n",
    "print(a.count(4))\n",
    "print(a.index(4)) # the first time of appearence"
   ]
  },
  {
   "cell_type": "markdown",
   "metadata": {},
   "source": [
    "#### 4. `range`"
   ]
  },
  {
   "cell_type": "markdown",
   "metadata": {},
   "source": [
    "The `range()` function returns a sequence of numbers.\n",
    "- starting from 0 by default, \n",
    "- increments by 1 (by default), \n",
    "- and stops before a specified number.\n",
    "\n",
    "The syntax is as followed.\n",
    "\n",
    "`range(start, stop, step)`"
   ]
  },
  {
   "cell_type": "markdown",
   "metadata": {},
   "source": [
    "Parameter | Description\n",
    ":------|:-----------\n",
    "start | Optional. An integer number specifying at which position to start. Default is 0\n",
    "stop | Required. An integer number specifying at which position to stop (**not included**).\n",
    "step | Optional. An integer number specifying the incrementation. Default is 1`"
   ]
  },
  {
   "cell_type": "markdown",
   "metadata": {},
   "source": [
    "**Examples**"
   ]
  },
  {
   "cell_type": "code",
   "execution_count": 131,
   "metadata": {},
   "outputs": [
    {
     "name": "stdout",
     "output_type": "stream",
     "text": [
      "range(2, 7)\n",
      "[2, 3, 4, 5, 6]\n",
      "2\n",
      "3\n",
      "4\n",
      "5\n",
      "6\n"
     ]
    }
   ],
   "source": [
    "a = range(2, 7) # same as a = range(2, 7, 1)\n",
    "print(a)\n",
    "print(list(a))\n",
    "for x in a:\n",
    "    print(x)"
   ]
  },
  {
   "cell_type": "code",
   "execution_count": 118,
   "metadata": {},
   "outputs": [
    {
     "name": "stdout",
     "output_type": "stream",
     "text": [
      "2\n",
      "4\n",
      "6\n"
     ]
    }
   ],
   "source": [
    "a = range(2, 7, 2)\n",
    "for x in a:\n",
    "    print(x)"
   ]
  },
  {
   "cell_type": "markdown",
   "metadata": {},
   "source": [
    "### 2.1.3 Mapping Type"
   ]
  },
  {
   "cell_type": "markdown",
   "metadata": {},
   "source": [
    "#### 1. `dict` "
   ]
  },
  {
   "cell_type": "markdown",
   "metadata": {},
   "source": [
    "Dictionary is a collection which is **unordered**, **changeable** and **indexed**. **No duplicate key members**.\n",
    "\n",
    "Each item in `dict` is some key/value pairs."
   ]
  },
  {
   "cell_type": "markdown",
   "metadata": {},
   "source": [
    "In python, dictionaries are written with curly brackets, and they have keys and values."
   ]
  },
  {
   "cell_type": "code",
   "execution_count": 135,
   "metadata": {},
   "outputs": [
    {
     "name": "stdout",
     "output_type": "stream",
     "text": [
      "green\n",
      "red\n",
      "{'3': 'red', 2: 'blue', '1': 'green', 4: 'white', (3, 2, 2): 'black'}\n"
     ]
    }
   ],
   "source": [
    "# key value pairs\n",
    "my_dict = { \n",
    "    '3' : 'red',\n",
    "    2 : 'blue',\n",
    "    '1' : 'green',\n",
    "    4 : 'white',\n",
    "    (3,2,2) : 'black',\n",
    "}\n",
    "print(my_dict['1'])\n",
    "print(my_dict['3'])\n",
    "print(my_dict)"
   ]
  },
  {
   "cell_type": "markdown",
   "metadata": {},
   "source": [
    "**The `dict()` Constructor**\n",
    "\n",
    "Use the `dict()` constructor to create a dictionary."
   ]
  },
  {
   "cell_type": "code",
   "execution_count": 80,
   "metadata": {},
   "outputs": [
    {
     "name": "stdout",
     "output_type": "stream",
     "text": [
      "{'brand': 'Ford', 'model': 'Mustang', 'year': 1964}\n"
     ]
    }
   ],
   "source": [
    "this_dict = dict(brand=\"Ford\", model=\"Mustang\", year=1964)\n",
    "# note that keywords are not string literals\n",
    "# note the use of equals rather than colon for the assignment\n",
    "print(this_dict)"
   ]
  },
  {
   "cell_type": "markdown",
   "metadata": {},
   "source": [
    "**Accessing Items**"
   ]
  },
  {
   "cell_type": "code",
   "execution_count": 83,
   "metadata": {},
   "outputs": [
    {
     "name": "stdout",
     "output_type": "stream",
     "text": [
      "Ford Mustang\n"
     ]
    }
   ],
   "source": [
    "x = this_dict['brand']\n",
    "y = this_dict.get('model')\n",
    "\n",
    "print(x, y)"
   ]
  },
  {
   "cell_type": "markdown",
   "metadata": {},
   "source": [
    "**Change Values**"
   ]
  },
  {
   "cell_type": "code",
   "execution_count": 86,
   "metadata": {},
   "outputs": [
    {
     "name": "stdout",
     "output_type": "stream",
     "text": [
      "1965\n"
     ]
    }
   ],
   "source": [
    "this_dict['year'] = 1965\n",
    "print(this_dict['year'])"
   ]
  },
  {
   "cell_type": "markdown",
   "metadata": {},
   "source": [
    "**Iterate Through a Dictionary**"
   ]
  },
  {
   "cell_type": "code",
   "execution_count": 137,
   "metadata": {},
   "outputs": [
    {
     "name": "stdout",
     "output_type": "stream",
     "text": [
      "brand Ford\n",
      "model Mustang\n",
      "year 1965\n"
     ]
    }
   ],
   "source": [
    "for x in this_dict: # same as for x in this_dict.keys()\n",
    "    print(x, this_dict[x])"
   ]
  },
  {
   "cell_type": "code",
   "execution_count": 89,
   "metadata": {},
   "outputs": [
    {
     "name": "stdout",
     "output_type": "stream",
     "text": [
      "brand Ford\n",
      "model Mustang\n",
      "year 1965\n"
     ]
    }
   ],
   "source": [
    "for x in this_dict.keys():\n",
    "    print(x, this_dict[x])"
   ]
  },
  {
   "cell_type": "code",
   "execution_count": 90,
   "metadata": {},
   "outputs": [
    {
     "name": "stdout",
     "output_type": "stream",
     "text": [
      "Ford\n",
      "Mustang\n",
      "1965\n"
     ]
    }
   ],
   "source": [
    "for x in this_dict.values():\n",
    "    print(x)"
   ]
  },
  {
   "cell_type": "code",
   "execution_count": 93,
   "metadata": {},
   "outputs": [
    {
     "name": "stdout",
     "output_type": "stream",
     "text": [
      "brand Ford\n",
      "model Mustang\n",
      "year 1965\n"
     ]
    }
   ],
   "source": [
    "for x,y in this_dict.items(): # get the key/value pairs directly\n",
    "    print(x, y)"
   ]
  },
  {
   "cell_type": "code",
   "execution_count": 139,
   "metadata": {},
   "outputs": [
    {
     "name": "stdout",
     "output_type": "stream",
     "text": [
      "('brand', 'model', 'year')\n"
     ]
    }
   ],
   "source": [
    "t = tuple(this_dict.keys())\n",
    "print(t)"
   ]
  },
  {
   "cell_type": "markdown",
   "metadata": {},
   "source": [
    "**Adding Items**"
   ]
  },
  {
   "cell_type": "markdown",
   "metadata": {},
   "source": [
    "Note that `update()` method can change the associated value of a key to the value of this key in the new dictionary."
   ]
  },
  {
   "cell_type": "code",
   "execution_count": 144,
   "metadata": {},
   "outputs": [
    {
     "name": "stdout",
     "output_type": "stream",
     "text": [
      "{2: '4', 3: '9', 4: '16'}\n",
      "{4: '64', 5: '125', 6: '216', 7: '343'}\n",
      "{2: '4', 3: '9', 4: '16', 1: '1'}\n",
      "{2: '4', 3: '9', 4: '64', 1: '1', 5: '125', 6: '216', 7: '343'}\n"
     ]
    }
   ],
   "source": [
    "def exponent_dict(items, power):\n",
    "    result = dict()\n",
    "    for x in items:\n",
    "        # x = 2, power = 3\n",
    "        # result[2] = 2**3 = 2*2*2\n",
    "        result[x] = str(x**power)\n",
    "    return result\n",
    "    \n",
    "dict1 = exponent_dict(range(2,5), 2)\n",
    "dict2 = exponent_dict(range(4,8), 3)\n",
    "\n",
    "print(dict1)\n",
    "print(dict2)\n",
    "\n",
    "dict1[1] = '1'  # add a new key/value pair\n",
    "print(dict1)\n",
    "dict1.update(dict2) # use another dictionary to update the current dictionary\n",
    "\n",
    "print(dict1)"
   ]
  },
  {
   "cell_type": "markdown",
   "metadata": {},
   "source": [
    "**Removing Items**"
   ]
  },
  {
   "cell_type": "markdown",
   "metadata": {},
   "source": [
    "- The `pop()` method removes the item with the specified key name.\n",
    "- The `del` keyword removes the item with the specified key name\n",
    "- The `clear()` method empties the dictionary."
   ]
  },
  {
   "cell_type": "code",
   "execution_count": 103,
   "metadata": {},
   "outputs": [
    {
     "name": "stdout",
     "output_type": "stream",
     "text": [
      "{3: '9', 4: '64', 1: 1, 5: '125', 6: '216', 7: '343'}\n",
      "{4: '64', 1: 1, 5: '125', 6: '216', 7: '343'}\n",
      "{}\n"
     ]
    }
   ],
   "source": [
    "dict1.pop(2)\n",
    "print(dict1)\n",
    "\n",
    "del dict1[3]\n",
    "print(dict1)\n",
    "\n",
    "dict1.clear()\n",
    "print(dict1)"
   ]
  },
  {
   "cell_type": "markdown",
   "metadata": {},
   "source": [
    "**Built-in Methods**"
   ]
  },
  {
   "cell_type": "markdown",
   "metadata": {},
   "source": [
    "Method | Description\n",
    ":------|:-----------\n",
    "clear() | Removes all the elements from the dictionary\n",
    "copy() | Returns a copy of the dictionary\n",
    "fromkeys() | Returns a dictionary with the specified keys and value\n",
    "get() | Returns the value of the specified key\n",
    "items() | Returns a list containing a tuple for each key value pair\n",
    "keys() | Returns a list containing the dictionary's keys\n",
    "pop() | Removes the element with the specified key\n",
    "popitem() | Removes the last inserted key-value pair\n",
    "setdefault() | Returns the value of the specified key. If the key does not exist: insert the key, with the specified value\n",
    "update() | Updates the dictionary with the specified key-value pairs\n",
    "values() | Returns a list of all the values in the dictionary"
   ]
  },
  {
   "cell_type": "markdown",
   "metadata": {},
   "source": [
    "### 2.1.4 Set Types"
   ]
  },
  {
   "cell_type": "markdown",
   "metadata": {},
   "source": [
    "#### 1. `set`"
   ]
  },
  {
   "cell_type": "markdown",
   "metadata": {},
   "source": [
    "Set is a collection which is **unordered** and **unindexed**. **No duplicate members**.\n",
    "\n",
    "The `set` is a Python implementation of the set in Mathematics. A set object has suitable methods to perform mathematical set operations like union, intersection, difference, etc."
   ]
  },
  {
   "cell_type": "code",
   "execution_count": 48,
   "metadata": {},
   "outputs": [
    {
     "name": "stdout",
     "output_type": "stream",
     "text": [
      "{8, 9, 2, 5}\n"
     ]
    },
    {
     "ename": "TypeError",
     "evalue": "'set' object does not support indexing",
     "output_type": "error",
     "traceback": [
      "\u001b[1;31m---------------------------------------------------------------------------\u001b[0m",
      "\u001b[1;31mTypeError\u001b[0m                                 Traceback (most recent call last)",
      "\u001b[1;32m<ipython-input-48-8741e787725d>\u001b[0m in \u001b[0;36m<module>\u001b[1;34m\u001b[0m\n\u001b[0;32m      2\u001b[0m \u001b[0mprint\u001b[0m\u001b[1;33m(\u001b[0m\u001b[0ma\u001b[0m\u001b[1;33m)\u001b[0m\u001b[1;33m\u001b[0m\u001b[0m\n\u001b[0;32m      3\u001b[0m \u001b[1;33m\u001b[0m\u001b[0m\n\u001b[1;32m----> 4\u001b[1;33m \u001b[0ma\u001b[0m\u001b[1;33m[\u001b[0m\u001b[1;36m0\u001b[0m\u001b[1;33m]\u001b[0m\u001b[1;33m\u001b[0m\u001b[0m\n\u001b[0m",
      "\u001b[1;31mTypeError\u001b[0m: 'set' object does not support indexing"
     ]
    }
   ],
   "source": [
    "a = {5,2,8,9,9}\n",
    "print(a)\n",
    "\n",
    "a[0]"
   ]
  },
  {
   "cell_type": "markdown",
   "metadata": {},
   "source": [
    "**The `set()` Constructor**\n",
    "\n",
    "The `set()` constructor can also be used to create a `set`."
   ]
  },
  {
   "cell_type": "code",
   "execution_count": 145,
   "metadata": {},
   "outputs": [
    {
     "name": "stdout",
     "output_type": "stream",
     "text": [
      "{'banana', 'apple', 'cherry'}\n",
      "{0, 1, 2, 3, 4, 5, 6, 7, 8, 9}\n",
      "{2, 3, 4}\n"
     ]
    }
   ],
   "source": [
    "# from a list\n",
    "set1 = set([\"apple\", \"banana\", \"cherry\", \"apple\", \"cherry\"]) \n",
    "print(set1)\n",
    "\n",
    "# from a range\n",
    "set2 = set(range(10))\n",
    "print(set2)\n",
    "\n",
    "# from a tuple\n",
    "set3 = set((3, 2, 4, 2, 3))\n",
    "print(set3)"
   ]
  },
  {
   "cell_type": "markdown",
   "metadata": {},
   "source": [
    "**Accessing Items**"
   ]
  },
  {
   "cell_type": "code",
   "execution_count": 52,
   "metadata": {},
   "outputs": [
    {
     "name": "stdout",
     "output_type": "stream",
     "text": [
      "banana\n",
      "apple\n",
      "cherry\n",
      "\n",
      " True\n"
     ]
    }
   ],
   "source": [
    "this_set = {\"apple\", \"banana\", \"cherry\"}\n",
    "\n",
    "for x in this_set:\n",
    "    print(x)\n",
    "\n",
    "print('\\n', 'apple' in this_set)"
   ]
  },
  {
   "cell_type": "markdown",
   "metadata": {},
   "source": [
    "**Add Items**\n",
    "\n",
    "- To add one item to a set use the `add()` method.\n",
    "- To add more than one item to a set use the `update()` method."
   ]
  },
  {
   "cell_type": "code",
   "execution_count": 148,
   "metadata": {},
   "outputs": [
    {
     "name": "stdout",
     "output_type": "stream",
     "text": [
      "{'banana', 'orange', 'apple', 'cherry'}\n",
      "{'banana', 'cherry', 'mango', 'grapes', 'orange', 'apple'}\n"
     ]
    }
   ],
   "source": [
    "this_set = {\"apple\", \"banana\", \"cherry\"}\n",
    "\n",
    "this_set.add(\"orange\")\n",
    "print(this_set)\n",
    "\n",
    "this_set.update([\"apple\", \"banana\", \"orange\", \"mango\", \"grapes\"])\n",
    "print(this_set)"
   ]
  },
  {
   "cell_type": "markdown",
   "metadata": {},
   "source": [
    "**Delete Items**"
   ]
  },
  {
   "cell_type": "markdown",
   "metadata": {},
   "source": [
    "- Use `remove()` to remove a specific item.\n",
    "    -  If the item to remove does not exist, remove() will raise an error.\n",
    "- Use `discard()` to discard a specific item.\n",
    "    - If the item to discard does not exist, discard() will NOT raise an error.\n",
    "- The `clear()` method empties the set."
   ]
  },
  {
   "cell_type": "code",
   "execution_count": 151,
   "metadata": {},
   "outputs": [
    {
     "name": "stdout",
     "output_type": "stream",
     "text": [
      "The original set is:  {0, 1, 2, 3, 4}\n",
      "{0, 1, 3, 4}\n",
      "{0, 1, 4}\n",
      "set()\n"
     ]
    }
   ],
   "source": [
    "my_set = set(range(5)) # data structure\n",
    "print(\"The original set is: \", my_set)\n",
    "\n",
    "my_set.remove(2)\n",
    "# my_set.remove(2)\n",
    "print(my_set)\n",
    "\n",
    "my_set.discard(2)\n",
    "my_set.discard(3)\n",
    "print(my_set)\n",
    "\n",
    "my_set.clear()\n",
    "print(my_set)"
   ]
  },
  {
   "cell_type": "markdown",
   "metadata": {},
   "source": [
    "The `del` keyword will delete the set completely."
   ]
  },
  {
   "cell_type": "code",
   "execution_count": 59,
   "metadata": {},
   "outputs": [
    {
     "ename": "NameError",
     "evalue": "name 'a' is not defined",
     "output_type": "error",
     "traceback": [
      "\u001b[1;31m---------------------------------------------------------------------------\u001b[0m",
      "\u001b[1;31mNameError\u001b[0m                                 Traceback (most recent call last)",
      "\u001b[1;32m<ipython-input-59-8fa48220124a>\u001b[0m in \u001b[0;36m<module>\u001b[1;34m\u001b[0m\n\u001b[0;32m      1\u001b[0m \u001b[0ma\u001b[0m \u001b[1;33m=\u001b[0m \u001b[0mset\u001b[0m\u001b[1;33m(\u001b[0m\u001b[1;33m[\u001b[0m\u001b[1;36m3\u001b[0m\u001b[1;33m,\u001b[0m\u001b[1;36m2\u001b[0m\u001b[1;33m]\u001b[0m\u001b[1;33m)\u001b[0m\u001b[1;33m\u001b[0m\u001b[0m\n\u001b[0;32m      2\u001b[0m \u001b[1;32mdel\u001b[0m \u001b[0ma\u001b[0m\u001b[1;33m\u001b[0m\u001b[0m\n\u001b[1;32m----> 3\u001b[1;33m \u001b[0mprint\u001b[0m\u001b[1;33m(\u001b[0m\u001b[0ma\u001b[0m\u001b[1;33m)\u001b[0m\u001b[1;33m\u001b[0m\u001b[0m\n\u001b[0m",
      "\u001b[1;31mNameError\u001b[0m: name 'a' is not defined"
     ]
    }
   ],
   "source": [
    "a = set([3,2])\n",
    "del a\n",
    "print(a)"
   ]
  },
  {
   "cell_type": "markdown",
   "metadata": {},
   "source": [
    "**Join Two Sets**"
   ]
  },
  {
   "cell_type": "markdown",
   "metadata": {},
   "source": [
    "- The `union()` method returns a new set containing all items from both sets. \n",
    "- The `update()` method inserts all the items from one set into another."
   ]
  },
  {
   "cell_type": "code",
   "execution_count": 154,
   "metadata": {},
   "outputs": [
    {
     "name": "stdout",
     "output_type": "stream",
     "text": [
      "{1, 2, 3}\n",
      "{1, 2, 3, 4, 5}\n"
     ]
    }
   ],
   "source": [
    "a = {1, 2, 3}\n",
    "b = {3, 4, 5}\n",
    "\n",
    "c = a.union(b)\n",
    "print(a)\n",
    "t = a.update(b) # The Function of update() doesn't return anything, thus t is None.\n",
    "print(a)"
   ]
  },
  {
   "cell_type": "markdown",
   "metadata": {},
   "source": [
    "**Built-in methods**"
   ]
  },
  {
   "cell_type": "markdown",
   "metadata": {},
   "source": [
    "Method | Description\n",
    ":------|:-----------\n",
    "add() | Adds an element to the set\n",
    "clear() | Removes all the elements from the set\n",
    "copy() | Returns a copy of the set\n",
    "difference() | Returns a set containing the difference between two or more sets\n",
    "difference_update() | Removes the items in this set that are also included in another, specified set\n",
    "discard() | Remove the specified item\n",
    "intersection() | Returns a set, that is the intersection of two other sets\n",
    "intersection_update() | Removes the items in this set that are not present in other, specified set(s)\n",
    "isdisjoint() | Returns whether two sets have a intersection or not\n",
    "issubset() | Returns whether another set contains this set or not\n",
    "issuperset() | Returns whether this set contains another set or not\n",
    "pop() | Removes an element from the set\n",
    "remove() | Removes the specified element\n",
    "symmetric_difference() | Returns a set with the symmetric differences of two sets\n",
    "symmetric_difference_update() | inserts the symmetric differences from this set and another\n",
    "union() | Return a set containing the union of sets\n",
    "update() | Update the set with the union of this set and others"
   ]
  },
  {
   "cell_type": "markdown",
   "metadata": {},
   "source": [
    "![Python-Set-Operatioons](./figure/Python-Set-Operations.png)"
   ]
  },
  {
   "cell_type": "code",
   "execution_count": 163,
   "metadata": {},
   "outputs": [
    {
     "name": "stdout",
     "output_type": "stream",
     "text": [
      "{'banana', 'apple', 'cherry'} {'google', 'apple', 'microsoft'}\n",
      "{'google', 'microsoft'}\n",
      "{'banana', 'cherry'}\n",
      "{'banana', 'apple', 'cherry'}\n",
      "{'banana', 'cherry'}\n",
      "\n",
      "####################\n",
      "\n",
      "{'apple'}\n"
     ]
    }
   ],
   "source": [
    "# Return a set that contains the items that only exist in set x, and not in set y:\n",
    "\n",
    "x = {\"apple\", \"banana\", \"cherry\"}\n",
    "y = {\"google\", \"microsoft\", \"apple\"}\n",
    "\n",
    "z = x.difference(y)\n",
    "\n",
    "print(x, y)\n",
    "print(y.difference(x))\n",
    "print(z)\n",
    "\n",
    "\n",
    "# The difference_update() method removes the items that exist in both sets.\n",
    "print(x)\n",
    "x.difference_update(y)\n",
    "print(x)\n",
    "\n",
    "print('\\n' + '#' * 20 + '\\n')\n",
    "\n",
    "x = {\"apple\", \"banana\", \"cherry\"}\n",
    "y = {\"google\", \"microsoft\", \"apple\"}\n",
    "print(x.intersection(y))"
   ]
  },
  {
   "cell_type": "code",
   "execution_count": 70,
   "metadata": {},
   "outputs": [
    {
     "name": "stdout",
     "output_type": "stream",
     "text": [
      "True\n",
      "{'c', 'b', 'a'}\n"
     ]
    }
   ],
   "source": [
    "x = {\"a\", \"b\", \"c\"}\n",
    "y = {\"f\", \"e\", \"d\", \"c\", \"b\", \"a\"}\n",
    "\n",
    "print(x.issubset(y))\n",
    "\n",
    "print(x.intersection(y))"
   ]
  },
  {
   "cell_type": "markdown",
   "metadata": {},
   "source": [
    "### 2.1.5 Boolean Type"
   ]
  },
  {
   "cell_type": "markdown",
   "metadata": {},
   "source": [
    "### 2.1.6 Binary Types"
   ]
  },
  {
   "cell_type": "markdown",
   "metadata": {},
   "source": [
    "## 2.2 Mutable & Immutable Objects"
   ]
  },
  {
   "cell_type": "markdown",
   "metadata": {},
   "source": [
    "## 2.2 Assignment, Shallow Copy, Deep Copy "
   ]
  },
  {
   "cell_type": "code",
   "execution_count": null,
   "metadata": {},
   "outputs": [],
   "source": []
  }
 ],
 "metadata": {
  "kernelspec": {
   "display_name": "Python 3",
   "language": "python",
   "name": "python3"
  },
  "language_info": {
   "codemirror_mode": {
    "name": "ipython",
    "version": 3
   },
   "file_extension": ".py",
   "mimetype": "text/x-python",
   "name": "python",
   "nbconvert_exporter": "python",
   "pygments_lexer": "ipython3",
   "version": "3.6.6"
  }
 },
 "nbformat": 4,
 "nbformat_minor": 2
}

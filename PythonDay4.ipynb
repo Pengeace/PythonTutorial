{
 "cells": [
  {
   "cell_type": "markdown",
   "metadata": {},
   "source": [
    "# 1. Variables"
   ]
  },
  {
   "cell_type": "markdown",
   "metadata": {},
   "source": [
    "In programming, variables are used to store data values. Computations are performed on varialbes."
   ]
  },
  {
   "cell_type": "markdown",
   "metadata": {},
   "source": [
    "## 1.1 Creating"
   ]
  },
  {
   "cell_type": "markdown",
   "metadata": {},
   "source": [
    "A variable is created the first time you assign a value to it."
   ]
  },
  {
   "cell_type": "code",
   "execution_count": 5,
   "metadata": {},
   "outputs": [],
   "source": [
    "# Three examles\n",
    "n = 3\n",
    "\n",
    "a, b, c = 5, 3.2, \"Hello\"\n",
    "\n",
    "x = y = z = \"same\""
   ]
  },
  {
   "cell_type": "markdown",
   "metadata": {},
   "source": [
    "## 1.2 Dynamic Typing"
   ]
  },
  {
   "cell_type": "markdown",
   "metadata": {},
   "source": [
    "- One of the important features of Python is that it is a **dynamically-typed language**. \n",
    "\n",
    "\n",
    "- Programming languages such as C, C++, Java, and C# are statically-typed languages.\n",
    "    1. We must explicitly declare the data type of a variable before we use it.\n",
    "    2. We can not change the data type of a variable."
   ]
  },
  {
   "cell_type": "markdown",
   "metadata": {},
   "source": [
    "In Python, the data assigned to a variable decides its data type. "
   ]
  },
  {
   "cell_type": "code",
   "execution_count": 6,
   "metadata": {},
   "outputs": [
    {
     "name": "stdout",
     "output_type": "stream",
     "text": [
      "3 <class 'int'>\n",
      "apple <class 'str'>\n"
     ]
    }
   ],
   "source": [
    "a = 3\n",
    "print(a, type(a))\n",
    "\n",
    "a = 'apple'\n",
    "print(a, type(a))"
   ]
  },
  {
   "cell_type": "markdown",
   "metadata": {},
   "source": [
    "## 1.3 Scope"
   ]
  },
  {
   "cell_type": "markdown",
   "metadata": {},
   "source": [
    "A variable is only available from inside the region it is created. This is called scope."
   ]
  },
  {
   "cell_type": "markdown",
   "metadata": {},
   "source": [
    "### 1.3.1 Local Scope"
   ]
  },
  {
   "cell_type": "markdown",
   "metadata": {},
   "source": [
    "A variable created inside a function belongs to the local scope of that function, and can only be used inside that function."
   ]
  },
  {
   "cell_type": "code",
   "execution_count": 67,
   "metadata": {},
   "outputs": [
    {
     "name": "stdout",
     "output_type": "stream",
     "text": [
      "300\n"
     ]
    },
    {
     "ename": "NameError",
     "evalue": "name 'data' is not defined",
     "output_type": "error",
     "traceback": [
      "\u001b[1;31m---------------------------------------------------------------------------\u001b[0m",
      "\u001b[1;31mNameError\u001b[0m                                 Traceback (most recent call last)",
      "\u001b[1;32m<ipython-input-67-8cf1b55c685c>\u001b[0m in \u001b[0;36m<module>\u001b[1;34m\u001b[0m\n\u001b[0;32m      6\u001b[0m \u001b[1;33m\u001b[0m\u001b[0m\n\u001b[0;32m      7\u001b[0m \u001b[1;31m# This is wrong for the variable data could only be used inside myfunc().\u001b[0m\u001b[1;33m\u001b[0m\u001b[1;33m\u001b[0m\u001b[0m\n\u001b[1;32m----> 8\u001b[1;33m \u001b[0mprint\u001b[0m\u001b[1;33m(\u001b[0m\u001b[0mdata\u001b[0m\u001b[1;33m)\u001b[0m\u001b[1;33m\u001b[0m\u001b[0m\n\u001b[0m",
      "\u001b[1;31mNameError\u001b[0m: name 'data' is not defined"
     ]
    }
   ],
   "source": [
    "def myfunc():\n",
    "  data = 300\n",
    "  print(data)\n",
    "\n",
    "myfunc()\n",
    "\n",
    "# This is wrong for the variable data could only be used inside myfunc().\n",
    "print(data)"
   ]
  },
  {
   "cell_type": "code",
   "execution_count": 68,
   "metadata": {},
   "outputs": [
    {
     "name": "stdout",
     "output_type": "stream",
     "text": [
      "200\n",
      "300\n"
     ]
    }
   ],
   "source": [
    "x = 300\n",
    "\n",
    "def myfunc():\n",
    "  x = 200\n",
    "  print(x)\n",
    "\n",
    "myfunc()\n",
    "\n",
    "print(x)"
   ]
  },
  {
   "cell_type": "markdown",
   "metadata": {},
   "source": [
    "### 1.3.1 Global Scope"
   ]
  },
  {
   "cell_type": "markdown",
   "metadata": {},
   "source": [
    "Variables that are created outside of a function are known as global variables.\n",
    "\n",
    "Global variables can be used by everyone, both inside of functions and outside."
   ]
  },
  {
   "cell_type": "code",
   "execution_count": 18,
   "metadata": {},
   "outputs": [
    {
     "name": "stdout",
     "output_type": "stream",
     "text": [
      "Python is awesome.\n"
     ]
    }
   ],
   "source": [
    "x = \"awesome\"\n",
    "\n",
    "def myfunc():\n",
    "  print(\"Python is %s.\" % x)\n",
    "\n",
    "myfunc()"
   ]
  },
  {
   "cell_type": "markdown",
   "metadata": {},
   "source": [
    "**Global Keyword**\n",
    "\n",
    "If you need to create a global variable, but are stuck in the local scope, you can use the `global` keyword.\n",
    "\n",
    "The `global` keyword makes the variable global."
   ]
  },
  {
   "cell_type": "code",
   "execution_count": 20,
   "metadata": {},
   "outputs": [
    {
     "name": "stdout",
     "output_type": "stream",
     "text": [
      "Python is fantastic.\n"
     ]
    }
   ],
   "source": [
    "def myfunc():\n",
    "  global x\n",
    "  x = \"fantastic\"\n",
    "\n",
    "myfunc()\n",
    "\n",
    "print(\"Python is %s.\" % x)"
   ]
  },
  {
   "cell_type": "markdown",
   "metadata": {},
   "source": [
    "# 2. Data Types"
   ]
  },
  {
   "cell_type": "markdown",
   "metadata": {},
   "source": [
    "Every variable or value in Python has a data type. \n",
    "\n",
    "**In Python, all data types are actually classes** and variables are instances (objects) of these classes."
   ]
  },
  {
   "cell_type": "markdown",
   "metadata": {},
   "source": [
    "## 2.1 Built-in Types"
   ]
  },
  {
   "cell_type": "markdown",
   "metadata": {},
   "source": [
    "There are various built-in data types in Python as listed below."
   ]
  },
  {
   "cell_type": "markdown",
   "metadata": {},
   "source": [
    "- Numeric Types:\t`int`, `float`, `complex`\n",
    "- Sequence Types:\t`str`, `list`, `tuple`, `range`\n",
    "- Mapping Type:\t`dict`\n",
    "- Set Types:\t`set`, `frozenset`\n",
    "- Boolean Type:\t`bool`\n",
    "- Binary Types:\t`bytes`, `bytearray`, `memoryview`"
   ]
  },
  {
   "cell_type": "markdown",
   "metadata": {},
   "source": [
    "## 2.1.1 Numeric Types"
   ]
  },
  {
   "cell_type": "markdown",
   "metadata": {},
   "source": [
    "### int"
   ]
  },
  {
   "cell_type": "markdown",
   "metadata": {},
   "source": [
    "Integers can be of any length, it is only limited by the memory available.\n",
    "\n",
    "This means that python supports **arbitrarily large integers** naturally.\n",
    "\n",
    "The reason is that when a integer exceeds the boundaries of 32-bit, it will be automatically (and transparently) converted to a [bignum](https://www.python.org/dev/peps/pep-0237/)."
   ]
  },
  {
   "cell_type": "code",
   "execution_count": 27,
   "metadata": {},
   "outputs": [
    {
     "name": "stdout",
     "output_type": "stream",
     "text": [
      "2343295429572452752405324967324907324963240632496324890124905223152135709132750312752 <class 'int'>\n"
     ]
    }
   ],
   "source": [
    "a = 2343295429572452752405324967324907324963240632496324890124905223152135709132750312752\n",
    "print(a, type(a))"
   ]
  },
  {
   "cell_type": "markdown",
   "metadata": {},
   "source": [
    "### float"
   ]
  },
  {
   "cell_type": "markdown",
   "metadata": {},
   "source": [
    "A floating-point number has **limited 15–17 digits of precision**.\n",
    "\n",
    "Integers and floating points are separated by decimal points. 1 is an integer, 1.0 is a floating-point number."
   ]
  },
  {
   "cell_type": "code",
   "execution_count": 29,
   "metadata": {},
   "outputs": [
    {
     "name": "stdout",
     "output_type": "stream",
     "text": [
      "0.8888888888888888 <class 'float'>\n"
     ]
    }
   ],
   "source": [
    "f = 8 / 9\n",
    "print(f, type(f))"
   ]
  },
  {
   "cell_type": "markdown",
   "metadata": {},
   "source": [
    "Float can also be scientific numbers with an \"e\" or \"E\" to indicate the power (exponent) of 10."
   ]
  },
  {
   "cell_type": "code",
   "execution_count": 33,
   "metadata": {},
   "outputs": [
    {
     "name": "stdout",
     "output_type": "stream",
     "text": [
      "35000.0 <class 'float'>\n",
      "120000.0 <class 'float'>\n",
      "-8.77e+101 <class 'float'>\n"
     ]
    }
   ],
   "source": [
    "x = 35e3\n",
    "y = 12E4\n",
    "z = -87.7e100\n",
    "\n",
    "print(x, type(x))\n",
    "print(y, type(y))\n",
    "print(z, type(z))"
   ]
  },
  {
   "cell_type": "markdown",
   "metadata": {},
   "source": [
    "### complex"
   ]
  },
  {
   "cell_type": "markdown",
   "metadata": {},
   "source": [
    "Complex numbers are written in the form, `x + yj`, where `x` is the real part and `y` is the imaginary part."
   ]
  },
  {
   "cell_type": "code",
   "execution_count": 71,
   "metadata": {},
   "outputs": [
    {
     "name": "stdout",
     "output_type": "stream",
     "text": [
      "(3+5j) <class 'complex'>\n",
      "5j <class 'complex'>\n",
      "(-3-5j) <class 'complex'>\n",
      "(-1+0j)\n"
     ]
    }
   ],
   "source": [
    "x = 3+5j\n",
    "y = 5j\n",
    "z = -x\n",
    "\n",
    "print(x, type(x))\n",
    "print(y, type(y))\n",
    "print(z, type(z))\n",
    "\n",
    "# The square of j is -1\n",
    "n = 1j\n",
    "print(n*n)"
   ]
  },
  {
   "cell_type": "markdown",
   "metadata": {},
   "source": [
    "## 2.1.2 Sequence Types"
   ]
  },
  {
   "cell_type": "markdown",
   "metadata": {},
   "source": [
    "### str"
   ]
  },
  {
   "cell_type": "markdown",
   "metadata": {},
   "source": [
    "Strings in python are surrounded by either single quotation marks ('), or double quotation marks (\")."
   ]
  },
  {
   "cell_type": "code",
   "execution_count": 41,
   "metadata": {},
   "outputs": [
    {
     "name": "stdout",
     "output_type": "stream",
     "text": [
      "String\n",
      "String\n",
      "\n",
      "Strings can be created \n",
      "by enclosing characters \n",
      "inside a single quote or double-quotes.\n",
      "\n",
      "\n",
      "Strings can be created \n",
      "by enclosing characters \n",
      "inside a single quote or double-quotes.\n",
      "\n"
     ]
    }
   ],
   "source": [
    "# Four basic ways to create a string\n",
    "s1 = 'String'\n",
    "\n",
    "s2 = \"String\"\n",
    "\n",
    "s3 = '''\n",
    "Strings can be created \n",
    "by enclosing characters \n",
    "inside a single quote or double-quotes.\n",
    "'''\n",
    "\n",
    "s4 = \"\"\"\n",
    "Strings can be created \n",
    "by enclosing characters \n",
    "inside a single quote or double-quotes.\n",
    "\"\"\"\n",
    "\n",
    "print(s1)\n",
    "print(s2)\n",
    "print(s3)\n",
    "print(s4)"
   ]
  },
  {
   "cell_type": "markdown",
   "metadata": {},
   "source": [
    "**Escape Character**\n",
    "\n",
    "To insert characters that are illegal in a string, use an escape character.\n",
    "\n",
    "An escape character is a backslash `\\` followed by the character you want to insert."
   ]
  },
  {
   "cell_type": "markdown",
   "metadata": {},
   "source": [
    "Here are  escape characters used in Python.\n",
    "\n",
    "Code | Result\n",
    ":---|:--------\n",
    "\\\\' | Single Quote \n",
    "\\\\\" | Double Quote \n",
    "\\\\\\ | Backslash\n",
    "\\n | New Line\n",
    "\\r | Carriage Return\n",
    "\\t | Tab\n",
    "\\b | Backspace\n",
    "\\f | Form Feed\n",
    "\\ooo | Octal value\n",
    "\\xhh | Hex value"
   ]
  },
  {
   "cell_type": "code",
   "execution_count": 74,
   "metadata": {},
   "outputs": [
    {
     "name": "stdout",
     "output_type": "stream",
     "text": [
      "It's alright.\n",
      "\n",
      "This will insert one \\ (backslash).\n",
      "\n",
      "I want to change line \n",
      " here.\n"
     ]
    }
   ],
   "source": [
    "print('It\\'s alright.\\n') \n",
    "\n",
    "print(\"This will insert one \\\\ (backslash).\\n\") \n",
    "\n",
    "print('I want to change line \\n here.')"
   ]
  },
  {
   "cell_type": "markdown",
   "metadata": {},
   "source": [
    "**String Methods**\n",
    "\n",
    "Python has a set of built-in methods that you can use on strings.\n",
    "\n",
    "All string methods returns new values. They do not change the original string."
   ]
  },
  {
   "cell_type": "markdown",
   "metadata": {},
   "source": [
    "Method | Description\n",
    ":------|:-----------\n",
    "capitalize() | Converts the first character to upper case\n",
    "casefold() | Converts string into lower case\n",
    "center() | Returns a centered string\n",
    "count() | Returns the number of times a specified value occurs in a string\n",
    "encode() | Returns an encoded version of the string\n",
    "endswith() | Returns true if the string ends with the specified value\n",
    "expandtabs() | Sets the tab size of the string\n",
    "find() | Searches the string for a specified value and returns the position of where it was found\n",
    "format() | Formats specified values in a string\n",
    "format_map() | Formats specified values in a string\n",
    "index() | Searches the string for a specified value and returns the position of where it was found\n",
    "isalnum() | Returns True if all characters in the string are alphanumeric\n",
    "isalpha() | Returns True if all characters in the string are in the alphabet\n",
    "isdecimal() | Returns True if all characters in the string are decimals\n",
    "isdigit() | Returns True if all characters in the string are digits\n",
    "isidentifier() | Returns True if the string is an identifier\n",
    "islower() | Returns True if all characters in the string are lower case\n",
    "isnumeric() | Returns True if all characters in the string are numeric\n",
    "isprintable() | Returns True if all characters in the string are printable\n",
    "isspace() | Returns True if all characters in the string are whitespaces\n",
    "istitle() | Returns True if the string follows the rules of a title\n",
    "isupper() | Returns True if all characters in the string are upper case\n",
    "join() | Joins the elements of an iterable to the end of the string\n",
    "ljust() | Returns a left justified version of the string\n",
    "lower() | Converts a string into lower case\n",
    "lstrip() | Returns a left trim version of the string\n",
    "maketrans() | Returns a translation table to be used in translations\n",
    "partition() | Returns a tuple where the string is parted into three parts\n",
    "replace() | Returns a string where a specified value is replaced with a specified value\n",
    "rfind() | Searches the string for a specified value and returns the last position of where it was found\n",
    "rindex() | Searches the string for a specified value and returns the last position of where it was found\n",
    "rjust() | Returns a right justified version of the string\n",
    "rpartition() | Returns a tuple where the string is parted into three parts\n",
    "rsplit() | Splits the string at the specified separator, and returns a list\n",
    "rstrip() | Returns a right trim version of the string\n",
    "split() | Splits the string at the specified separator, and returns a list\n",
    "splitlines() | Splits the string at line breaks and returns a list\n",
    "startswith() | Returns true if the string starts with the specified value\n",
    "strip() | Returns a trimmed version of the string\n",
    "swapcase() | Swaps cases, lower case becomes upper case and vice versa\n",
    "title() | Converts the first character of each word to upper case\n",
    "translate() | Returns a translated string\n",
    "upper() | Converts a string into upper case\n",
    "zfill() | Fills the string with a specified number of 0 values at the beginning"
   ]
  },
  {
   "cell_type": "code",
   "execution_count": 75,
   "metadata": {},
   "outputs": [
    {
     "name": "stdout",
     "output_type": "stream",
     "text": [
      "string 'python' in python language.\n",
      "STRING 'PYTHON' IN PYTHON LANGUAGE.\n",
      "Python appears 2 times in this string.\n",
      "\n",
      "True\n",
      "False\n",
      "True\n",
      "\n",
      "\n",
      "red\n",
      "blue\n",
      "green\n",
      "black\n",
      "white\n"
     ]
    }
   ],
   "source": [
    "s = \"String \\'Python' in Python language.\"\n",
    "\n",
    "print(s.lower())\n",
    "print(s.upper())\n",
    "print(\"Python appears {} times in this string.\\n\".format(s.count('Python')))\n",
    "\n",
    "print('424'.isdigit())\n",
    "print('abcABC'.isdigit())\n",
    "print('abcABC'.isalpha())\n",
    "\n",
    "print('\\n')\n",
    "s1 = 'red, blue, green, black, white'\n",
    "for item in s1.split(', '):\n",
    "    print(item)"
   ]
  },
  {
   "cell_type": "markdown",
   "metadata": {},
   "source": [
    "**Indexing**\n",
    "\n",
    "Remember that the first character has the position 0."
   ]
  },
  {
   "cell_type": "code",
   "execution_count": 61,
   "metadata": {},
   "outputs": [
    {
     "name": "stdout",
     "output_type": "stream",
     "text": [
      "m\n"
     ]
    }
   ],
   "source": [
    "name = 'Kim'\n",
    "print(name[2])"
   ]
  },
  {
   "cell_type": "markdown",
   "metadata": {},
   "source": [
    "**Slicing**"
   ]
  },
  {
   "cell_type": "markdown",
   "metadata": {},
   "source": [
    "Slicing specify the start index and the end index of the wanted sub-string, separated by a colon, to return a part of the string.\n",
    "\n",
    "The character at the end index is **not included**.\n",
    "\n",
    "Negative Indexing: Use negative indexes to start the slice from the end of the string."
   ]
  },
  {
   "cell_type": "code",
   "execution_count": 78,
   "metadata": {},
   "outputs": [
    {
     "name": "stdout",
     "output_type": "stream",
     "text": [
      "llo\n",
      "orl\n"
     ]
    }
   ],
   "source": [
    "# Get the characters from position 2 to position 5 (not included):\n",
    "b = \"Hello, World!\"\n",
    "print(b[2:5])\n",
    "\n",
    "# Get the characters from position 5 to position 1 (not included), \n",
    "# starting the count from the end of the string:\n",
    "b = \"Hello, World!\"\n",
    "print(b[-5:-2])"
   ]
  },
  {
   "cell_type": "markdown",
   "metadata": {},
   "source": [
    "**Concatenation**"
   ]
  },
  {
   "cell_type": "code",
   "execution_count": 79,
   "metadata": {},
   "outputs": [
    {
     "name": "stdout",
     "output_type": "stream",
     "text": [
      "Apple belongs to fruits.\n"
     ]
    }
   ],
   "source": [
    "a = \"Apple\"\n",
    "b = \"fruits\"\n",
    "c = a + \" belongs to \" + b + \".\"\n",
    "\n",
    "print(c)"
   ]
  },
  {
   "cell_type": "markdown",
   "metadata": {},
   "source": [
    "**Length**"
   ]
  },
  {
   "cell_type": "code",
   "execution_count": 66,
   "metadata": {},
   "outputs": [
    {
     "name": "stdout",
     "output_type": "stream",
     "text": [
      "5\n"
     ]
    }
   ],
   "source": [
    "print(len('hello'))"
   ]
  },
  {
   "cell_type": "markdown",
   "metadata": {},
   "source": [
    "### list"
   ]
  },
  {
   "cell_type": "code",
   "execution_count": null,
   "metadata": {},
   "outputs": [],
   "source": []
  },
  {
   "cell_type": "markdown",
   "metadata": {},
   "source": [
    "### tuple"
   ]
  },
  {
   "cell_type": "markdown",
   "metadata": {},
   "source": [
    "### range"
   ]
  },
  {
   "cell_type": "markdown",
   "metadata": {},
   "source": [
    "## 2.1.3 Mapping Type"
   ]
  },
  {
   "cell_type": "markdown",
   "metadata": {},
   "source": [
    "## 2.1.4 Set Types"
   ]
  },
  {
   "cell_type": "markdown",
   "metadata": {},
   "source": [
    "## 2.1.5 Boolean Type"
   ]
  },
  {
   "cell_type": "markdown",
   "metadata": {},
   "source": [
    "## 2.1.6 Binary Types"
   ]
  },
  {
   "cell_type": "code",
   "execution_count": null,
   "metadata": {},
   "outputs": [],
   "source": []
  }
 ],
 "metadata": {
  "kernelspec": {
   "display_name": "Python 3",
   "language": "python",
   "name": "python3"
  },
  "language_info": {
   "codemirror_mode": {
    "name": "ipython",
    "version": 3
   },
   "file_extension": ".py",
   "mimetype": "text/x-python",
   "name": "python",
   "nbconvert_exporter": "python",
   "pygments_lexer": "ipython3",
   "version": "3.6.6"
  }
 },
 "nbformat": 4,
 "nbformat_minor": 2
}

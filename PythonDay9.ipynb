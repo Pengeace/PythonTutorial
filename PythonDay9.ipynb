{
 "cells": [
  {
   "cell_type": "markdown",
   "metadata": {},
   "source": [
    "# 1 Function"
   ]
  },
  {
   "cell_type": "markdown",
   "metadata": {},
   "source": [
    "## 1.1 Introduction"
   ]
  },
  {
   "cell_type": "markdown",
   "metadata": {},
   "source": [
    "A function is a group of organized statements that can complete a specific task.\n",
    "\n",
    "Why we use functions? \n",
    "\n",
    "In general, they has two main contributions to our program.\n",
    "\n",
    "1. Provide better **Program Modularity**.\n",
    "    - Functions help us to break our program into smaller and modular chunks. That is, our program will be more organized and managealbe by using functions.\n",
    "2. Improve **Code Reusablity**. \n",
    "    - It avoids repetition and makes the code reusable, so that we don't need to write similar code again and again in our project."
   ]
  },
  {
   "cell_type": "markdown",
   "metadata": {},
   "source": [
    "### 1.1.1 Syntax & Defination"
   ]
  },
  {
   "cell_type": "markdown",
   "metadata": {},
   "source": [
    "Below is the structue of a Python Fucntion."
   ]
  },
  {
   "cell_type": "markdown",
   "metadata": {},
   "source": [
    "```PYTHON\n",
    "def function_name(parameters):\n",
    "    \"\"\"docstring\"\"\"\n",
    "    statement(s)\n",
    "    return result\n",
    "```"
   ]
  },
  {
   "cell_type": "markdown",
   "metadata": {},
   "source": [
    "A function is made up of following components.\n",
    "\n",
    "1. Keyword `def`to start the **function header**.\n",
    "2. Function identifier (name).\n",
    "3. **Inputs**: Parameters (arguments). [Optional].\n",
    "4. A colon (:) to end the herder.\n",
    "5. Documentation string (docstring) as function explanation. [Optional].\n",
    "6. Python statements as **function body**.\n",
    "7. **Outputs**: `return` statements(s) to pass out results. [Optional]."
   ]
  },
  {
   "cell_type": "markdown",
   "metadata": {},
   "source": [
    "### 1.1.2 Example"
   ]
  },
  {
   "cell_type": "markdown",
   "metadata": {},
   "source": [
    "Calculate factoril of a given number.\n",
    "\n",
    "$$ f(n) = \\left\\{\n",
    "\\begin{array}{l}\n",
    "n \\times f(n-1) & (n>1) \\\\\n",
    "1  & (n=1).\\\\\n",
    "\\end{array}\n",
    "\\right.\n",
    "$$"
   ]
  },
  {
   "cell_type": "code",
   "execution_count": 23,
   "metadata": {},
   "outputs": [],
   "source": [
    "def recursive_factorial(n):\n",
    "    \"\"\"\n",
    "    This function calculate the factorial\n",
    "    of the input positive integer number n,\n",
    "    implemented in a recursive manner.\n",
    "    \"\"\"\n",
    "    if n > 1:\n",
    "        return n * recursive_factorial(n-1)\n",
    "    else:\n",
    "        return 1"
   ]
  },
  {
   "cell_type": "markdown",
   "metadata": {},
   "source": [
    "- To **Call** this function with the input argument 5."
   ]
  },
  {
   "cell_type": "code",
   "execution_count": 24,
   "metadata": {},
   "outputs": [
    {
     "data": {
      "text/plain": [
       "120"
      ]
     },
     "execution_count": 24,
     "metadata": {},
     "output_type": "execute_result"
    }
   ],
   "source": [
    "recursive_factorial(5)"
   ]
  },
  {
   "cell_type": "markdown",
   "metadata": {},
   "source": [
    "- About `docstring`"
   ]
  },
  {
   "cell_type": "markdown",
   "metadata": {},
   "source": [
    "The first string after the function header is called the docstring (documentation string). It is briefly used to explain what a function does.\n",
    "\n",
    "\n",
    "Although optional, documentation is **a good programming style**. \n",
    "\n",
    "We generally use triple quotes so that docstring can extend up to multiple lines. This string is available to us as the `__doc__` attribute of the function."
   ]
  },
  {
   "cell_type": "code",
   "execution_count": 25,
   "metadata": {},
   "outputs": [
    {
     "name": "stdout",
     "output_type": "stream",
     "text": [
      "\n",
      "    This function calculate the factorial\n",
      "    of the input positive integer number n,\n",
      "    implemented in a recursive manner.\n",
      "    \n"
     ]
    }
   ],
   "source": [
    "print(recursive_factorial.__doc__)"
   ]
  },
  {
   "cell_type": "markdown",
   "metadata": {},
   "source": [
    "### 1.1.3 Built-in Functions"
   ]
  },
  {
   "cell_type": "markdown",
   "metadata": {},
   "source": [
    "The Python interpreter has a number of functions and types built into it that are always available. They are listed here in alphabetical order."
   ]
  },
  {
   "cell_type": "markdown",
   "metadata": {},
   "source": [
    "Function | Description\n",
    ":------|:---------------\n",
    "abs() | Returns the absolute value of a number\n",
    "all() | Returns True if all items in an iterable object are true\n",
    "any() | Returns True if any item in an iterable object is true\n",
    "ascii() | Returns a readable version of an object. Replaces none-ascii characters with escape character\n",
    "bin() | Returns the binary version of a number\n",
    "bool() | Returns the boolean value of the specified object\n",
    "bytearray() | Returns an array of bytes\n",
    "bytes() | Returns a bytes object\n",
    "callable() | Returns True if the specified object is callable, otherwise False\n",
    "chr() | Returns a character from the specified Unicode code.\n",
    "classmethod() | Converts a method into a class method\n",
    "compile() | Returns the specified source as an object, ready to be executed\n",
    "complex() | Returns a complex number\n",
    "delattr() | Deletes the specified attribute (property or method) from the specified object\n",
    "dict() | Returns a dictionary (Array)\n",
    "dir() | Returns a list of the specified object's properties and methods\n",
    "divmod() | Returns the quotient and the remainder when argument1 is divided by argument2\n",
    "enumerate() | Takes a collection (e.g. a tuple) and returns it as an enumerate object\n",
    "eval() | Evaluates and executes an expression\n",
    "exec() | Executes the specified code (or object)\n",
    "filter() | Use a filter function to exclude items in an iterable object\n",
    "float() | Returns a floating point number\n",
    "format() | Formats a specified value\n",
    "frozenset() | Returns a frozenset object\n",
    "getattr() | Returns the value of the specified attribute (property or method)\n",
    "globals() | Returns the current global symbol table as a dictionary\n",
    "hasattr() | Returns True if the specified object has the specified attribute (property/method)\n",
    "hash() | Returns the hash value of a specified object\n",
    "help() | Executes the built-in help system\n",
    "hex() | Converts a number into a hexadecimal value\n",
    "id() | Returns the id of an object\n",
    "input() | Allowing user input\n",
    "int() | Returns an integer number\n",
    "isinstance() | Returns True if a specified object is an instance of a specified object\n",
    "issubclass() | Returns True if a specified class is a subclass of a specified object\n",
    "iter() | Returns an iterator object\n",
    "len() | Returns the length of an object\n",
    "list() | Returns a list\n",
    "locals() | Returns an updated dictionary of the current local symbol table\n",
    "map() | Returns the specified iterator with the specified function applied to each item\n",
    "max() | Returns the largest item in an iterable\n",
    "memoryview() | Returns a memory view object\n",
    "min() | Returns the smallest item in an iterable\n",
    "next() | Returns the next item in an iterable\n",
    "object() | Returns a new object\n",
    "oct() | Converts a number into an octal\n",
    "open() | Opens a file and returns a file object\n",
    "ord() | Convert an integer representing the Unicode of the specified character\n",
    "pow() | Returns the value of x to the power of y\n",
    "print() | Prints to the standard output device\n",
    "property() | Gets, sets, deletes a property\n",
    "range() | Returns a sequence of numbers, starting from 0 and increments by 1 (by default)\n",
    "repr() | Returns a readable version of an object\n",
    "reversed() | Returns a reversed iterator\n",
    "round() | Rounds a numbers\n",
    "set() | Returns a new set object\n",
    "setattr() | Sets an attribute (property/method) of an object\n",
    "slice() | Returns a slice object\n",
    "sorted() | Returns a sorted list\n",
    "staticmethod() | Converts a method into a static method\n",
    "str() | Returns a string object\n",
    "sum() | Sums the items of an iterator\n",
    "super() | Returns an object that represents the parent class\n",
    "tuple() | Returns a tuple\n",
    "type() | Returns the type of an object\n",
    "vars() | Returns the __dict__ property of an object\n",
    "zip() | Returns an iterator, from two or more iterators"
   ]
  },
  {
   "cell_type": "markdown",
   "metadata": {},
   "source": [
    "Here are some examples to demonstrate the usages of some of them."
   ]
  },
  {
   "cell_type": "markdown",
   "metadata": {},
   "source": [
    "- Find the smallest and largest items inside an iterable."
   ]
  },
  {
   "cell_type": "code",
   "execution_count": 34,
   "metadata": {},
   "outputs": [
    {
     "name": "stdout",
     "output_type": "stream",
     "text": [
      "The numbers are: [3, 9, 0, 99, 85, 96, 6, 69, 51, 41]\n",
      "The smallest one is : 0\n",
      "The largest one is : 99\n"
     ]
    }
   ],
   "source": [
    "import random\n",
    "\n",
    "nums = [random.randint(0, 100) for i in range(10)]\n",
    "print(\"The numbers are: \" + str(nums))\n",
    "\n",
    "print(\"The smallest one is :\", min(nums))\n",
    "print(\"The largest one is :\", max(nums))"
   ]
  },
  {
   "cell_type": "markdown",
   "metadata": {},
   "source": [
    "- Get the sum of all the items inside an iterable."
   ]
  },
  {
   "cell_type": "code",
   "execution_count": 35,
   "metadata": {},
   "outputs": [
    {
     "name": "stdout",
     "output_type": "stream",
     "text": [
      "The sum of these numbers is : 459\n"
     ]
    }
   ],
   "source": [
    "print(\"The sum of these numbers is :\", sum(nums))"
   ]
  },
  {
   "cell_type": "markdown",
   "metadata": {},
   "source": [
    "- Sort"
   ]
  },
  {
   "cell_type": "markdown",
   "metadata": {},
   "source": [
    "Use `sorted` function to perform it. \n",
    "\n",
    "Firstly, let's see the explanation of this function."
   ]
  },
  {
   "cell_type": "code",
   "execution_count": 37,
   "metadata": {},
   "outputs": [
    {
     "name": "stdout",
     "output_type": "stream",
     "text": [
      "Return a new list containing all items from the iterable in ascending order.\n",
      "\n",
      "A custom key function can be supplied to customize the sort order, and the\n",
      "reverse flag can be set to request the result in descending order.\n"
     ]
    }
   ],
   "source": [
    "print(sorted.__doc__)"
   ]
  },
  {
   "cell_type": "markdown",
   "metadata": {},
   "source": [
    "Secondly, let's try some examples."
   ]
  },
  {
   "cell_type": "code",
   "execution_count": 38,
   "metadata": {},
   "outputs": [
    {
     "name": "stdout",
     "output_type": "stream",
     "text": [
      "Sort these numbers in ascending order: [0, 3, 6, 9, 41, 51, 69, 85, 96, 99]\n",
      "Sort these numbers in descending order: [99, 96, 85, 69, 51, 41, 9, 6, 3, 0]\n"
     ]
    }
   ],
   "source": [
    "print(\"Sort these numbers in ascending order:\", sorted(nums))\n",
    "print(\"Sort these numbers in descending order:\", sorted(nums, reverse=True))"
   ]
  },
  {
   "cell_type": "markdown",
   "metadata": {},
   "source": [
    "Let's sort these numbers in customized ranking mannner."
   ]
  },
  {
   "cell_type": "code",
   "execution_count": 40,
   "metadata": {},
   "outputs": [
    {
     "data": {
      "text/plain": [
       "[0, 85, 96, 6, 51, 41, 3, 9, 99, 69]"
      ]
     },
     "execution_count": 40,
     "metadata": {},
     "output_type": "execute_result"
    }
   ],
   "source": [
    "sorted(nums, key=lambda x: x % 5)"
   ]
  },
  {
   "cell_type": "markdown",
   "metadata": {},
   "source": [
    "## 1.2 More on Input Arguments"
   ]
  },
  {
   "cell_type": "code",
   "execution_count": null,
   "metadata": {},
   "outputs": [],
   "source": []
  }
 ],
 "metadata": {
  "kernelspec": {
   "display_name": "Python 3",
   "language": "python",
   "name": "python3"
  },
  "language_info": {
   "codemirror_mode": {
    "name": "ipython",
    "version": 3
   },
   "file_extension": ".py",
   "mimetype": "text/x-python",
   "name": "python",
   "nbconvert_exporter": "python",
   "pygments_lexer": "ipython3",
   "version": "3.6.6"
  }
 },
 "nbformat": 4,
 "nbformat_minor": 2
}

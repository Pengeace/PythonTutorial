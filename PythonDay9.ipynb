{
 "cells": [
  {
   "cell_type": "markdown",
   "metadata": {},
   "source": [
    "# 1 Function"
   ]
  },
  {
   "cell_type": "markdown",
   "metadata": {},
   "source": [
    "## 1.1 Introduction"
   ]
  },
  {
   "cell_type": "markdown",
   "metadata": {},
   "source": [
    "A function is a group of organized statements that can complete a specific task.\n",
    "\n",
    "Why we use functions? \n",
    "\n",
    "In general, they has two main contributions to our program.\n",
    "\n",
    "1. Provide better **Program Modularity**.\n",
    "    - Functions help us to break our program into smaller and modular chunks. That is, our program will be more organized and managealbe by using functions.\n",
    "2. Improve **Code Reusablity**. \n",
    "    - It avoids repetition and makes the code reusable, so that we don't need to write similar code again and again in our project."
   ]
  },
  {
   "cell_type": "markdown",
   "metadata": {},
   "source": [
    "### 1.1.1 Syntax & Defination"
   ]
  },
  {
   "cell_type": "markdown",
   "metadata": {},
   "source": [
    "Below is the structue of a Python Fucntion."
   ]
  },
  {
   "cell_type": "markdown",
   "metadata": {},
   "source": [
    "```PYTHON\n",
    "def function_name(parameters):\n",
    "    \"\"\"docstring\"\"\"\n",
    "    statement(s)\n",
    "    return result\n",
    "```"
   ]
  },
  {
   "cell_type": "markdown",
   "metadata": {},
   "source": [
    "A function is made up of following components.\n",
    "\n",
    "1. Keyword `def`to start the **function header**.\n",
    "2. Function identifier (name).\n",
    "3. **Inputs**: Parameters (arguments). [Optional].\n",
    "4. A colon (:) to end the herder.\n",
    "5. Documentation string (docstring) as function explanation. [Optional].\n",
    "6. Python statements as **function body**.\n",
    "7. **Outputs**: `return` statements(s) to pass out results. [Optional]."
   ]
  },
  {
   "cell_type": "markdown",
   "metadata": {},
   "source": [
    "### 1.1.2 Example"
   ]
  },
  {
   "cell_type": "markdown",
   "metadata": {},
   "source": [
    "Calculate factoril of a given number.\n",
    "\n",
    "$$ f(n) = \\left\\{\n",
    "\\begin{array}{l}\n",
    "n \\times f(n-1) & (n>1) \\\\\n",
    "1  & (n=1).\\\\\n",
    "\\end{array}\n",
    "\\right.\n",
    "$$"
   ]
  },
  {
   "cell_type": "code",
   "execution_count": 1,
   "metadata": {},
   "outputs": [],
   "source": [
    "def recursive_factorial(n):\n",
    "    \"\"\"\n",
    "    This function calculate the factorial\n",
    "    of the input positive integer number n,\n",
    "    implemented in a recursive manner.\n",
    "    \"\"\"\n",
    "    if n > 1:\n",
    "        return n * recursive_factorial(n-1)\n",
    "    else:\n",
    "        return 1"
   ]
  },
  {
   "cell_type": "markdown",
   "metadata": {},
   "source": [
    "- To **Call** this function with the input argument 5."
   ]
  },
  {
   "cell_type": "code",
   "execution_count": 2,
   "metadata": {},
   "outputs": [
    {
     "data": {
      "text/plain": [
       "120"
      ]
     },
     "execution_count": 2,
     "metadata": {},
     "output_type": "execute_result"
    }
   ],
   "source": [
    "recursive_factorial(5)"
   ]
  },
  {
   "cell_type": "markdown",
   "metadata": {},
   "source": [
    "- About `docstring`"
   ]
  },
  {
   "cell_type": "markdown",
   "metadata": {},
   "source": [
    "The first string after the function header is called the docstring (documentation string). It is briefly used to explain what a function does.\n",
    "\n",
    "\n",
    "Although optional, documentation is **a good programming style**. \n",
    "\n",
    "We generally use triple quotes so that docstring can extend up to multiple lines. This string is available to us as the `__doc__` attribute of the function."
   ]
  },
  {
   "cell_type": "code",
   "execution_count": 3,
   "metadata": {},
   "outputs": [
    {
     "name": "stdout",
     "output_type": "stream",
     "text": [
      "\n",
      "    This function calculate the factorial\n",
      "    of the input positive integer number n,\n",
      "    implemented in a recursive manner.\n",
      "    \n"
     ]
    }
   ],
   "source": [
    "print(recursive_factorial.__doc__)"
   ]
  },
  {
   "cell_type": "markdown",
   "metadata": {},
   "source": [
    "### 1.1.3 Built-in Functions"
   ]
  },
  {
   "cell_type": "markdown",
   "metadata": {},
   "source": [
    "The Python interpreter has a number of functions and types built into it that are always available. They are listed here in alphabetical order."
   ]
  },
  {
   "cell_type": "markdown",
   "metadata": {},
   "source": [
    "Function | Description\n",
    ":------|:---------------\n",
    "abs() | Returns the absolute value of a number\n",
    "all() | Returns True if all items in an iterable object are true\n",
    "any() | Returns True if any item in an iterable object is true\n",
    "ascii() | Returns a readable version of an object. Replaces none-ascii characters with escape character\n",
    "bin() | Returns the binary version of a number\n",
    "bool() | Returns the boolean value of the specified object\n",
    "bytearray() | Returns an array of bytes\n",
    "bytes() | Returns a bytes object\n",
    "callable() | Returns True if the specified object is callable, otherwise False\n",
    "chr() | Returns a character from the specified Unicode code.\n",
    "classmethod() | Converts a method into a class method\n",
    "compile() | Returns the specified source as an object, ready to be executed\n",
    "complex() | Returns a complex number\n",
    "delattr() | Deletes the specified attribute (property or method) from the specified object\n",
    "dict() | Returns a dictionary (Array)\n",
    "dir() | Returns a list of the specified object's properties and methods\n",
    "divmod() | Returns the quotient and the remainder when argument1 is divided by argument2\n",
    "enumerate() | Takes a collection (e.g. a tuple) and returns it as an enumerate object\n",
    "eval() | Evaluates and executes an expression\n",
    "exec() | Executes the specified code (or object)\n",
    "filter() | Use a filter function to exclude items in an iterable object\n",
    "float() | Returns a floating point number\n",
    "format() | Formats a specified value\n",
    "frozenset() | Returns a frozenset object\n",
    "getattr() | Returns the value of the specified attribute (property or method)\n",
    "globals() | Returns the current global symbol table as a dictionary\n",
    "hasattr() | Returns True if the specified object has the specified attribute (property/method)\n",
    "hash() | Returns the hash value of a specified object\n",
    "help() | Executes the built-in help system\n",
    "hex() | Converts a number into a hexadecimal value\n",
    "id() | Returns the id of an object\n",
    "input() | Allowing user input\n",
    "int() | Returns an integer number\n",
    "isinstance() | Returns True if a specified object is an instance of a specified object\n",
    "issubclass() | Returns True if a specified class is a subclass of a specified object\n",
    "iter() | Returns an iterator object\n",
    "len() | Returns the length of an object\n",
    "list() | Returns a list\n",
    "locals() | Returns an updated dictionary of the current local symbol table\n",
    "map() | Returns the specified iterator with the specified function applied to each item\n",
    "max() | Returns the largest item in an iterable\n",
    "memoryview() | Returns a memory view object\n",
    "min() | Returns the smallest item in an iterable\n",
    "next() | Returns the next item in an iterable\n",
    "object() | Returns a new object\n",
    "oct() | Converts a number into an octal\n",
    "open() | Opens a file and returns a file object\n",
    "ord() | Convert an integer representing the Unicode of the specified character\n",
    "pow() | Returns the value of x to the power of y\n",
    "print() | Prints to the standard output device\n",
    "property() | Gets, sets, deletes a property\n",
    "range() | Returns a sequence of numbers, starting from 0 and increments by 1 (by default)\n",
    "repr() | Returns a readable version of an object\n",
    "reversed() | Returns a reversed iterator\n",
    "round() | Rounds a numbers\n",
    "set() | Returns a new set object\n",
    "setattr() | Sets an attribute (property/method) of an object\n",
    "slice() | Returns a slice object\n",
    "sorted() | Returns a sorted list\n",
    "staticmethod() | Converts a method into a static method\n",
    "str() | Returns a string object\n",
    "sum() | Sums the items of an iterator\n",
    "super() | Returns an object that represents the parent class\n",
    "tuple() | Returns a tuple\n",
    "type() | Returns the type of an object\n",
    "vars() | Returns the __dict__ property of an object\n",
    "zip() | Returns an iterator, from two or more iterators"
   ]
  },
  {
   "cell_type": "markdown",
   "metadata": {},
   "source": [
    "Here are some examples to demonstrate the usages of some of them."
   ]
  },
  {
   "cell_type": "markdown",
   "metadata": {},
   "source": [
    "- Find the smallest and largest items inside an iterable."
   ]
  },
  {
   "cell_type": "code",
   "execution_count": 4,
   "metadata": {},
   "outputs": [
    {
     "name": "stdout",
     "output_type": "stream",
     "text": [
      "The numbers are: [2, 46, 12, 56, 22, 44, 58, 1, 85, 99]\n",
      "The smallest one is : 1\n",
      "The largest one is : 99\n"
     ]
    }
   ],
   "source": [
    "import random\n",
    "\n",
    "nums = [random.randint(0, 100) for i in range(10)]\n",
    "print(\"The numbers are: \" + str(nums))\n",
    "\n",
    "print(\"The smallest one is :\", min(nums))\n",
    "print(\"The largest one is :\", max(nums))"
   ]
  },
  {
   "cell_type": "markdown",
   "metadata": {},
   "source": [
    "- Get the sum of all the items inside an iterable."
   ]
  },
  {
   "cell_type": "code",
   "execution_count": 5,
   "metadata": {},
   "outputs": [
    {
     "name": "stdout",
     "output_type": "stream",
     "text": [
      "The sum of these numbers is : 425\n"
     ]
    }
   ],
   "source": [
    "print(\"The sum of these numbers is :\", sum(nums))"
   ]
  },
  {
   "cell_type": "markdown",
   "metadata": {},
   "source": [
    "- Sort"
   ]
  },
  {
   "cell_type": "markdown",
   "metadata": {},
   "source": [
    "Use `sorted` function to perform it. \n",
    "\n",
    "Firstly, let's see the explanation of this function."
   ]
  },
  {
   "cell_type": "code",
   "execution_count": 6,
   "metadata": {},
   "outputs": [
    {
     "name": "stdout",
     "output_type": "stream",
     "text": [
      "Return a new list containing all items from the iterable in ascending order.\n",
      "\n",
      "A custom key function can be supplied to customize the sort order, and the\n",
      "reverse flag can be set to request the result in descending order.\n"
     ]
    }
   ],
   "source": [
    "print(sorted.__doc__)"
   ]
  },
  {
   "cell_type": "markdown",
   "metadata": {},
   "source": [
    "Secondly, let's try some examples."
   ]
  },
  {
   "cell_type": "code",
   "execution_count": 7,
   "metadata": {},
   "outputs": [
    {
     "name": "stdout",
     "output_type": "stream",
     "text": [
      "Sort these numbers in ascending order: [1, 2, 12, 22, 44, 46, 56, 58, 85, 99]\n",
      "Sort these numbers in descending order: [99, 85, 58, 56, 46, 44, 22, 12, 2, 1]\n"
     ]
    }
   ],
   "source": [
    "print(\"Sort these numbers in ascending order:\", sorted(nums))\n",
    "print(\"Sort these numbers in descending order:\", sorted(nums, reverse=True))"
   ]
  },
  {
   "cell_type": "markdown",
   "metadata": {},
   "source": [
    "Let's sort these numbers in customized ranking mannner."
   ]
  },
  {
   "cell_type": "code",
   "execution_count": 8,
   "metadata": {},
   "outputs": [
    {
     "data": {
      "text/plain": [
       "[85, 46, 56, 1, 2, 12, 22, 58, 44, 99]"
      ]
     },
     "execution_count": 8,
     "metadata": {},
     "output_type": "execute_result"
    }
   ],
   "source": [
    "sorted(nums, key=lambda x: x % 5)"
   ]
  },
  {
   "cell_type": "markdown",
   "metadata": {},
   "source": [
    "## 1.2 More on Input Arguments"
   ]
  },
  {
   "cell_type": "markdown",
   "metadata": {},
   "source": [
    "The terms parameter and argument can be used for the same thing: information that are passed into a function.\n",
    "\n",
    "From a function's perspective:\n",
    "\n",
    "- A parameter is the variable listed inside the parentheses in the function definition.\n",
    "\n",
    "- An argument is the value that is sent to the function when it is called.\n",
    "\n",
    "But in many cases, we don't clearly distinguish these two terms."
   ]
  },
  {
   "cell_type": "markdown",
   "metadata": {},
   "source": [
    "### 1.2.1 Number of Arguments"
   ]
  },
  {
   "cell_type": "markdown",
   "metadata": {},
   "source": [
    "For most functions, we must assign a value for each parameter. \n",
    "\n",
    "That is, the number of objects passed into the function must be equal to the number of function paremeters."
   ]
  },
  {
   "cell_type": "code",
   "execution_count": 9,
   "metadata": {},
   "outputs": [],
   "source": [
    "def greet(name, msg):\n",
    "    \"\"\"This function greets to\n",
    "    the person with the provided message.\"\"\"\n",
    "    print(\"Hello\" + \" \" + name + ', ' + msg)"
   ]
  },
  {
   "cell_type": "code",
   "execution_count": 10,
   "metadata": {},
   "outputs": [
    {
     "name": "stdout",
     "output_type": "stream",
     "text": [
      "Hello Summer, Good evening!\n"
     ]
    }
   ],
   "source": [
    "greet(\"Summer\", \"Good evening!\")"
   ]
  },
  {
   "cell_type": "markdown",
   "metadata": {},
   "source": [
    "If I don't provide enough arguments, an error will appear."
   ]
  },
  {
   "cell_type": "code",
   "execution_count": 11,
   "metadata": {},
   "outputs": [
    {
     "ename": "TypeError",
     "evalue": "greet() missing 1 required positional argument: 'msg'",
     "output_type": "error",
     "traceback": [
      "\u001b[1;31m---------------------------------------------------------------------------\u001b[0m",
      "\u001b[1;31mTypeError\u001b[0m                                 Traceback (most recent call last)",
      "\u001b[1;32m<ipython-input-11-3acdf4061922>\u001b[0m in \u001b[0;36m<module>\u001b[1;34m\u001b[0m\n\u001b[1;32m----> 1\u001b[1;33m \u001b[0mgreet\u001b[0m\u001b[1;33m(\u001b[0m\u001b[1;34m\"Mike\"\u001b[0m\u001b[1;33m)\u001b[0m\u001b[1;33m\u001b[0m\u001b[0m\n\u001b[0m",
      "\u001b[1;31mTypeError\u001b[0m: greet() missing 1 required positional argument: 'msg'"
     ]
    }
   ],
   "source": [
    "greet(\"Mike\")"
   ]
  },
  {
   "cell_type": "markdown",
   "metadata": {},
   "source": [
    "In Python, there are other ways to define a function that can take **variable number of arguments**.\n",
    "\n",
    "Three different forms of this type are described below."
   ]
  },
  {
   "cell_type": "markdown",
   "metadata": {},
   "source": [
    "### 1.2.1 Default Arguments"
   ]
  },
  {
   "cell_type": "markdown",
   "metadata": {},
   "source": [
    "A default argument is **a parameter that assumes a default value** if a value is not provided in the function call for that argument.\n",
    "\n",
    "If a value is provided, it will overwrite the default value."
   ]
  },
  {
   "cell_type": "code",
   "execution_count": 12,
   "metadata": {},
   "outputs": [],
   "source": [
    "def greet(name, msg = \"Nice to meet you!\"):\n",
    "    \"\"\"\n",
    "    This function greets to\n",
    "    the person with the\n",
    "    provided message.\n",
    "\n",
    "    If the message is not provided,\n",
    "    it defaults to \"Nice to meet you!\".\n",
    "    \"\"\"\n",
    "    print(\"Hello\", name + ', ' + msg)"
   ]
  },
  {
   "cell_type": "code",
   "execution_count": 13,
   "metadata": {},
   "outputs": [
    {
     "name": "stdout",
     "output_type": "stream",
     "text": [
      "Hello Summer, Good evening!\n"
     ]
    }
   ],
   "source": [
    "greet(\"Summer\",  \"Good evening!\")"
   ]
  },
  {
   "cell_type": "code",
   "execution_count": 14,
   "metadata": {},
   "outputs": [
    {
     "name": "stdout",
     "output_type": "stream",
     "text": [
      "Hello Mike, Nice to meet you!\n"
     ]
    }
   ],
   "source": [
    "greet(\"Mike\")"
   ]
  },
  {
   "cell_type": "markdown",
   "metadata": {},
   "source": [
    "- Non-default argument should always be ahead of default arguments to avoid ambiguity.\n",
    "    - The arguments that do not have default values are mandatory during a call.\n",
    "    - The arguments that have default values are optional during a call."
   ]
  },
  {
   "cell_type": "markdown",
   "metadata": {},
   "source": [
    "Once we have a default argument, all the arguments to its right must also have default values."
   ]
  },
  {
   "cell_type": "code",
   "execution_count": 15,
   "metadata": {},
   "outputs": [
    {
     "ename": "SyntaxError",
     "evalue": "non-default argument follows default argument (<ipython-input-15-ff0324fb6d84>, line 1)",
     "output_type": "error",
     "traceback": [
      "\u001b[1;36m  File \u001b[1;32m\"<ipython-input-15-ff0324fb6d84>\"\u001b[1;36m, line \u001b[1;32m1\u001b[0m\n\u001b[1;33m    def greet(msg = \"Nice to meet you!\", name):\u001b[0m\n\u001b[1;37m             ^\u001b[0m\n\u001b[1;31mSyntaxError\u001b[0m\u001b[1;31m:\u001b[0m non-default argument follows default argument\n"
     ]
    }
   ],
   "source": [
    "def greet(msg = \"Nice to meet you!\", name):\n",
    "    \"\"\"\n",
    "    This function greets to\n",
    "    the person with the\n",
    "    provided message.\n",
    "\n",
    "    If the message is not provided,\n",
    "    it defaults to \"Nice to meet you!\".\n",
    "    \"\"\"\n",
    "    print(\"Hello\", name + ', ' + msg)"
   ]
  },
  {
   "cell_type": "code",
   "execution_count": 16,
   "metadata": {},
   "outputs": [
    {
     "name": "stdout",
     "output_type": "stream",
     "text": [
      "Hello Mike, Nice to meet you!\n"
     ]
    }
   ],
   "source": [
    "def greet(msg = \"Nice to meet you!\", name=\"Mike\"):\n",
    "    \"\"\"\n",
    "    This function greets to\n",
    "    the person with the\n",
    "    provided message.\n",
    "\n",
    "    If the message is not provided,\n",
    "    it defaults to \"Nice to meet you!\".\n",
    "    \"\"\"\n",
    "    print(\"Hello\", name + ', ' + msg)\n",
    "    \n",
    "greet()"
   ]
  },
  {
   "cell_type": "markdown",
   "metadata": {},
   "source": [
    "### 1.2.2 Arbitrary number of Arguments, `*args`"
   ]
  },
  {
   "cell_type": "markdown",
   "metadata": {},
   "source": [
    "Sometimes, we do not know in advance the number of arguments that will be passed into a function. Python allows us to handle this kind of situation through function calls with an arbitrary number of arguments. In the function definition, we use an asterisk (*) before the parameter name to denote this kind of argument.\n",
    "\n",
    "> Arbitrary Arguments are often shortened to *args in Python documentations.\n",
    "\n",
    "This way the function will receive a `tuple` of arguments, and can access the items accordingly."
   ]
  },
  {
   "cell_type": "code",
   "execution_count": 17,
   "metadata": {},
   "outputs": [],
   "source": [
    "def greet(*names):\n",
    "    \"\"\"This function greets all\n",
    "    the person in the names tuple.\"\"\"\n",
    "\n",
    "    # names is a tuple\n",
    "    print(type(names))\n",
    "    for name in names:\n",
    "        print(\"Hello\", name)"
   ]
  },
  {
   "cell_type": "code",
   "execution_count": 18,
   "metadata": {},
   "outputs": [
    {
     "name": "stdout",
     "output_type": "stream",
     "text": [
      "<class 'tuple'>\n",
      "Hello Monica\n",
      "Hello Luke\n",
      "Hello Steve\n",
      "Hello John\n"
     ]
    }
   ],
   "source": [
    "greet(\"Monica\", \"Luke\", \"Steve\", \"John\")"
   ]
  },
  {
   "cell_type": "code",
   "execution_count": 19,
   "metadata": {},
   "outputs": [
    {
     "name": "stdout",
     "output_type": "stream",
     "text": [
      "4 3252 False [34, 2, 3532] 2345325532 (3, 4)\n"
     ]
    }
   ],
   "source": [
    "print(4, \"3252\", False, [34,2,3532], 2345325532, (3,4))"
   ]
  },
  {
   "cell_type": "markdown",
   "metadata": {},
   "source": [
    "### 1.2.3 Keyword Arguments"
   ]
  },
  {
   "cell_type": "markdown",
   "metadata": {},
   "source": [
    "You can also send arguments with the `key = value` syntax.\n",
    "\n",
    "This way the order of the arguments does not matter."
   ]
  },
  {
   "cell_type": "code",
   "execution_count": 20,
   "metadata": {},
   "outputs": [
    {
     "name": "stdout",
     "output_type": "stream",
     "text": [
      "The youngest child is Linus\n"
     ]
    }
   ],
   "source": [
    "def my_function(child3, child2, child1):\n",
    "    print(\"The youngest child is \" + child3)\n",
    "\n",
    "my_function(child2 = \"Emil\", child1 = \"Mike\", child3 = \"Linus\")"
   ]
  },
  {
   "cell_type": "markdown",
   "metadata": {},
   "source": [
    "#### Arbitrary Keyword Arguments, `**kwargs`"
   ]
  },
  {
   "cell_type": "markdown",
   "metadata": {},
   "source": [
    "> The phrase Keyword Arguments are often shortened to `kwargs` in Python documentations."
   ]
  },
  {
   "cell_type": "markdown",
   "metadata": {},
   "source": [
    "If you do not know how many keyword arguments that will be passed into your function, add two asterisk: \\*\\* before the parameter name in the function definition.\n",
    "\n",
    "This way the function will receive `a dictionary of arguments`, and can access the items accordingly:"
   ]
  },
  {
   "cell_type": "code",
   "execution_count": 21,
   "metadata": {},
   "outputs": [
    {
     "name": "stdout",
     "output_type": "stream",
     "text": [
      "first == Google\n",
      "mid == Apple\n",
      "last == Facebook\n"
     ]
    }
   ],
   "source": [
    "# Python program to illustrate   \n",
    "# **kargs for variable number of keyword arguments \n",
    "\n",
    "def my_fun(**kwargs):  \n",
    "    for key, value in kwargs.items(): \n",
    "        print (\"{} == {}\".format(key, value)) \n",
    "\n",
    "my_fun(first ='Google', mid ='Apple', last='Facebook')"
   ]
  },
  {
   "cell_type": "code",
   "execution_count": 22,
   "metadata": {},
   "outputs": [
    {
     "name": "stdout",
     "output_type": "stream",
     "text": [
      "His first name is Tobias, while last name is Refsnes.\n"
     ]
    }
   ],
   "source": [
    "def my_function(**kid):\n",
    "    print(\"His first name is {}, while last name is {}.\".format(kid[\"fname\"], kid[\"lname\"]))\n",
    "\n",
    "my_function(fname = \"Tobias\", lname = \"Refsnes\")"
   ]
  },
  {
   "cell_type": "markdown",
   "metadata": {},
   "source": [
    "## 1.3 Anonymous/Lambda Function"
   ]
  },
  {
   "cell_type": "markdown",
   "metadata": {},
   "source": [
    "- The `def` keyword is used to define the normal functions.\n",
    "- The `lambda` keyword is used to create anonymous short functions.\n",
    "\n",
    "We use lambda functions when we require a nameless function for a short period of time.\n",
    "\n",
    "`Lambda` forms can take any number of arguments but return just one value in the form of an expression."
   ]
  },
  {
   "cell_type": "markdown",
   "metadata": {},
   "source": [
    "Syntax of Lambda Function in python:\n",
    "\n",
    "```python\n",
    "lambda arguments: expression\n",
    "```\n",
    "\n",
    "or\n",
    "\n",
    "```python\n",
    "lambda [arg1 [,arg2,.....argn]]:expression\n",
    "```"
   ]
  },
  {
   "cell_type": "code",
   "execution_count": 23,
   "metadata": {},
   "outputs": [
    {
     "name": "stdout",
     "output_type": "stream",
     "text": [
      "10\n"
     ]
    }
   ],
   "source": [
    "# Program to show the use of lambda functions\n",
    "double = lambda x: x * 2\n",
    "\n",
    "print(double(5))"
   ]
  },
  {
   "cell_type": "code",
   "execution_count": 24,
   "metadata": {},
   "outputs": [
    {
     "name": "stdout",
     "output_type": "stream",
     "text": [
      "40\n"
     ]
    }
   ],
   "source": [
    "# Function definition is here\n",
    "my_sum= lambda arg1, arg2: arg1 + arg2\n",
    "\n",
    "# Now you can call sum as a function\n",
    "print(my_sum(10, 30))"
   ]
  },
  {
   "cell_type": "markdown",
   "metadata": {},
   "source": [
    "#### Use of Lambda Function in python"
   ]
  },
  {
   "cell_type": "markdown",
   "metadata": {},
   "source": [
    "In Python, we generally use it **as an argument to a higher-order function** (a function that takes in other functions as arguments). Lambda functions are used along with built-in functions like `filter()`, `map()` and `reduce()`."
   ]
  },
  {
   "cell_type": "markdown",
   "metadata": {},
   "source": [
    "- Example use with **`filter()`**.\n",
    "\n",
    "The `filter()` function in Python takes in a function and a list as arguments.\n",
    "\n",
    "Its syntax is here.\n",
    "\n",
    "```python\n",
    "filter(function, iterable)\n",
    "```\n",
    "\n",
    "The function is called with all the items in the list and a new iterable is returned which contains items for which the function evaluates to `True`."
   ]
  },
  {
   "cell_type": "code",
   "execution_count": 25,
   "metadata": {},
   "outputs": [
    {
     "name": "stdout",
     "output_type": "stream",
     "text": [
      "[4, 6, 8, 12]\n"
     ]
    }
   ],
   "source": [
    "# Program to filter out only the even items from a list\n",
    "my_list = [1, 5, 4, 6, 8, 11, 3, 12]\n",
    "\n",
    "result = list(filter(lambda x: (x%2 == 0), my_list))\n",
    "\n",
    "print(result)"
   ]
  },
  {
   "cell_type": "code",
   "execution_count": 26,
   "metadata": {},
   "outputs": [
    {
     "name": "stdout",
     "output_type": "stream",
     "text": [
      "['Apple', 'Apricot']\n",
      "['Apple', 'Apricot']\n"
     ]
    }
   ],
   "source": [
    "# To find all fruits started with letter 'A'\n",
    "fruit = [\"Apple\", \"Banana\", \"Pear\", \"Apricot\", \"Orange\"]\n",
    "filter_object = filter(lambda s: s[0] == \"A\", fruit)\n",
    "\n",
    "print(list(filter_object))\n",
    "\n",
    "\n",
    "# Without using lambdas\n",
    "def starts_with_A(s):\n",
    "    return s[0] == \"A\"\n",
    "\n",
    "filter_object = filter(starts_with_A, fruit)\n",
    "\n",
    "print(list(filter_object))"
   ]
  },
  {
   "cell_type": "markdown",
   "metadata": {},
   "source": [
    "- Example use with **`map()`**.\n",
    "\n",
    "The `map()` function in Python takes in a function and a list.\n",
    "\n",
    "The `map()` function iterates through all items in the given iterable and executes the function we passed as an argument on each of them.\n",
    "\n",
    "Its syntax is here.\n",
    "\n",
    "```python\n",
    "map(function, iterable)\n",
    "```\n",
    "\n",
    "Here is an example use of `map()` function to double all the items in a list."
   ]
  },
  {
   "cell_type": "code",
   "execution_count": 27,
   "metadata": {},
   "outputs": [
    {
     "name": "stdout",
     "output_type": "stream",
     "text": [
      "[2, 10, 8, 12, 16, 22, 6, 24]\n"
     ]
    }
   ],
   "source": [
    "# Program to double each item in a list using map()\n",
    "\n",
    "my_list = [1, 5, 4, 6, 8, 11, 3, 12]\n",
    "\n",
    "new_list = list(map(lambda x: x * 2 , my_list))\n",
    "\n",
    "print(new_list)"
   ]
  },
  {
   "cell_type": "code",
   "execution_count": 28,
   "metadata": {},
   "outputs": [
    {
     "name": "stdout",
     "output_type": "stream",
     "text": [
      "[True, False, False, True, False]\n",
      "[True, False, False, True, False]\n"
     ]
    }
   ],
   "source": [
    "fruits = [\"Apple\", \"Banana\", \"Pear\", \"Apricot\", \"Orange\"]\n",
    "\n",
    "map_object = map(lambda s: s[0] == \"A\", fruit)\n",
    "print(list(map_object))\n",
    "\n",
    "\n",
    "# Without using lambdas\n",
    "def starts_with_A(s):\n",
    "    return s[0] == \"A\"\n",
    "\n",
    "map_object = map(starts_with_A, fruits)\n",
    "\n",
    "print(list(map_object))\n",
    "\n",
    "# [True, False, False, True, False]"
   ]
  },
  {
   "cell_type": "code",
   "execution_count": 29,
   "metadata": {},
   "outputs": [
    {
     "name": "stdout",
     "output_type": "stream",
     "text": [
      "['ALFRED', 'TABITHA', 'WILLIAM', 'ARLA']\n"
     ]
    }
   ],
   "source": [
    "my_pets = ['alfred', 'tabitha', 'william', 'arla']\n",
    "\n",
    "uppered_pets = list(map(str.upper, my_pets))\n",
    "\n",
    "print(uppered_pets)\n",
    "\n",
    "my_pets = ['alfred', 'tabitha', 'william', 'arla']"
   ]
  },
  {
   "cell_type": "code",
   "execution_count": 30,
   "metadata": {},
   "outputs": [
    {
     "name": "stdout",
     "output_type": "stream",
     "text": [
      "[('a', 1), ('b', 2), ('c', 3), ('d', 4), ('e', 5)]\n"
     ]
    },
    {
     "data": {
      "text/plain": [
       "[('a', 1), ('b', 2)]"
      ]
     },
     "execution_count": 30,
     "metadata": {},
     "output_type": "execute_result"
    }
   ],
   "source": [
    "my_strings = ['a', 'b', 'c', 'd', 'e']\n",
    "my_numbers = [1,2,3,4,5]\n",
    "\n",
    "results = list(map(lambda x, y: (x, y), my_strings, my_numbers))\n",
    "\n",
    "print(results)\n",
    "\n",
    "[('a', 1), ('b', 2),]"
   ]
  },
  {
   "cell_type": "markdown",
   "metadata": {},
   "source": [
    "- Example use with **`reduce()`**."
   ]
  },
  {
   "cell_type": "markdown",
   "metadata": {},
   "source": [
    "`reduce()` works differently than `map()` and `filter()`. It does not return a new list based on the function and iterable we've passed. \n",
    "\n",
    "Instead, **it returns a single value**."
   ]
  },
  {
   "cell_type": "markdown",
   "metadata": {},
   "source": [
    "Also, in Python 3 reduce() isn't a built-in function anymore, and it can be found in the `functools` module."
   ]
  },
  {
   "cell_type": "markdown",
   "metadata": {},
   "source": [
    "`reduce` applies a function of two arguments cumulatively to the elements of an iterable, optionally starting with an initial argument. It has the following syntax:\n",
    "\n",
    "```python\n",
    "reduce(func, iterable, initial)\n",
    "```"
   ]
  },
  {
   "cell_type": "markdown",
   "metadata": {},
   "source": [
    "If you wanted to compute the product of a list of integers, the normal way you might go about doing this task in python is using a basic for loop:"
   ]
  },
  {
   "cell_type": "code",
   "execution_count": 31,
   "metadata": {},
   "outputs": [
    {
     "name": "stdout",
     "output_type": "stream",
     "text": [
      "24\n"
     ]
    }
   ],
   "source": [
    "product = 1\n",
    "list = [1, 2, 3, 4]\n",
    "for num in list:\n",
    "    product = product * num\n",
    "\n",
    "print(product)\n",
    "\n",
    "# 1 * 2 * 3 * 4"
   ]
  },
  {
   "cell_type": "markdown",
   "metadata": {},
   "source": [
    "Now let's try it with `reduce`:"
   ]
  },
  {
   "cell_type": "code",
   "execution_count": 32,
   "metadata": {},
   "outputs": [],
   "source": [
    "#1 * 2 = 2\n",
    "#        2 * 3 = 6\n",
    "#                6 * 4 = 24"
   ]
  },
  {
   "cell_type": "code",
   "execution_count": 33,
   "metadata": {},
   "outputs": [
    {
     "name": "stdout",
     "output_type": "stream",
     "text": [
      "24\n"
     ]
    }
   ],
   "source": [
    "from functools import reduce\n",
    "\n",
    "product = reduce(lambda x, y: x * y, [1, 2, 3, 4])\n",
    "print(product)"
   ]
  },
  {
   "cell_type": "markdown",
   "metadata": {},
   "source": [
    "It provide us a very simple way to calculate the product (the factorial) from 1 to a number,"
   ]
  },
  {
   "cell_type": "code",
   "execution_count": 34,
   "metadata": {},
   "outputs": [
    {
     "data": {
      "text/plain": [
       "120"
      ]
     },
     "execution_count": 34,
     "metadata": {},
     "output_type": "execute_result"
    }
   ],
   "source": [
    "from functools import reduce\n",
    "def factorial(n):\n",
    "    return reduce(lambda x,y:x*y, range(1,n+1))\n",
    "\n",
    "factorial(5)"
   ]
  },
  {
   "cell_type": "code",
   "execution_count": 35,
   "metadata": {},
   "outputs": [
    {
     "name": "stdout",
     "output_type": "stream",
     "text": [
      "12\n",
      "12\n"
     ]
    }
   ],
   "source": [
    "print(reduce(lambda x,y: x+y, [1, 2, 3], 6))\n",
    "\n",
    "# --or--\n",
    "import operator\n",
    "print(reduce(operator.add, [1, 2, 3], 6))"
   ]
  },
  {
   "cell_type": "code",
   "execution_count": 36,
   "metadata": {},
   "outputs": [
    {
     "name": "stdout",
     "output_type": "stream",
     "text": [
      "16\n",
      "With an initial value: 26\n"
     ]
    }
   ],
   "source": [
    "from functools import reduce\n",
    "\n",
    "data = [2, 4, 7, 3]\n",
    "print(reduce(lambda x, y: x + y, data))\n",
    "print(\"With an initial value: \" + str(reduce(lambda x, y: x + y, data, 10)))"
   ]
  }
 ],
 "metadata": {
  "kernelspec": {
   "display_name": "Python 3",
   "language": "python",
   "name": "python3"
  },
  "language_info": {
   "codemirror_mode": {
    "name": "ipython",
    "version": 3
   },
   "file_extension": ".py",
   "mimetype": "text/x-python",
   "name": "python",
   "nbconvert_exporter": "python",
   "pygments_lexer": "ipython3",
   "version": "3.6.6"
  }
 },
 "nbformat": 4,
 "nbformat_minor": 2
}

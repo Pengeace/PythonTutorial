{
 "cells": [
  {
   "cell_type": "markdown",
   "metadata": {},
   "source": [
    "# 1. Identifier"
   ]
  },
  {
   "cell_type": "markdown",
   "metadata": {},
   "source": [
    "It is a **Name** given to an entity like variable, function, class, etc., which is used for distinguish one entity from another."
   ]
  },
  {
   "cell_type": "markdown",
   "metadata": {},
   "source": [
    "## 1.1 Writing Rules"
   ]
  },
  {
   "cell_type": "markdown",
   "metadata": {},
   "source": [
    "1. It's a combination of letters (lowercase or uppercase), digits and underscore.\n",
    "    - a to z, A to Z, 0 to 9, and _\n",
    "2. It cannot start with a digit.\n",
    "3. Keywords cannot be used as identifiers."
   ]
  },
  {
   "cell_type": "markdown",
   "metadata": {},
   "source": [
    "## 1.2 Good Name\n",
    "\n",
    "It's important to write good identifier names, for they influence the readability and quality of a program.\n",
    "\n",
    "- Identifier name should be **concise and meaningful**.\n",
    "    - It works like a kind of comment.\n",
    "    \n",
    "> Identifier names communicate program concepts to the reader, and are important elements in the process of program comprehension, and, thereby, software maintenance. \n",
    "\n",
    "> Identifier names constitute the majority of tokens in source code and are the primary source of conceptual information for program comprehension. Identifier names are created by designers and programmers and reflect their understanding, cognition and idiosyncrasies."
   ]
  },
  {
   "cell_type": "markdown",
   "metadata": {},
   "source": [
    "There are three widly used naming standards for identifiers in programming language.\n",
    "\n",
    "- camelCase – each word is capitalized except the first word, with no intervening spaces.\n",
    "- PascalCase – each word is capitalized including the first word, with no intervening spaces.\n",
    "- **snake_case** – each word is lowercase with underscores separating words.\n",
    "\n",
    "**Python uses snake_case for most identifiers.** \n",
    "\n",
    "C++, Java, and JavaScript typically use camelCase, with PascalCase reserved for libraries and classes. C# uses primarily PascalCase with camelCase parameters. \n",
    "\n",
    "In addition, CONSTANTS IN ALL UPPER CASE (often UPPER_SNAKE_CASE)."
   ]
  },
  {
   "cell_type": "markdown",
   "metadata": {},
   "source": [
    "## 1.3 Examples"
   ]
  },
  {
   "cell_type": "markdown",
   "metadata": {},
   "source": [
    "- [ ] class\n",
    "- [ ] x^\n",
    "- [ ] 2num\n",
    "- [x] ExcelWriter (from `pandas` package)\n",
    "- [x] random_integers (from `numpy` package)\n",
    "- [x] _exists (from `os` package)"
   ]
  },
  {
   "cell_type": "code",
   "execution_count": 5,
   "metadata": {},
   "outputs": [
    {
     "name": "stdout",
     "output_type": "stream",
     "text": [
      "False\n"
     ]
    }
   ],
   "source": [
    "# Use built-in function of isidentifier() for judgement \n",
    "print(\"99a\".isidentifier())  # False"
   ]
  },
  {
   "cell_type": "markdown",
   "metadata": {},
   "source": [
    "A constant is a data item whose value cannot change during the program's execution. But in python, the fact is that the value of any variable can be altered. So, we just don't change it for a constant in Python."
   ]
  },
  {
   "cell_type": "code",
   "execution_count": 6,
   "metadata": {},
   "outputs": [],
   "source": [
    "PI = 3.14\n",
    "GRAVITY = 9.8"
   ]
  },
  {
   "cell_type": "markdown",
   "metadata": {},
   "source": [
    "# 2. Keywords"
   ]
  },
  {
   "cell_type": "markdown",
   "metadata": {},
   "source": [
    "All keywords in python have been listed here, but you don't need to remember them.\n",
    "\n",
    "Here are two links for reference if you want to know more about them.\n",
    "- [w3schools](https://www.w3schools.com/python/python_ref_keywords.asp)\n",
    "- [programiz](https://www.programiz.com/python-programming/keyword-list)"
   ]
  },
  {
   "cell_type": "code",
   "execution_count": 7,
   "metadata": {},
   "outputs": [
    {
     "name": "stdout",
     "output_type": "stream",
     "text": [
      "\n",
      "Here is a list of the Python keywords.  Enter any keyword to get more help.\n",
      "\n",
      "False               def                 if                  raise\n",
      "None                del                 import              return\n",
      "True                elif                in                  try\n",
      "and                 else                is                  while\n",
      "as                  except              lambda              with\n",
      "assert              finally             nonlocal            yield\n",
      "break               for                 not                 \n",
      "class               from                or                  \n",
      "continue            global              pass                \n",
      "\n"
     ]
    }
   ],
   "source": [
    "# To print all keywords in python\n",
    "help(\"keywords\")"
   ]
  },
  {
   "cell_type": "code",
   "execution_count": 8,
   "metadata": {},
   "outputs": [
    {
     "name": "stdout",
     "output_type": "stream",
     "text": [
      "The \"return\" statement\n",
      "**********************\n",
      "\n",
      "   return_stmt ::= \"return\" [expression_list]\n",
      "\n",
      "\"return\" may only occur syntactically nested in a function definition,\n",
      "not within a nested class definition.\n",
      "\n",
      "If an expression list is present, it is evaluated, else \"None\" is\n",
      "substituted.\n",
      "\n",
      "\"return\" leaves the current function call with the expression list (or\n",
      "\"None\") as return value.\n",
      "\n",
      "When \"return\" passes control out of a \"try\" statement with a \"finally\"\n",
      "clause, that \"finally\" clause is executed before really leaving the\n",
      "function.\n",
      "\n",
      "In a generator function, the \"return\" statement indicates that the\n",
      "generator is done and will cause \"StopIteration\" to be raised. The\n",
      "returned value (if any) is used as an argument to construct\n",
      "\"StopIteration\" and becomes the \"StopIteration.value\" attribute.\n",
      "\n",
      "In an asynchronous generator function, an empty \"return\" statement\n",
      "indicates that the asynchronous generator is done and will cause\n",
      "\"StopAsyncIteration\" to be raised.  A non-empty \"return\" statement is\n",
      "a syntax error in an asynchronous generator function.\n",
      "\n",
      "Related help topics: FUNCTIONS\n",
      "\n"
     ]
    }
   ],
   "source": [
    "# Find more explation on the keyword 'return'\n",
    "help(\"return\")"
   ]
  },
  {
   "cell_type": "code",
   "execution_count": 9,
   "metadata": {},
   "outputs": [
    {
     "name": "stdout",
     "output_type": "stream",
     "text": [
      "The \"global\" statement\n",
      "**********************\n",
      "\n",
      "   global_stmt ::= \"global\" identifier (\",\" identifier)*\n",
      "\n",
      "The \"global\" statement is a declaration which holds for the entire\n",
      "current code block.  It means that the listed identifiers are to be\n",
      "interpreted as globals.  It would be impossible to assign to a global\n",
      "variable without \"global\", although free variables may refer to\n",
      "globals without being declared global.\n",
      "\n",
      "Names listed in a \"global\" statement must not be used in the same code\n",
      "block textually preceding that \"global\" statement.\n",
      "\n",
      "Names listed in a \"global\" statement must not be defined as formal\n",
      "parameters or in a \"for\" loop control target, \"class\" definition,\n",
      "function definition, \"import\" statement, or variable annotation.\n",
      "\n",
      "**CPython implementation detail:** The current implementation does not\n",
      "enforce some of these restrictions, but programs should not abuse this\n",
      "freedom, as future implementations may enforce them or silently change\n",
      "the meaning of the program.\n",
      "\n",
      "**Programmer’s note:** \"global\" is a directive to the parser.  It\n",
      "applies only to code parsed at the same time as the \"global\"\n",
      "statement. In particular, a \"global\" statement contained in a string\n",
      "or code object supplied to the built-in \"exec()\" function does not\n",
      "affect the code block *containing* the function call, and code\n",
      "contained in such a string is unaffected by \"global\" statements in the\n",
      "code containing the function call.  The same applies to the \"eval()\"\n",
      "and \"compile()\" functions.\n",
      "\n",
      "Related help topics: nonlocal, NAMESPACES\n",
      "\n"
     ]
    }
   ],
   "source": [
    "help(\"global\")"
   ]
  },
  {
   "cell_type": "markdown",
   "metadata": {},
   "source": [
    "|Keyword | Description|\n",
    "|:--     |:--|\n",
    "|and | A logical operator|\n",
    "|as | To create an alias|\n",
    "|assert | For debugging|\n",
    "|break | To break out of a loop|\n",
    "|class | To define a class|\n",
    "|continue | To continue to the next iteration of a loop|\n",
    "|def | To define a function|\n",
    "|del | To delete an object|\n",
    "|elif | Used in conditional statements, same as else if|\n",
    "|else | Used in conditional statements|\n",
    "|except | Used with exceptions, what to do when an exception occurs|\n",
    "|False | Boolean value, result of comparison operations|\n",
    "|finally | Used with exceptions, a block of code that will be executed no matter if there is an exception or not|\n",
    "|for | To create a for loop|\n",
    "|from | To import specific parts of a module|\n",
    "|global | To declare a global variable|\n",
    "|if | To make a conditional statement|\n",
    "|import | To import a module|\n",
    "|in | To check if a value is present in a list, tuple, etc.|\n",
    "|is | To test if two variables are equal|\n",
    "|lambda | To create an anonymous function|\n",
    "|None | Represents a null value|\n",
    "|nonlocal | To declare a non-local variable|\n",
    "|not | A logical operator|\n",
    "|or | A logical operator|\n",
    "|pass | A null statement, a statement that will do nothing|\n",
    "|raise | To raise an exception|\n",
    "|return | To exit a function and return a value|\n",
    "|True | Boolean value, result of comparison operations|\n",
    "|try | To make a try...except statement|\n",
    "|while | To create a while loop|\n",
    "|with | Used to simplify exception handling|\n",
    "|yield | To end a function, returns a generator|"
   ]
  },
  {
   "cell_type": "markdown",
   "metadata": {},
   "source": [
    "# 3. Statement and related things"
   ]
  },
  {
   "cell_type": "markdown",
   "metadata": {},
   "source": [
    "## 3.1 Statement"
   ]
  },
  {
   "cell_type": "markdown",
   "metadata": {},
   "source": [
    "A statement is an instruction that the python interpreter can execute."
   ]
  },
  {
   "cell_type": "markdown",
   "metadata": {},
   "source": [
    "Here is an example.\n",
    "\n",
    "```python\n",
    "a = 1 + 2 + 3\n",
    "```"
   ]
  },
  {
   "cell_type": "markdown",
   "metadata": {},
   "source": [
    "- A statement could occupy multiple lines if needed. "
   ]
  },
  {
   "cell_type": "code",
   "execution_count": 10,
   "metadata": {},
   "outputs": [
    {
     "data": {
      "text/plain": [
       "45"
      ]
     },
     "execution_count": 10,
     "metadata": {},
     "output_type": "execute_result"
    }
   ],
   "source": [
    " a = 1 + 2 + 3 + \\\n",
    "     4 + 5 + 6 + \\\n",
    "     7 + 8 + 9\n",
    "a"
   ]
  },
  {
   "cell_type": "code",
   "execution_count": 11,
   "metadata": {},
   "outputs": [],
   "source": [
    "s1 = 'a string'\n",
    "s2 = \"another string\"\n"
   ]
  },
  {
   "cell_type": "code",
   "execution_count": 12,
   "metadata": {},
   "outputs": [
    {
     "name": "stdout",
     "output_type": "stream",
     "text": [
      "\n",
      "This is a comment\n",
      "written in\n",
      "more than just one line.\n",
      "It occupies four lines in total.\n",
      "\n"
     ]
    }
   ],
   "source": [
    "s = \"\"\"\n",
    "This is a comment\n",
    "written in\n",
    "more than just one line.\n",
    "It occupies four lines in total.\n",
    "\"\"\"\n",
    "\n",
    "print(s)"
   ]
  },
  {
   "cell_type": "markdown",
   "metadata": {},
   "source": [
    "- Multiple statements could be placed in one line if needed."
   ]
  },
  {
   "cell_type": "code",
   "execution_count": 13,
   "metadata": {},
   "outputs": [
    {
     "name": "stdout",
     "output_type": "stream",
     "text": [
      "1 2 3\n"
     ]
    }
   ],
   "source": [
    "x = 1; y = 2; z = 3;\n",
    "print(x, y, z)"
   ]
  },
  {
   "cell_type": "markdown",
   "metadata": {},
   "source": [
    "## 3.2 Comment"
   ]
  },
  {
   "cell_type": "markdown",
   "metadata": {},
   "source": [
    "Comments are very necessary for improving the readability of a program.\n",
    "\n",
    "They are written for human, while the python interpreter will ignore them.\n",
    "\n",
    "There are two ways to write a comment in python."
   ]
  },
  {
   "cell_type": "markdown",
   "metadata": {},
   "source": [
    "- Comments starts with a \\#."
   ]
  },
  {
   "cell_type": "code",
   "execution_count": 14,
   "metadata": {},
   "outputs": [
    {
     "name": "stdout",
     "output_type": "stream",
     "text": [
      "Hello, World!\n"
     ]
    }
   ],
   "source": [
    "#This is a comment\n",
    "print(\"Hello, World!\")"
   ]
  },
  {
   "cell_type": "code",
   "execution_count": 15,
   "metadata": {},
   "outputs": [
    {
     "name": "stdout",
     "output_type": "stream",
     "text": [
      "Hello, World!\n"
     ]
    }
   ],
   "source": [
    "print(\"Hello, World!\") #This is a comment"
   ]
  },
  {
   "cell_type": "code",
   "execution_count": 16,
   "metadata": {},
   "outputs": [
    {
     "name": "stdout",
     "output_type": "stream",
     "text": [
      "Hello, World!\n"
     ]
    }
   ],
   "source": [
    "#This is a comment\n",
    "#written in\n",
    "#more than just one line\n",
    "print(\"Hello, World!\")"
   ]
  },
  {
   "cell_type": "markdown",
   "metadata": {},
   "source": [
    "- Comments by a multiline string with triple quotes."
   ]
  },
  {
   "cell_type": "code",
   "execution_count": 17,
   "metadata": {},
   "outputs": [
    {
     "name": "stdout",
     "output_type": "stream",
     "text": [
      "Hello, World!\n"
     ]
    }
   ],
   "source": [
    "\"\"\"\n",
    "This is a comment\n",
    "written in\n",
    "more than just one line\n",
    "\"\"\"\n",
    "print(\"Hello, World!\")"
   ]
  },
  {
   "cell_type": "markdown",
   "metadata": {},
   "source": [
    "## 3.3 Indentation"
   ]
  },
  {
   "cell_type": "markdown",
   "metadata": {},
   "source": [
    "Indentation is the whitespace (spaces and tabs) at the beginning of a line."
   ]
  },
  {
   "cell_type": "markdown",
   "metadata": {},
   "source": [
    "- Most of the programming languages like C, C++, and Java use braces { } to define a block of code. \n",
    "- Python, however, uses indentation.\n",
    "\n",
    "\n",
    "- Therefore, be careful with indentation in your python program to avoid possible running errors."
   ]
  },
  {
   "cell_type": "markdown",
   "metadata": {},
   "source": [
    "A correct example of python indentation (though maybe confusing) is showed below."
   ]
  },
  {
   "cell_type": "code",
   "execution_count": 18,
   "metadata": {},
   "outputs": [
    {
     "name": "stdout",
     "output_type": "stream",
     "text": [
      "[0, 1, 2]\n"
     ]
    },
    {
     "data": {
      "text/plain": [
       "[[0, 1, 2], [0, 2, 1], [1, 0, 2], [1, 2, 0], [2, 0, 1], [2, 1, 0]]"
      ]
     },
     "execution_count": 18,
     "metadata": {},
     "output_type": "execute_result"
    }
   ],
   "source": [
    "# Compute the list of all permutations of l\n",
    "def permutation(alist):\n",
    "    if len(alist) <= 1:\n",
    "        return [alist]\n",
    "    r = []\n",
    "    for i in range(len(alist)):\n",
    "        sub = alist[:i] + alist[i+1:]\n",
    "        p = permutation(sub)\n",
    "        for x in p:\n",
    "            r.append(alist[i:i+1] + x)\n",
    "    return r\n",
    "\n",
    "# recursive\n",
    "\n",
    "alist = list(range(3))\n",
    "print(alist)\n",
    "permutation(alist)"
   ]
  },
  {
   "cell_type": "code",
   "execution_count": 19,
   "metadata": {},
   "outputs": [
    {
     "name": "stdout",
     "output_type": "stream",
     "text": [
      "[3]\n",
      "[0, 1, 2, 4]\n"
     ]
    }
   ],
   "source": [
    "alist = list(range(5))\n",
    "i = 3\n",
    "sub = alist[:i] + alist[i+1:]\n",
    "print(alist[i:i+1])\n",
    "print(sub)"
   ]
  },
  {
   "cell_type": "markdown",
   "metadata": {},
   "source": [
    "As a contrast, a piece of C++ code from [here](https://www.programiz.com/cpp-programming/examples/fibonacci-series) is provided below.\n",
    "\n",
    "We can change the indentation in each line if we want, and don't need to worry about runing errors."
   ]
  },
  {
   "cell_type": "markdown",
   "metadata": {},
   "source": [
    "```C++\n",
    "int main()\n",
    "{\n",
    "    int n, t1 = 0, t2 = 1, nextTerm = 0;\n",
    "    cout << \"Enter the number of terms: \";\n",
    "    cin >> n;\n",
    "    cout << \"Fibonacci Series: \";\n",
    "    for (int i = 1; i <= n; ++i)\n",
    "    {\n",
    "        // Prints the first two terms.\n",
    "        if(i == 1)\n",
    "        {\n",
    "            cout << \" \" << t1;\n",
    "            continue;\n",
    "        }\n",
    "        if(i == 2)\n",
    "        {\n",
    "            cout << t2 << \" \";\n",
    "            continue;\n",
    "        }\n",
    "        nextTerm = t1 + t2;\n",
    "        t1 = t2;\n",
    "        t2 = nextTerm;       \n",
    "        cout << nextTerm << \" \";\n",
    "    }\n",
    "    return 0;\n",
    "}\n",
    "```"
   ]
  },
  {
   "cell_type": "markdown",
   "metadata": {},
   "source": [
    "# 4. Input & Output"
   ]
  },
  {
   "cell_type": "markdown",
   "metadata": {},
   "source": [
    "## 4.1 Input"
   ]
  },
  {
   "cell_type": "markdown",
   "metadata": {},
   "source": [
    "The built-in function of `input()` can read a string from standard input (`stdin`).\n",
    "\n",
    "The returned result of `input` function is a string."
   ]
  },
  {
   "cell_type": "code",
   "execution_count": 20,
   "metadata": {},
   "outputs": [
    {
     "name": "stdout",
     "output_type": "stream",
     "text": [
      "45\n",
      "<class 'str'>\n",
      "<class 'int'>\n"
     ]
    }
   ],
   "source": [
    "a = input()\n",
    "print(type(a))\n",
    "\n",
    "a = int(a)\n",
    "print(type(a))"
   ]
  },
  {
   "cell_type": "markdown",
   "metadata": {},
   "source": [
    "We can add a prompt string as a parameter to tell the user what is the expected input data here. "
   ]
  },
  {
   "cell_type": "code",
   "execution_count": 21,
   "metadata": {},
   "outputs": [
    {
     "name": "stdout",
     "output_type": "stream",
     "text": [
      "What's your favorate movie?The Shawshank Redemption\n",
      "The Shawshank Redemption\n"
     ]
    }
   ],
   "source": [
    "movie = input(\"What's your favorate movie?\")\n",
    "print(movie)"
   ]
  },
  {
   "cell_type": "markdown",
   "metadata": {},
   "source": [
    "## 4.2 Output "
   ]
  },
  {
   "cell_type": "markdown",
   "metadata": {},
   "source": [
    "The built-in function of print() can output a string to standard output (`stdout`)."
   ]
  },
  {
   "cell_type": "code",
   "execution_count": 22,
   "metadata": {},
   "outputs": [
    {
     "name": "stdout",
     "output_type": "stream",
     "text": [
      "Help on built-in function print in module builtins:\n",
      "\n",
      "print(...)\n",
      "    print(value, ..., sep=' ', end='\\n', file=sys.stdout, flush=False)\n",
      "    \n",
      "    Prints the values to a stream, or to sys.stdout by default.\n",
      "    Optional keyword arguments:\n",
      "    file:  a file-like object (stream); defaults to the current sys.stdout.\n",
      "    sep:   string inserted between values, default a space.\n",
      "    end:   string appended after the last value, default a newline.\n",
      "    flush: whether to forcibly flush the stream.\n",
      "\n"
     ]
    }
   ],
   "source": [
    "help(\"print\")"
   ]
  },
  {
   "cell_type": "code",
   "execution_count": 23,
   "metadata": {},
   "outputs": [
    {
     "name": "stdout",
     "output_type": "stream",
     "text": [
      "1 2 3 4\n",
      "1|2|3|4\n"
     ]
    }
   ],
   "source": [
    "# The default separation is a space\n",
    "print(1, 2, 3, 4)\n",
    "\n",
    "# Use * as the separation\n",
    "print(1, 2, 3, 4, sep='|')"
   ]
  },
  {
   "cell_type": "markdown",
   "metadata": {},
   "source": [
    "#### Output Formatting"
   ]
  },
  {
   "cell_type": "markdown",
   "metadata": {},
   "source": [
    "This is string formatting in fact. \n",
    "\n",
    "**Don't bother to remember them**. Knowing the basic usages is enough, you can just search them when you need them."
   ]
  },
  {
   "cell_type": "markdown",
   "metadata": {},
   "source": [
    "- First, use braces {} as placeholders."
   ]
  },
  {
   "cell_type": "markdown",
   "metadata": {},
   "source": [
    "Format | Explanation\n",
    ":------|:-------------\n",
    ":< | Left aligns the result (within the available space)\n",
    ":> | Right aligns the result (within the available space)\n",
    ":^ | Center aligns the result (within the available space)\n",
    ":= | Places the sign to the left most position\n",
    ":+ | Use a plus sign to indicate if the result is positive or negative\n",
    ":- | Use a minus sign for negative values only\n",
    ":  | Use a space to insert an extra space before positive numbers (and a minus sign befor negative numbers)\n",
    ":, | Use a comma as a thousand separator\n",
    ":_ | Use a underscore as a thousand separator\n",
    ":b | Binary format\n",
    ":c | Converts the value into the corresponding unicode character\n",
    ":d | Decimal format\n",
    ":e | Scientific format, with a lower case e\n",
    ":E | Scientific format, with an upper case E\n",
    ":f | Fix point number format\n",
    ":F | Fix point number format, in uppercase format (show inf and nan as INF and NAN)\n",
    ":g | General format\n",
    ":G | General format (using a upper case E for scientific notations)\n",
    ":o | Octal format\n",
    ":x | Hex format, lower case\n",
    ":X | Hex format, upper case\n",
    ":n | Number format\n",
    ":% | Percentage format"
   ]
  },
  {
   "cell_type": "markdown",
   "metadata": {},
   "source": [
    "You can do some practices in [w3school](https://www.w3schools.com/python/ref_string_format.asp).\n",
    "\n",
    "A more detailed guide on formatted output is [here](https://realpython.com/python-formatted-output/)."
   ]
  },
  {
   "cell_type": "markdown",
   "metadata": {},
   "source": [
    "Explanation on `f`:\n",
    "- A *fixed point number* just means that there are a fixed number of digits after the decimal point. \n",
    "- A *floating point* number allows for a varying number of digits after the decimal point."
   ]
  },
  {
   "cell_type": "code",
   "execution_count": 24,
   "metadata": {},
   "outputs": [
    {
     "name": "stdout",
     "output_type": "stream",
     "text": [
      "The value of x is 5 and y is 10.\n"
     ]
    }
   ],
   "source": [
    "x = 5; y = 10\n",
    "out = 'The value of x is {} and y is {}.'.format(x, y)\n",
    "print(out)"
   ]
  },
  {
   "cell_type": "code",
   "execution_count": 25,
   "metadata": {},
   "outputs": [
    {
     "name": "stdout",
     "output_type": "stream",
     "text": [
      "I love bread, butter and juice.\n",
      "I love butter and bread.\n"
     ]
    }
   ],
   "source": [
    "print('I love {0}, {1} and {2}.'.format('bread','butter','juice'))\n",
    "print('I love {1} and {0}.'.format('bread','butter'))"
   ]
  },
  {
   "cell_type": "code",
   "execution_count": 26,
   "metadata": {},
   "outputs": [
    {
     "name": "stdout",
     "output_type": "stream",
     "text": [
      "Hello Summer, how's it going?\n"
     ]
    }
   ],
   "source": [
    "print('Hello {name}, {greeting}'.format(name= 'Summer', greeting= \"how's it going?\"))"
   ]
  },
  {
   "cell_type": "code",
   "execution_count": 11,
   "metadata": {},
   "outputs": [
    {
     "name": "stdout",
     "output_type": "stream",
     "text": [
      "We have    49    apples.\n",
      "-2   \n",
      "   12\n",
      "1234\n",
      "  12.235\n",
      "00012\n",
      "0012.235\n"
     ]
    }
   ],
   "source": [
    "print(\"We have {:^8} apples.\".format(49))\n",
    "print(\"{:<5}\".format(-2))\n",
    "\n",
    "# integer numbers with minimum width\n",
    "print(\"{:5d}\".format(12))\n",
    "\n",
    "# width doesn't work for numbers longer than padding\n",
    "print(\"{:2d}\".format(1234))\n",
    "\n",
    "# padding for float numbers\n",
    "print(\"{:8.3f}\".format(12.2346))\n",
    "\n",
    "# integer numbers with minimum width filled with zeros\n",
    "print(\"{:05d}\".format(12))\n",
    "\n",
    "# padding for float numbers filled with zeros\n",
    "print(\"{:08.3f}\".format(12.2346))"
   ]
  },
  {
   "cell_type": "markdown",
   "metadata": {},
   "source": [
    "- Second, use percent sign % as placeholders.\n",
    "    - like C programming language"
   ]
  },
  {
   "cell_type": "markdown",
   "metadata": {},
   "source": [
    "Type | Meaning\n",
    "--|------------\n",
    "d | Decimal integer\n",
    "c | Corresponding Unicode character\n",
    "b | Binary format\n",
    "o | Octal format\n",
    "x | Hexadecimal format (lower case)\n",
    "X | Hexadecimal format (upper case)\n",
    "n | Same as 'd'. Except it uses current locale setting for number separator\n",
    "e | Exponential notation. (lowercase e)\n",
    "E | Exponential notation (uppercase E)\n",
    "f | Displays fixed point number (Default: 6)\n",
    "F | Same as 'f'. Except displays 'inf' as 'INF' and 'nan' as 'NAN'\n",
    "g | General format. Rounds number to p significant digits. (Default precision: 6)\n",
    "G | Same as 'g'. Except switches to 'E' if the number is large.\n",
    "% | Percentage. Multiples by 100 and puts % at the end."
   ]
  },
  {
   "cell_type": "markdown",
   "metadata": {},
   "source": [
    "The **general syntax** for a format placeholder is as below.\n",
    "\n",
    "%[flags][width][.precision]type "
   ]
  },
  {
   "cell_type": "code",
   "execution_count": 15,
   "metadata": {},
   "outputs": [
    {
     "name": "stdout",
     "output_type": "stream",
     "text": [
      "Geeks :  1, Portal : +5.33\n",
      "Total students : 240, Boys : 120\n",
      "    031\n",
      " 3.561E+02\n"
     ]
    }
   ],
   "source": [
    "# print integer and float value \n",
    "print(\"Geeks : % 2d, Portal : %+5.2f\" %(1, 5.333))  \n",
    "\n",
    "# print integer value \n",
    "print(\"Total students : %3d, Boys : %2d\" %(240, 120)) \n",
    "\n",
    "\n",
    "# print octal value  \n",
    "print(\"% 7.3o\"% (25)) \n",
    "  \n",
    "# print exponential value \n",
    "print(\"% 10.3E\"% (356.08977)) "
   ]
  },
  {
   "cell_type": "code",
   "execution_count": 16,
   "metadata": {},
   "outputs": [
    {
     "data": {
      "text/plain": [
       "25"
      ]
     },
     "execution_count": 16,
     "metadata": {},
     "output_type": "execute_result"
    }
   ],
   "source": [
    "3*8 + 1*1"
   ]
  },
  {
   "cell_type": "code",
   "execution_count": 17,
   "metadata": {},
   "outputs": [
    {
     "data": {
      "text/plain": [
       "356.1"
      ]
     },
     "execution_count": 17,
     "metadata": {},
     "output_type": "execute_result"
    }
   ],
   "source": [
    "3.561 * (10**2)"
   ]
  },
  {
   "cell_type": "code",
   "execution_count": null,
   "metadata": {},
   "outputs": [],
   "source": []
  }
 ],
 "metadata": {
  "kernelspec": {
   "display_name": "Python 3",
   "language": "python",
   "name": "python3"
  },
  "language_info": {
   "codemirror_mode": {
    "name": "ipython",
    "version": 3
   },
   "file_extension": ".py",
   "mimetype": "text/x-python",
   "name": "python",
   "nbconvert_exporter": "python",
   "pygments_lexer": "ipython3",
   "version": "3.6.6"
  }
 },
 "nbformat": 4,
 "nbformat_minor": 2
}

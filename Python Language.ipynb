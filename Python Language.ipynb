{
 "cells": [
  {
   "cell_type": "markdown",
   "metadata": {},
   "source": [
    "1. Introduction\n",
    "    - Variables\n",
    "    - Itendifier\n",
    "    - Operators\n",
    "    - Statements\n",
    "    - Input/Output\n",
    "2. Data types\n",
    "    - Basic\n",
    "    - Composed\n",
    "    - Type Conversion\n",
    "3. Flow Control\n",
    "    - if-else\n",
    "    - loop\n",
    "4. Function\n",
    "    - Built-in \n",
    "    - User defined  \n",
    "5. OOP\n",
    "    - Class"
   ]
  }
 ],
 "metadata": {
  "kernelspec": {
   "display_name": "Python 3",
   "language": "python",
   "name": "python3"
  },
  "language_info": {
   "codemirror_mode": {
    "name": "ipython",
    "version": 3
   },
   "file_extension": ".py",
   "mimetype": "text/x-python",
   "name": "python",
   "nbconvert_exporter": "python",
   "pygments_lexer": "ipython3",
   "version": "3.6.6"
  }
 },
 "nbformat": 4,
 "nbformat_minor": 2
}

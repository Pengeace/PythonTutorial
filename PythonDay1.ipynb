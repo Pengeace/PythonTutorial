{
 "cells": [
  {
   "cell_type": "markdown",
   "metadata": {},
   "source": [
    "# Python Day 1"
   ]
  },
  {
   "cell_type": "markdown",
   "metadata": {},
   "source": [
    "## 1. Python Environment"
   ]
  },
  {
   "cell_type": "markdown",
   "metadata": {},
   "source": [
    "### 1.1 Install"
   ]
  },
  {
   "cell_type": "markdown",
   "metadata": {},
   "source": [
    "> Clicking on a hyperlink, the corresponding target page will be opened."
   ]
  },
  {
   "cell_type": "markdown",
   "metadata": {},
   "source": [
    "- [Python](https://www.python.org/downloads/mac-osx/)\n",
    "- [Anaconda](https://www.anaconda.com/products/individual#macos)\n",
    "    - Highly recommended for packages and environments management\n",
    "    - Make different python versions coexist sucessefully in one system"
   ]
  },
  {
   "cell_type": "markdown",
   "metadata": {},
   "source": [
    "#### Some common Anoconda commands:\n",
    "* `conda info --envs` : lists all environments\n",
    "* `conda activate <env name>`: activate an environment\n",
    "* `conda deactivate`: deactivate the current environment\n",
    "* `conda list` : list all packages installed\n",
    "* `conda create --name <env name> python=3 astroid babel` : create new environment, specify version of python, and install packages\n",
    "* `conda install <package name>` install a pachage\n",
    "* `conda env remove -n <env name> ` : delete environment"
   ]
  },
  {
   "cell_type": "markdown",
   "metadata": {},
   "source": [
    "### 1.2 Programming"
   ]
  },
  {
   "cell_type": "markdown",
   "metadata": {},
   "source": [
    "- [Pycharm](https://www.jetbrains.com/pycharm/download/#section=windows)\n",
    "    - Community version is enough\n",
    "    - Highly recommended IDE (Integrated Develepment Environment) with GUI (Graphical User Interface)\n",
    "- [Jupyter notebook](https://jupyter.org/)\n",
    "    - Interactive、Readable、Shareable、Supporting many languages、Useful in a server"
   ]
  },
  {
   "cell_type": "markdown",
   "metadata": {},
   "source": [
    "# 2. Python Introduction"
   ]
  },
  {
   "cell_type": "markdown",
   "metadata": {},
   "source": [
    "## 2.1 Python Data Types"
   ]
  },
  {
   "cell_type": "markdown",
   "metadata": {},
   "source": [
    "Python has rich built-in data types. Here are some tutorials on Python Data Types for your reference.\n",
    "- [W3schools](https://www.w3schools.com/python/python_datatypes.asp)\n",
    "- [TutorialsTeacher](https://www.tutorialsteacher.com/python/python-data-types)"
   ]
  },
  {
   "cell_type": "markdown",
   "metadata": {},
   "source": [
    "Some basic date types are as followed. "
   ]
  },
  {
   "cell_type": "markdown",
   "metadata": {},
   "source": [
    "- int"
   ]
  },
  {
   "cell_type": "code",
   "execution_count": 37,
   "metadata": {},
   "outputs": [
    {
     "data": {
      "text/plain": [
       "int"
      ]
     },
     "execution_count": 37,
     "metadata": {},
     "output_type": "execute_result"
    }
   ],
   "source": [
    "a = 3\n",
    "type(a)"
   ]
  },
  {
   "cell_type": "markdown",
   "metadata": {},
   "source": [
    "- float"
   ]
  },
  {
   "cell_type": "code",
   "execution_count": 38,
   "metadata": {},
   "outputs": [
    {
     "data": {
      "text/plain": [
       "float"
      ]
     },
     "execution_count": 38,
     "metadata": {},
     "output_type": "execute_result"
    }
   ],
   "source": [
    "b = 3.1415\n",
    "type(b)"
   ]
  },
  {
   "cell_type": "markdown",
   "metadata": {},
   "source": [
    "- string"
   ]
  },
  {
   "cell_type": "code",
   "execution_count": 39,
   "metadata": {},
   "outputs": [
    {
     "name": "stdout",
     "output_type": "stream",
     "text": [
      "<class 'str'>\n",
      "<class 'str'>\n"
     ]
    }
   ],
   "source": [
    "c = 'c'\n",
    "d = 'iamd'\n",
    "print(type(c))\n",
    "print(type(d))"
   ]
  },
  {
   "cell_type": "markdown",
   "metadata": {},
   "source": [
    "- list"
   ]
  },
  {
   "cell_type": "code",
   "execution_count": 40,
   "metadata": {},
   "outputs": [
    {
     "name": "stdout",
     "output_type": "stream",
     "text": [
      "[1, 2, 3, 4, 10]\n"
     ]
    }
   ],
   "source": [
    "mylist = [1,2,3, 4, 5]\n",
    "def testAPI():\n",
    "    mylist.pop()\n",
    "    mylist.append(10)\n",
    "testAPI()\n",
    "print(mylist)"
   ]
  },
  {
   "cell_type": "markdown",
   "metadata": {},
   "source": [
    "## 2.2 Function"
   ]
  },
  {
   "cell_type": "markdown",
   "metadata": {},
   "source": [
    "- A block for completing a specific task.\n",
    "- It will be executed when called.\n",
    "- Inputs: some data (parameters) that are passed into it for computation. \n",
    "- Output: the computed result, passed out by `return`."
   ]
  },
  {
   "cell_type": "code",
   "execution_count": 41,
   "metadata": {},
   "outputs": [
    {
     "name": "stdout",
     "output_type": "stream",
     "text": [
      "The first result is 977932.\n",
      "The second result is 22.\n"
     ]
    }
   ],
   "source": [
    "# Calculate the sum of two numbers\n",
    "def sumOfTwoNumbers(x, y):\n",
    "    return x+y\n",
    "\n",
    "# Calculate the sum of all elements inside a list\n",
    "def sumOfListElements(alist):\n",
    "    result = 0\n",
    "    for element in alist:\n",
    "        result = result + element\n",
    "    return result\n",
    "\n",
    "result = sumOfTwoNumbers(100, 977832)\n",
    "print(\"The first result is {}.\".format(result))\n",
    "\n",
    "result = sumOfListElements([7, 7, 8])\n",
    "print(\"The second result is {}.\".format(result))"
   ]
  },
  {
   "cell_type": "markdown",
   "metadata": {},
   "source": [
    "# 3. Python Examples"
   ]
  },
  {
   "cell_type": "markdown",
   "metadata": {},
   "source": [
    "## 3.1 Factorial Calculation"
   ]
  },
  {
   "cell_type": "markdown",
   "metadata": {},
   "source": [
    "This example calculates the factorial of an integer. Two ways are given to complete this task, though with different efficiency."
   ]
  },
  {
   "cell_type": "markdown",
   "metadata": {},
   "source": [
    "- The first way\n",
    "\n",
    "$$ f(n) = n! = 1\\times2\\times3\\times...\\times n .$$"
   ]
  },
  {
   "cell_type": "code",
   "execution_count": 42,
   "metadata": {},
   "outputs": [],
   "source": [
    "# Iterative manner\n",
    "def iterativeFactorial(n):\n",
    "    result = 1\n",
    "    for i in range(1, n+1):\n",
    "        result = result * i\n",
    "    return result"
   ]
  },
  {
   "cell_type": "markdown",
   "metadata": {},
   "source": [
    "- The second way\n",
    "\n",
    "$$ f(n) = \\left\\{\n",
    "\\begin{array}{l}\n",
    "n \\times f(n) & (n>1) \\\\\n",
    "1  & (n=1).\\\\\n",
    "\\end{array}\n",
    "\\right.\n",
    "$$"
   ]
  },
  {
   "cell_type": "code",
   "execution_count": 43,
   "metadata": {},
   "outputs": [],
   "source": [
    "# Recursive manner\n",
    "def recursiveFactorial(n):\n",
    "    if n > 1:\n",
    "        return n * recursiveFactorial(n-1)\n",
    "    else:\n",
    "        return 1"
   ]
  },
  {
   "cell_type": "code",
   "execution_count": 44,
   "metadata": {},
   "outputs": [
    {
     "name": "stdout",
     "output_type": "stream",
     "text": [
      "The iterative factorial result is 3628800.\n",
      "The recursive factorial result is 3628800.\n"
     ]
    }
   ],
   "source": [
    "n = 10\n",
    "print(\"The iterative factorial result is {}.\".format(iterativeFactorial(n)))\n",
    "print(\"The recursive factorial result is {}.\".format(recursiveFactorial(n)))"
   ]
  },
  {
   "cell_type": "markdown",
   "metadata": {},
   "source": [
    "## 3.2 To Find $\\pi$"
   ]
  },
  {
   "cell_type": "markdown",
   "metadata": {},
   "source": [
    "The below formula for computing $\\pi$ is from [here](https://www.craig-wood.com/nick/articles/pi-archimedes/).\n",
    "\n",
    "The Perimeter of a $n$-sides regular polygon is $d_n * n$ with $d_n$ as the length of one edge. Meanwhile, the Diameter of the polygon's mimimum circumcircle is 2.\n",
    "\n",
    "Thus, with $n$ become larger and larger, the differences between $(d_n * n) / 2$ and $\\pi$ are constantly decreasing.\n",
    "\n",
    "$$d_{2n} = \\sqrt{2 - 2\\sqrt{1-\\frac{d_n^2}{4}}}.$$\n",
    "\n",
    "$$\\pi \\approx \\frac{d_n * n}{2}, \\text{with } n \\text{ approaching to } \\infty.$$"
   ]
  },
  {
   "cell_type": "code",
   "execution_count": 45,
   "metadata": {},
   "outputs": [
    {
     "name": "stdout",
     "output_type": "stream",
     "text": [
      "Iters | Sides | Results | Error\n",
      "------|-------|---------|------\n",
      " 0 |        4 | 2.8284271247 | 0.3131655288\n",
      " 1 |        8 | 3.0614674589 | 0.0801251947\n",
      " 2 |       16 | 3.1214451523 | 0.0201475013\n",
      " 3 |       32 | 3.1365484905 | 0.0050441630\n",
      " 4 |       64 | 3.1403311570 | 0.0012614966\n",
      " 5 |      128 | 3.1412772509 | 0.0003154027\n",
      " 6 |      256 | 3.1415138011 | 0.0000788524\n",
      " 7 |      512 | 3.1415729404 | 0.0000197132\n",
      " 8 |     1024 | 3.1415877253 | 0.0000049283\n",
      " 9 |     2048 | 3.1415914215 | 0.0000012321\n",
      "10 |     4096 | 3.1415923456 | 0.0000003080\n",
      "11 |     8192 | 3.1415925765 | 0.0000000770\n",
      "12 |    16384 | 3.1415926335 | 0.0000000201\n",
      "13 |    32768 | 3.1415926548 | -0.0000000012\n",
      "14 |    65536 | 3.1415926453 | 0.0000000083\n",
      "15 |   131072 | 3.1415926074 | 0.0000000462\n"
     ]
    }
   ],
   "source": [
    "from math import pi\n",
    "from math import sqrt\n",
    "\n",
    "def computePi(iters):\n",
    "    sides = 4\n",
    "    dn = sqrt(2)\n",
    "    print(\"Iters | Sides | Results | Error\")\n",
    "    print(\"------|-------|---------|------\")\n",
    "    for i in range(iters):\n",
    "        result = dn * sides / 2\n",
    "        print(\"%2d | %8d | %.10f | %.10f\" % (i, sides, result, pi - result))\n",
    "        sides = sides * 2\n",
    "        dn = sqrt(2 - 2 * sqrt(1 - dn*dn/4) )\n",
    "\n",
    "computePi(16)"
   ]
  },
  {
   "cell_type": "markdown",
   "metadata": {},
   "source": [
    "To see the results in a markdown table as blow.\n",
    "\n",
    "Iters | Sides | Results | Error\n",
    "------|-------|---------|------\n",
    " 0 |        4 | 2.8284271247 | 0.3131655288\n",
    " 1 |        8 | 3.0614674589 | 0.0801251947\n",
    " 2 |       16 | 3.1214451523 | 0.0201475013\n",
    " 3 |       32 | 3.1365484905 | 0.0050441630\n",
    " 4 |       64 | 3.1403311570 | 0.0012614966\n",
    " 5 |      128 | 3.1412772509 | 0.0003154027\n",
    " 6 |      256 | 3.1415138011 | 0.0000788524\n",
    " 7 |      512 | 3.1415729404 | 0.0000197132\n",
    " 8 |     1024 | 3.1415877253 | 0.0000049283\n",
    " 9 |     2048 | 3.1415914215 | 0.0000012321\n",
    "10 |     4096 | 3.1415923456 | 0.0000003080\n",
    "11 |     8192 | 3.1415925765 | 0.0000000770\n",
    "12 |    16384 | 3.1415926335 | 0.0000000201\n",
    "13 |    32768 | 3.1415926548 | -0.0000000012\n",
    "14 |    65536 | 3.1415926453 | 0.0000000083\n",
    "15 |   131072 | 3.1415926074 | 0.0000000462"
   ]
  },
  {
   "cell_type": "code",
   "execution_count": 46,
   "metadata": {},
   "outputs": [
    {
     "data": {
      "text/plain": [
       "float"
      ]
     },
     "execution_count": 46,
     "metadata": {},
     "output_type": "execute_result"
    }
   ],
   "source": [
    "from math import sqrt\n",
    "\n",
    "type(sqrt(2))"
   ]
  },
  {
   "cell_type": "markdown",
   "metadata": {},
   "source": [
    "You can find that errors are increasing after 13 iterations. This is because that ** python float type only has limited precision** (about 17 digits). In fact, this is a problem in almost all programming languages and has great influence in many numerical computing tasks. Here, we can use `Decimal` class in python to avoid this problem in this scenario."
   ]
  },
  {
   "cell_type": "code",
   "execution_count": 47,
   "metadata": {
    "scrolled": true
   },
   "outputs": [
    {
     "name": "stdout",
     "output_type": "stream",
     "text": [
      "Iters | Sides | Results\n",
      "------|-------|--------\n",
      " 0 |                    4 | 2.8284271247461900976033774484193961571393437507538 \n",
      " 1 |                    8 | 3.0614674589207181738276798722431909340907564998852 \n",
      " 2 |                   16 | 3.1214451522580522855725578956323558548430658840311 \n",
      " 3 |                   32 | 3.1365484905459392638142580444365390675563735413589 \n",
      " 4 |                   64 | 3.1403311569547529123171185243316901321437032336505 \n",
      " 5 |                  128 | 3.1412772509327728680620197707882144083796632626652 \n",
      " 6 |                  256 | 3.1415138011443010763285150594568223079353138153866 \n",
      " 7 |                  512 | 3.1415729403670913841358001102707614295336377938332 \n",
      " 8 |                 1024 | 3.1415877252771597006288542627019187393992808573309 \n",
      " 9 |                 2048 | 3.1415914215111999739979717637408339557475626459655 \n",
      "10 |                 4096 | 3.1415923455701177423403759941573699303052060957299 \n",
      "11 |                 8192 | 3.1415925765848726656816060922378753097320532869831 \n",
      "12 |                16384 | 3.1415926343385629890954782636277912939540326571279 \n",
      "13 |                32768 | 3.1415926487769856694851079692771770756977685954704 \n",
      "14 |                65536 | 3.1415926523865913458035255210579638843386562093791 \n",
      "15 |               131072 | 3.1415926532889927652719430421737400034605515979040 \n",
      "16 |               262144 | 3.1415926535145931201633482432810804326515788739439 \n",
      "17 |               524288 | 3.1415926535709932088877183448597721146918631686750 \n",
      "18 |              1048576 | 3.1415926535850932310689057953358123492466656749895 \n",
      "19 |              2097152 | 3.1415926535886182366142085907724078849858946103809 \n",
      "20 |              4194304 | 3.1415926535894994880005346604326558615774484445857 \n",
      "21 |              8388608 | 3.1415926535897198008471162010227865491504794526188 \n",
      "22 |             16777216 | 3.1415926535897748790587615876187610138097210652818 \n",
      "23 |             33554432 | 3.1415926535897886486116729343582822439145058101300 \n",
      "24 |             67108864 | 3.1415926535897920909999007710488205274694437019961 \n",
      "25 |            134217728 | 3.1415926535897929515969577302218087109229301203088 \n",
      "26 |            268435456 | 3.1415926535897931667462219700150777185573894624526 \n",
      "27 |            536870912 | 3.1415926535897932205335380299633963237575020371346 \n",
      "28 |           1073741824 | 3.1415926535897932339803670449504781248322215876623 \n",
      "29 |           2147483648 | 3.1415926535897932373420742986972557338092152359796 \n"
     ]
    }
   ],
   "source": [
    "from decimal import Decimal, getcontext\n",
    "\n",
    "def computePi(iters):\n",
    "    sides = 4\n",
    "    dn_squared = Decimal(2)\n",
    "    print(\"Iters | Sides | Results\")\n",
    "    print(\"------|-------|--------\")\n",
    "    for i in range(iters):\n",
    "        result = dn_squared.sqrt() * int(sides / 2)\n",
    "        print(\"%2d | %20d | %s \" % (i, sides, result))\n",
    "        sides = sides * 2\n",
    "        dn_squared = 2 - 2 * (1 - dn_squared/4).sqrt()\n",
    "\n",
    "getcontext().prec = 50 # 50 digits of precision\n",
    "computePi(30)"
   ]
  },
  {
   "cell_type": "markdown",
   "metadata": {},
   "source": [
    "# 3. Learning Resources"
   ]
  },
  {
   "cell_type": "markdown",
   "metadata": {},
   "source": [
    "- [Python offical tutorial](https://docs.python.org/3/tutorial/index.html)\n",
    "- [Python in w3school](https://www.w3schools.com/python/python_datatypes.asp)\n",
    "- You can search for other ones you like just with google..."
   ]
  },
  {
   "cell_type": "markdown",
   "metadata": {},
   "source": [
    "- [Markdown](https://www.markdownguide.org/basic-syntax/)"
   ]
  }
 ],
 "metadata": {
  "kernelspec": {
   "display_name": "Python 3",
   "language": "python",
   "name": "python3"
  },
  "language_info": {
   "codemirror_mode": {
    "name": "ipython",
    "version": 3
   },
   "file_extension": ".py",
   "mimetype": "text/x-python",
   "name": "python",
   "nbconvert_exporter": "python",
   "pygments_lexer": "ipython3",
   "version": "3.6.6"
  }
 },
 "nbformat": 4,
 "nbformat_minor": 2
}

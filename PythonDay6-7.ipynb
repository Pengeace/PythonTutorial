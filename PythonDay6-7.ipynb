{
 "cells": [
  {
   "cell_type": "markdown",
   "metadata": {},
   "source": [
    "# 1 Mutable & Immutable Objects"
   ]
  },
  {
   "cell_type": "markdown",
   "metadata": {},
   "source": [
    "## 1.1 Variables and Objects"
   ]
  },
  {
   "cell_type": "markdown",
   "metadata": {},
   "source": [
    "In Python, **variables are references to objects** and any variable can reference any object.\n",
    "\n",
    "That is, **variables are dynamic and untyped**.\n",
    "\n",
    "You can view a variable as being a label, pointer or reference to an object which lives elsewhere in memory."
   ]
  },
  {
   "cell_type": "markdown",
   "metadata": {},
   "source": [
    "Python has types; however, the **data types are linked not to the variable names but to the objects themselves**.\n",
    "\n",
    "In object-oriented programming languages like Python, an object is an entity that contains data along with associated metadata and/or functionality. In Python everything is an object, which means every entity has some metadata (called attributes) and associated functionality (called methods). These attributes and methods are accessed via the dot syntax."
   ]
  },
  {
   "cell_type": "code",
   "execution_count": 166,
   "metadata": {},
   "outputs": [
    {
     "name": "stdout",
     "output_type": "stream",
     "text": [
      "3 <class 'int'>\n",
      "3.14 <class 'str'>\n"
     ]
    }
   ],
   "source": [
    "a = 3\n",
    "print(a, type(a))\n",
    "\n",
    "a = '3.14'\n",
    "print(a, type(a))"
   ]
  },
  {
   "cell_type": "code",
   "execution_count": 167,
   "metadata": {},
   "outputs": [
    {
     "name": "stdout",
     "output_type": "stream",
     "text": [
      "1918987456\n",
      "1918987456\n"
     ]
    }
   ],
   "source": [
    "# two variables can share one same object\n",
    "\n",
    "x = 6\n",
    "y = 6\n",
    "\n",
    "print(id(x))\n",
    "print(id(y))"
   ]
  },
  {
   "cell_type": "markdown",
   "metadata": {},
   "source": [
    "![two-variables-one-object](./figure/two-variables-one-object.png)"
   ]
  },
  {
   "cell_type": "markdown",
   "metadata": {},
   "source": [
    "## 1.2 Id, Type and Value of an Object"
   ]
  },
  {
   "cell_type": "markdown",
   "metadata": {},
   "source": [
    "Every object in python has an identity, a type, and its value.\n",
    "\n",
    "![python_object](./figure/python_object.png)"
   ]
  },
  {
   "cell_type": "markdown",
   "metadata": {},
   "source": [
    "- **Identity**\n",
    "\n",
    "An object's identity never changes once it has been created; you may **think of it as the object’s address in memory**. The `is` operator compares the identity of two objects; the `id()` function returns an integer representing its identity. The `is` oprator could be implemented by the `id` function."
   ]
  },
  {
   "cell_type": "markdown",
   "metadata": {},
   "source": [
    "- **Type**\n",
    "\n",
    "An object's type defines the possible value and operations (e.g. “does it have a length?”) that type supports. The `type()` function returns the type of an object. An object type is unchangeable like the identity."
   ]
  },
  {
   "cell_type": "markdown",
   "metadata": {},
   "source": [
    "- **Value**\n",
    "\n",
    "The value of an object can change. Objects whose value can change are said to be mutable; objects whose value is unchangeable once they are created are called immutable."
   ]
  },
  {
   "cell_type": "markdown",
   "metadata": {},
   "source": [
    "**The mutability of an object is determined by its Data Type**.\n",
    "\n",
    "When talking about **mutability**, we are discussing that whether an object can **change its value with id not changed** (change the value in place)."
   ]
  },
  {
   "cell_type": "markdown",
   "metadata": {},
   "source": [
    "## 1.3 Mutability of Data Types"
   ]
  },
  {
   "cell_type": "markdown",
   "metadata": {},
   "source": [
    "### 1.3.1 Immutable data types"
   ]
  },
  {
   "cell_type": "markdown",
   "metadata": {},
   "source": [
    "These are the commonly used immutable built-in python data types.\n",
    "\n",
    "- `int`\n",
    "- `float`\n",
    "- `complex`\n",
    "- `bool`\n",
    "- `str`\n",
    "- `tuple`\n",
    "- `range`\n",
    "- `frozenset`"
   ]
  },
  {
   "cell_type": "markdown",
   "metadata": {},
   "source": [
    "When changing the value of a variable with immutable data type, a new object will be created to be referenced by this variable."
   ]
  },
  {
   "cell_type": "markdown",
   "metadata": {},
   "source": [
    "That is, the associated built-in functions of this kind of data type will create new objects rather than changing the value of the original object. "
   ]
  },
  {
   "cell_type": "code",
   "execution_count": 187,
   "metadata": {},
   "outputs": [
    {
     "name": "stdout",
     "output_type": "stream",
     "text": [
      "5 1918987424\n",
      "15 1918987744\n"
     ]
    }
   ],
   "source": [
    "# int\n",
    "a = 5\n",
    "print(a, id(a))\n",
    "\n",
    "a += 10\n",
    "print(a, id(a))"
   ]
  },
  {
   "cell_type": "code",
   "execution_count": 188,
   "metadata": {},
   "outputs": [
    {
     "name": "stdout",
     "output_type": "stream",
     "text": [
      "(1, 3, 4) 2690381503296\n",
      "(1, 3, 4, 2, 7, 5) 2690379623208\n"
     ]
    }
   ],
   "source": [
    "# tuple\n",
    "t = (1, 3, 4)\n",
    "print(t, id(t))\n",
    "\n",
    "t += (2, 7, 5)\n",
    "print(t,id(t))"
   ]
  },
  {
   "cell_type": "code",
   "execution_count": 1,
   "metadata": {},
   "outputs": [
    {
     "name": "stdout",
     "output_type": "stream",
     "text": [
      "some letters 2399156850288\n",
      "SOME LETTERS 2399156850160\n"
     ]
    }
   ],
   "source": [
    "# str\n",
    "s = 'some letters'\n",
    "print(s, id(s))\n",
    "\n",
    "s = s.upper()\n",
    "print(s, id(s))"
   ]
  },
  {
   "cell_type": "markdown",
   "metadata": {},
   "source": [
    "Though with same value, the `id`s of two objects may or may not be same."
   ]
  },
  {
   "cell_type": "code",
   "execution_count": 196,
   "metadata": {},
   "outputs": [
    {
     "name": "stdout",
     "output_type": "stream",
     "text": [
      "True\n",
      "True\n",
      "2690381543664 2690381543664\n",
      "\n",
      "##############################\n",
      "\n",
      "True\n",
      "False\n",
      "2690381543664 2690381543568\n"
     ]
    }
   ],
   "source": [
    "a = 100000000\n",
    "b = a\n",
    "print(a==b)\n",
    "print(a is b)\n",
    "print(id(a), id(b))\n",
    "\n",
    "print('\\n' + '#'*30 +'\\n')\n",
    "b = 100000000\n",
    "print(a==b)\n",
    "print(a is b)\n",
    "print(id(a), id(b))"
   ]
  },
  {
   "cell_type": "code",
   "execution_count": 3,
   "metadata": {},
   "outputs": [
    {
     "name": "stdout",
     "output_type": "stream",
     "text": [
      "True\n",
      "True\n",
      "2399156998432 2399156998432\n",
      "SingSoftly_12455523523532536, BeStill 2399156727368\n"
     ]
    }
   ],
   "source": [
    "a = \"SingSoftly_12455523523532536524\"\n",
    "b = \"SingSoftly_12455523523532536524\"\n",
    "print(a == b)\n",
    "print(a is b)\n",
    "print(id(a), id(b))\n",
    "\n",
    "b = b[:-3] + ', BeStill'\n",
    "print(b, id(b))"
   ]
  },
  {
   "cell_type": "markdown",
   "metadata": {},
   "source": [
    "Generally speaking, every time you define an object in Python, a new object with a new identity will be created. However, for the sake of optimization (mostly) there are some exceptions for small integers (between -5 and 256) and some strings."
   ]
  },
  {
   "cell_type": "markdown",
   "metadata": {},
   "source": [
    "**Python keeps an array of integer objects for all integers between -5 and 256.**\n",
    "\n",
    "When you create an integer in that range, you get back a reference to the already existing object."
   ]
  },
  {
   "cell_type": "code",
   "execution_count": 208,
   "metadata": {},
   "outputs": [
    {
     "name": "stdout",
     "output_type": "stream",
     "text": [
      "True\n",
      "False\n"
     ]
    }
   ],
   "source": [
    "a = 200\n",
    "b = 200\n",
    "print(a is b)\n",
    "\n",
    "a = 260\n",
    "b = 260\n",
    "print(a is b)"
   ]
  },
  {
   "cell_type": "markdown",
   "metadata": {},
   "source": [
    "The elements inside a `str`, `tuple` or `frozenset` object are not allowed to be changed."
   ]
  },
  {
   "cell_type": "code",
   "execution_count": 4,
   "metadata": {},
   "outputs": [
    {
     "ename": "TypeError",
     "evalue": "'str' object does not support item assignment",
     "output_type": "error",
     "traceback": [
      "\u001b[1;31m---------------------------------------------------------------------------\u001b[0m",
      "\u001b[1;31mTypeError\u001b[0m                                 Traceback (most recent call last)",
      "\u001b[1;32m<ipython-input-4-5d97fb90987f>\u001b[0m in \u001b[0;36m<module>\u001b[1;34m\u001b[0m\n\u001b[0;32m      1\u001b[0m \u001b[0ms\u001b[0m \u001b[1;33m=\u001b[0m \u001b[1;34m'data types'\u001b[0m\u001b[1;33m\u001b[0m\u001b[0m\n\u001b[1;32m----> 2\u001b[1;33m \u001b[0ms\u001b[0m\u001b[1;33m[\u001b[0m\u001b[1;36m0\u001b[0m\u001b[1;33m]\u001b[0m \u001b[1;33m=\u001b[0m \u001b[1;34m'D'\u001b[0m\u001b[1;33m\u001b[0m\u001b[0m\n\u001b[0m",
      "\u001b[1;31mTypeError\u001b[0m: 'str' object does not support item assignment"
     ]
    }
   ],
   "source": [
    "s = 'data types'\n",
    "s[0] = 'D'"
   ]
  },
  {
   "cell_type": "code",
   "execution_count": 5,
   "metadata": {},
   "outputs": [
    {
     "ename": "TypeError",
     "evalue": "'tuple' object does not support item assignment",
     "output_type": "error",
     "traceback": [
      "\u001b[1;31m---------------------------------------------------------------------------\u001b[0m",
      "\u001b[1;31mTypeError\u001b[0m                                 Traceback (most recent call last)",
      "\u001b[1;32m<ipython-input-5-f57782b7a7c0>\u001b[0m in \u001b[0;36m<module>\u001b[1;34m\u001b[0m\n\u001b[0;32m      1\u001b[0m \u001b[0mt\u001b[0m \u001b[1;33m=\u001b[0m \u001b[1;33m(\u001b[0m\u001b[1;36m3\u001b[0m\u001b[1;33m,\u001b[0m \u001b[1;36m4\u001b[0m\u001b[1;33m,\u001b[0m \u001b[1;36m5\u001b[0m\u001b[1;33m)\u001b[0m\u001b[1;33m\u001b[0m\u001b[0m\n\u001b[1;32m----> 2\u001b[1;33m \u001b[0mt\u001b[0m\u001b[1;33m[\u001b[0m\u001b[1;33m-\u001b[0m\u001b[1;36m1\u001b[0m\u001b[1;33m]\u001b[0m \u001b[1;33m=\u001b[0m \u001b[1;36m3\u001b[0m\u001b[1;33m\u001b[0m\u001b[0m\n\u001b[0m",
      "\u001b[1;31mTypeError\u001b[0m: 'tuple' object does not support item assignment"
     ]
    }
   ],
   "source": [
    "t = (3, 4, 5)\n",
    "t[-1] = 3"
   ]
  },
  {
   "cell_type": "markdown",
   "metadata": {},
   "source": [
    "**Important Note**\n",
    "\n",
    "However, there is an exception in immutability for tuple. A tuple consists of a sequence of names with unchangeable bindings to objects. What if one element inside a tuple is a mutable object?\n",
    "\n",
    "Consider a tuple below."
   ]
  },
  {
   "cell_type": "code",
   "execution_count": 6,
   "metadata": {},
   "outputs": [
    {
     "name": "stdout",
     "output_type": "stream",
     "text": [
      "([3, 4, 5], 'name') <class 'tuple'> 2399155460104\n",
      "The id of the list is  2399156065224\n",
      "([100, 4, 5], 'name') <class 'tuple'> 2399155460104\n",
      "The id of the list is  2399156065224\n"
     ]
    }
   ],
   "source": [
    "# the list inside a tuple can change, though the id of this tuple won't change\n",
    "t = ([3, 4, 5], 'name')\n",
    "print(t, type(t), id(t))\n",
    "print(\"The id of the list is \", id(t[0]))\n",
    "\n",
    "t[0][0] = 100\n",
    "print(t, type(t), id(t))\n",
    "print(\"The id of the list is \", id(t[0]))"
   ]
  },
  {
   "cell_type": "markdown",
   "metadata": {},
   "source": [
    "The tuple consists of a string and a list. Strings are immutable so we can’t change its value. But the contents of the list can change. The tuple itself isn't mutable but contain items that are mutable."
   ]
  },
  {
   "cell_type": "markdown",
   "metadata": {},
   "source": [
    "### 1.3.2 mutable data types"
   ]
  },
  {
   "cell_type": "markdown",
   "metadata": {},
   "source": [
    "These are the commonly used built-in mutable data types.\n",
    "- `list`\n",
    "- `dict`\n",
    "- `set`\n",
    "\n",
    "\n",
    "**Customly defined `class`es are generally mutable**."
   ]
  },
  {
   "cell_type": "markdown",
   "metadata": {},
   "source": [
    "We can change the data inside a mutable object, while keep its `id` not changed.\n",
    "\n",
    "When we modify a list and change its value in place, the list keeps the same address. However, the address of the value that you changed may change to a different address."
   ]
  },
  {
   "cell_type": "code",
   "execution_count": 225,
   "metadata": {},
   "outputs": [
    {
     "name": "stdout",
     "output_type": "stream",
     "text": [
      "['blue', 'green', 'red'] 2690381691720\n",
      "2690338370648\n",
      "['blue', 'purple', 'red'] 2690381691720\n",
      "2690380116184\n"
     ]
    }
   ],
   "source": [
    "x = ['blue', 'green', 'red']\n",
    "print(x, id(x))\n",
    "print(id(x[-2]))\n",
    "\n",
    "x[-2] = 'purple'\n",
    "print(x, id(x))\n",
    "print(id(x[-2]))"
   ]
  },
  {
   "cell_type": "markdown",
   "metadata": {},
   "source": [
    "Some of the built-in functions of these data types will change the value of the object."
   ]
  },
  {
   "cell_type": "code",
   "execution_count": 207,
   "metadata": {},
   "outputs": [
    {
     "name": "stdout",
     "output_type": "stream",
     "text": [
      "[3, 4, 5] 2690381568264\n",
      "[3, 4] 2690381568264\n"
     ]
    }
   ],
   "source": [
    "a = [3,4,5]\n",
    "print(a, id(a))\n",
    "\n",
    "a.pop()\n",
    "print(a, id(a))"
   ]
  },
  {
   "cell_type": "markdown",
   "metadata": {},
   "source": [
    "**Restrictions on Dictionary Keys**"
   ]
  },
  {
   "cell_type": "markdown",
   "metadata": {},
   "source": [
    "1. A given key can appear in a dictionary only once. If you specify a key a second time, then the second occurrence will override the first one.\n",
    "\n",
    "2. A dictionary key must be of a type that is immutable."
   ]
  },
  {
   "cell_type": "code",
   "execution_count": 15,
   "metadata": {},
   "outputs": [
    {
     "name": "stdout",
     "output_type": "stream",
     "text": [
      "{<built-in function id>: 'id', <class 'type'>: 'type'}\n"
     ]
    }
   ],
   "source": [
    "a = {id:'id', type:'type'}\n",
    "print(a)"
   ]
  },
  {
   "cell_type": "code",
   "execution_count": 17,
   "metadata": {},
   "outputs": [
    {
     "name": "stdout",
     "output_type": "stream",
     "text": [
      "1717824814032 <class 'builtin_function_or_method'>\n",
      "1918551024 <class 'type'>\n"
     ]
    }
   ],
   "source": [
    "# Essentially, even `id` and `type` are two immutable objects\n",
    "print(id(id), type(id))\n",
    "print(id(type), type(type))"
   ]
  },
  {
   "cell_type": "code",
   "execution_count": 7,
   "metadata": {},
   "outputs": [
    {
     "ename": "TypeError",
     "evalue": "unhashable type: 'list'",
     "output_type": "error",
     "traceback": [
      "\u001b[1;31m---------------------------------------------------------------------------\u001b[0m",
      "\u001b[1;31mTypeError\u001b[0m                                 Traceback (most recent call last)",
      "\u001b[1;32m<ipython-input-7-5a0e217eb83b>\u001b[0m in \u001b[0;36m<module>\u001b[1;34m\u001b[0m\n\u001b[1;32m----> 1\u001b[1;33m \u001b[0ma\u001b[0m \u001b[1;33m=\u001b[0m \u001b[1;33m{\u001b[0m\u001b[1;33m[\u001b[0m\u001b[1;36m1\u001b[0m\u001b[1;33m]\u001b[0m\u001b[1;33m:\u001b[0m\u001b[1;36m1\u001b[0m\u001b[1;33m,\u001b[0m\u001b[1;33m[\u001b[0m\u001b[1;36m2\u001b[0m\u001b[1;33m]\u001b[0m\u001b[1;33m:\u001b[0m\u001b[1;36m2\u001b[0m\u001b[1;33m}\u001b[0m\u001b[1;33m\u001b[0m\u001b[0m\n\u001b[0m\u001b[0;32m      2\u001b[0m \u001b[0mprint\u001b[0m\u001b[1;33m(\u001b[0m\u001b[0ma\u001b[0m\u001b[1;33m)\u001b[0m\u001b[1;33m\u001b[0m\u001b[0m\n",
      "\u001b[1;31mTypeError\u001b[0m: unhashable type: 'list'"
     ]
    }
   ],
   "source": [
    "a = {[1]:1,[2]:2}\n",
    "print(a)"
   ]
  },
  {
   "cell_type": "code",
   "execution_count": 8,
   "metadata": {},
   "outputs": [
    {
     "name": "stdout",
     "output_type": "stream",
     "text": [
      "{1: 1, 2: 2}\n"
     ]
    }
   ],
   "source": [
    "a = {(1):1,(2):2}\n",
    "print(a)"
   ]
  },
  {
   "cell_type": "markdown",
   "metadata": {},
   "source": [
    "### 1.3.3 As Function Inputs"
   ]
  },
  {
   "cell_type": "markdown",
   "metadata": {},
   "source": [
    "- If a mutable object is called by reference in a function, the original variable may be changed. If you want to avoid changing the original variable, you need to copy it to another variable.\n",
    "\n",
    "Thus, we might not need a `return` statement in functions with mutable inputs. Becase we can change their value just indside this function. "
   ]
  },
  {
   "cell_type": "code",
   "execution_count": 10,
   "metadata": {},
   "outputs": [
    {
     "name": "stdout",
     "output_type": "stream",
     "text": [
      "Inside this funcion, the list after processing: [9, 16, 25]\n",
      "Outside this funcion, the list after processing: [9, 16, 25]\n"
     ]
    }
   ],
   "source": [
    "my_list = [3, 4, 5]\n",
    "\n",
    "def test(x):\n",
    "    for i in range(len(x)):\n",
    "        x[i] = x[i]**2\n",
    "    print(\"Inside this funcion, the list after processing:\", x)\n",
    "\n",
    "test(my_list)\n",
    "print(\"Outside this funcion, the list after processing:\", my_list)"
   ]
  },
  {
   "cell_type": "markdown",
   "metadata": {},
   "source": [
    "- When immutable objects are called by reference in a function, its value cannot be changed.\n",
    "\n",
    "Thus, we usually need a `return` statement if inputs are immutable to pass out the computation result."
   ]
  },
  {
   "cell_type": "code",
   "execution_count": 11,
   "metadata": {},
   "outputs": [
    {
     "name": "stdout",
     "output_type": "stream",
     "text": [
      "Inside the funcion, the string after upper operation: SING SOFTLY, BE STILL.\n",
      "Outside the funcion, the string after upper operation: sing softly, be still.\n"
     ]
    }
   ],
   "source": [
    "my_str = 'sing softly, be still.'\n",
    "\n",
    "def test(x):\n",
    "    x = x.upper()\n",
    "    print(\"Inside the funcion, the string after upper operation:\", x)\n",
    "\n",
    "test(my_str)\n",
    "print(\"Outside the funcion, the string after upper operation:\", my_str)"
   ]
  },
  {
   "cell_type": "code",
   "execution_count": 23,
   "metadata": {},
   "outputs": [
    {
     "name": "stdout",
     "output_type": "stream",
     "text": [
      "Inside the funcion, the string after upper operation: SING SOFTLY, BE STILL.\n",
      "Outside the funcion, the string after upper operation: SING SOFTLY, BE STILL.\n"
     ]
    }
   ],
   "source": [
    "my_str = 'sing softly, be still.'\n",
    "\n",
    "def test(x):\n",
    "    x = x.upper()\n",
    "    print(\"Inside the funcion, the string after upper operation:\", x)\n",
    "    return x\n",
    "\n",
    "my_str = test(my_str) # my_str = x\n",
    "print(\"Outside the funcion, the string after upper operation:\", my_str)"
   ]
  },
  {
   "cell_type": "markdown",
   "metadata": {},
   "source": [
    "## 2 Assignment, Shallow Copy & Deep Copy "
   ]
  },
  {
   "cell_type": "markdown",
   "metadata": {},
   "source": [
    "## 2.1 Assignment"
   ]
  },
  {
   "cell_type": "markdown",
   "metadata": {},
   "source": [
    "In python, an assignment statement make two variables pointed to the same object.\n",
    "\n",
    "That is, assignment statements do not copy objects."
   ]
  },
  {
   "cell_type": "code",
   "execution_count": 14,
   "metadata": {},
   "outputs": [
    {
     "name": "stdout",
     "output_type": "stream",
     "text": [
      "2399157331528 2399157331528\n"
     ]
    }
   ],
   "source": [
    "a = [3, 'red', [True, False]]\n",
    "b = a\n",
    "print(id(a), id(b))"
   ]
  },
  {
   "cell_type": "markdown",
   "metadata": {},
   "source": [
    "The value change of one variable will be reflected on the other one, for they reference the same object. "
   ]
  },
  {
   "cell_type": "code",
   "execution_count": 15,
   "metadata": {},
   "outputs": [
    {
     "name": "stdout",
     "output_type": "stream",
     "text": [
      "[100, 'red', [True, False]]\n",
      "[100, 'red', [True, False]]\n"
     ]
    }
   ],
   "source": [
    "b[0] = 100\n",
    "print(a)\n",
    "print(b)"
   ]
  },
  {
   "cell_type": "markdown",
   "metadata": {},
   "source": [
    "## 2.2 Shallow Copy & Deep Copy"
   ]
  },
  {
   "cell_type": "markdown",
   "metadata": {},
   "source": [
    "In some cases, we want to create a real copy of an object for computation usage, to avoid changing the value of the original object.\n",
    "\n",
    "We have two ways to do this job, shallow copy and deep copy.\n",
    "\n",
    "**The difference between shallow and deep copying is only in elements that are mutable compound objects** (objects that contain other objects, like lists, sets or class instances):\n",
    "\n",
    "- A shallow copy constructs a new compound object and then (to the extent possible) inserts references into it to the objects found in the original.\n",
    "\n",
    "- A deep copy constructs a new compound object and then, recursively, inserts copies into it of the objects found in the original."
   ]
  },
  {
   "cell_type": "code",
   "execution_count": 4,
   "metadata": {},
   "outputs": [
    {
     "name": "stdout",
     "output_type": "stream",
     "text": [
      "[3, 'red', [True, False, [1, 2, [1, 2, 35]]]]\n",
      "[3, 'red', [True, False, [1, 2, [1, 2, 35]]]]\n",
      "[3, 'red', [True, False, [1, 2, [1, 2, 35]]]]\n"
     ]
    }
   ],
   "source": [
    "from copy import copy, deepcopy\n",
    "\n",
    "a = [3, 'red', [True, False, [1, 2, [1, 2, 35]]]]\n",
    "b = copy(a)\n",
    "c = deepcopy(a)\n",
    "\n",
    "print(a)\n",
    "print(b)\n",
    "print(c)"
   ]
  },
  {
   "cell_type": "markdown",
   "metadata": {},
   "source": [
    "The ids of these three variables are different."
   ]
  },
  {
   "cell_type": "code",
   "execution_count": 8,
   "metadata": {},
   "outputs": [
    {
     "name": "stdout",
     "output_type": "stream",
     "text": [
      "2000745342408 2000744939336 2000745226632\n"
     ]
    }
   ],
   "source": [
    "print(id(a), id(b), id(c))"
   ]
  },
  {
   "cell_type": "markdown",
   "metadata": {},
   "source": [
    "The ids of elements inside `a` and `b` are same. But this is not true for `c`."
   ]
  },
  {
   "cell_type": "code",
   "execution_count": 10,
   "metadata": {},
   "outputs": [
    {
     "name": "stdout",
     "output_type": "stream",
     "text": [
      "[1551002720, 2000703763376, 2000745290312]\n",
      "[1551002720, 2000703763376, 2000745290312]\n",
      "[1551002720, 2000703763376, 2000745343176]\n"
     ]
    }
   ],
   "source": [
    "ids_a = [id(x) for x in a]\n",
    "ids_b = [id(x) for x in b]\n",
    "ids_c = [id(x) for x in c]\n",
    "print(ids_a)\n",
    "print(ids_b)\n",
    "print(ids_c)"
   ]
  },
  {
   "cell_type": "markdown",
   "metadata": {},
   "source": [
    "Even the compound object inside a compound object (may be several layers; recursively) in `c` has the different `id` compared with the corresponding object in `a`."
   ]
  },
  {
   "cell_type": "code",
   "execution_count": 11,
   "metadata": {},
   "outputs": [
    {
     "name": "stdout",
     "output_type": "stream",
     "text": [
      "[1, 2, 35]\n",
      "[1, 2, 35]\n",
      "2000745290632 2000745249608\n"
     ]
    }
   ],
   "source": [
    "print(a[-1][-1][-1])\n",
    "print(c[-1][-1][-1])\n",
    "print(id(a[-1][-1]), id(c[-1][-1]))"
   ]
  },
  {
   "cell_type": "markdown",
   "metadata": {},
   "source": [
    "In other words, you can change the value of `c` arbitrarily without warrying about the value change of `a`. "
   ]
  },
  {
   "cell_type": "code",
   "execution_count": 12,
   "metadata": {},
   "outputs": [
    {
     "name": "stdout",
     "output_type": "stream",
     "text": [
      "[3, 'red', [True, False, [1, 2, [1, 2, 500]]]]\n",
      "[3, 'red', [True, False, [1, 2, [1, 2, 35]]]]\n"
     ]
    }
   ],
   "source": [
    "c[-1][-1][-1][-1] = 500\n",
    "print(c)\n",
    "print(a)"
   ]
  },
  {
   "cell_type": "markdown",
   "metadata": {},
   "source": [
    "On the other hand, if you change the value of a compound object inside `b`, this change will be reflected on the corresponding position of `a`."
   ]
  },
  {
   "cell_type": "code",
   "execution_count": 13,
   "metadata": {},
   "outputs": [
    {
     "name": "stdout",
     "output_type": "stream",
     "text": [
      "[3, 'red', [True, False, [1, 2, 500]]]\n",
      "[3, 'red', [True, False, [1, 2, 500]]]\n"
     ]
    }
   ],
   "source": [
    "b[-1][-1][-1] = 500\n",
    "print(b)\n",
    "print(a)"
   ]
  },
  {
   "cell_type": "markdown",
   "metadata": {},
   "source": [
    "We have some other ways to do shallow copy for specific data types like `list` and `dict`."
   ]
  },
  {
   "cell_type": "code",
   "execution_count": 17,
   "metadata": {},
   "outputs": [
    {
     "name": "stdout",
     "output_type": "stream",
     "text": [
      "2000745331208\n",
      "2000745416264\n",
      "2000745341512\n",
      "2000745342856 2000745342856 2000745342856\n"
     ]
    }
   ],
   "source": [
    "li = [2, 3, [2, 3]]\n",
    "\n",
    "li_1 = li[:]     # by slicing\n",
    "li_2 = li.copy() # by built-in copy() function\n",
    "\n",
    "print(id(li))\n",
    "print(id(li_1))\n",
    "print(id(li_2))\n",
    "\n",
    "print(id(li[-1]), id(li_1[-1]), id(li_2[-1]))"
   ]
  }
 ],
 "metadata": {
  "kernelspec": {
   "display_name": "Python 3",
   "language": "python",
   "name": "python3"
  },
  "language_info": {
   "codemirror_mode": {
    "name": "ipython",
    "version": 3
   },
   "file_extension": ".py",
   "mimetype": "text/x-python",
   "name": "python",
   "nbconvert_exporter": "python",
   "pygments_lexer": "ipython3",
   "version": "3.6.6"
  }
 },
 "nbformat": 4,
 "nbformat_minor": 2
}

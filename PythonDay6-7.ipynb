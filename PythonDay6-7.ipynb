{
 "cells": [
  {
   "cell_type": "markdown",
   "metadata": {},
   "source": [
    "# 1 Mutable & Immutable Objects"
   ]
  },
  {
   "cell_type": "markdown",
   "metadata": {},
   "source": [
    "## 1.1 Variables and Objects"
   ]
  },
  {
   "cell_type": "markdown",
   "metadata": {},
   "source": [
    "In Python, **variables are references to objects** and any variable can reference any object.\n",
    "\n",
    "That is, **variables are dynamic and untyped**.\n",
    "\n",
    "You can view a variable as being a label, pointer or reference to an object which lives elsewhere in memory."
   ]
  },
  {
   "cell_type": "markdown",
   "metadata": {},
   "source": [
    "Python has types; however, the **data types are linked not to the variable names but to the objects themselves**.\n",
    "\n",
    "In object-oriented programming languages like Python, an object is an entity that contains data along with associated metadata and/or functionality. In Python everything is an object, which means every entity has some metadata (called attributes) and associated functionality (called methods). These attributes and methods are accessed via the dot syntax."
   ]
  },
  {
   "cell_type": "code",
   "execution_count": 166,
   "metadata": {},
   "outputs": [
    {
     "name": "stdout",
     "output_type": "stream",
     "text": [
      "3 <class 'int'>\n",
      "3.14 <class 'str'>\n"
     ]
    }
   ],
   "source": [
    "a = 3\n",
    "print(a, type(a))\n",
    "\n",
    "a = '3.14'\n",
    "print(a, type(a))"
   ]
  },
  {
   "cell_type": "code",
   "execution_count": 167,
   "metadata": {},
   "outputs": [
    {
     "name": "stdout",
     "output_type": "stream",
     "text": [
      "1918987456\n",
      "1918987456\n"
     ]
    }
   ],
   "source": [
    "# two variables can share one same object\n",
    "\n",
    "x = 6\n",
    "y = 6\n",
    "\n",
    "print(id(x))\n",
    "print(id(y))"
   ]
  },
  {
   "cell_type": "markdown",
   "metadata": {},
   "source": [
    "![two-variables-one-object](./figure/two-variables-one-object.png)"
   ]
  },
  {
   "cell_type": "markdown",
   "metadata": {},
   "source": [
    "## 1.2 Id, Type and Value of an Object"
   ]
  },
  {
   "cell_type": "markdown",
   "metadata": {},
   "source": [
    "Every object in python has an identity, a type, and its value.\n",
    "\n",
    "![python_object](./figure/python_object.png)"
   ]
  },
  {
   "cell_type": "markdown",
   "metadata": {},
   "source": [
    "- **Identity**\n",
    "\n",
    "An object's identity never changes once it has been created; you may **think of it as the object’s address in memory**. The `is` operator compares the identity of two objects; the `id()` function returns an integer representing its identity. The `is` oprator could be implemented by the `id` function."
   ]
  },
  {
   "cell_type": "markdown",
   "metadata": {},
   "source": [
    "- **Type**\n",
    "\n",
    "An object's type defines the possible value and operations (e.g. “does it have a length?”) that type supports. The `type()` function returns the type of an object. An object type is unchangeable like the identity."
   ]
  },
  {
   "cell_type": "markdown",
   "metadata": {},
   "source": [
    "- **Value**\n",
    "\n",
    "The value of an object can change. Objects whose value can change are said to be mutable; objects whose value is unchangeable once they are created are called immutable."
   ]
  },
  {
   "cell_type": "markdown",
   "metadata": {},
   "source": [
    "**The mutability of an object is determined by its Data Type**.\n",
    "\n",
    "When talking about **mutability**, we are discussing that whether an object can **change its value with id not changed** (change the value in place)."
   ]
  },
  {
   "cell_type": "markdown",
   "metadata": {},
   "source": [
    "## 1.3 Mutability of Data Types"
   ]
  },
  {
   "cell_type": "markdown",
   "metadata": {},
   "source": [
    "### 1.3.1 Immutable data types"
   ]
  },
  {
   "cell_type": "markdown",
   "metadata": {},
   "source": [
    "These are the commonly used immutable built-in python data types.\n",
    "\n",
    "- `int`\n",
    "- `float`\n",
    "- `complex`\n",
    "- `bool`\n",
    "- `str`\n",
    "- `tuple`\n",
    "- `range`\n",
    "- `frozenset`"
   ]
  },
  {
   "cell_type": "markdown",
   "metadata": {},
   "source": [
    "When changing the value of a variable with immutable data type, a new object will be created to be referenced by this variable."
   ]
  },
  {
   "cell_type": "markdown",
   "metadata": {},
   "source": [
    "That is, the associated built-in functions of this kind of data type will create new objects rather than changing the value of the original object. "
   ]
  },
  {
   "cell_type": "code",
   "execution_count": 187,
   "metadata": {},
   "outputs": [
    {
     "name": "stdout",
     "output_type": "stream",
     "text": [
      "5 1918987424\n",
      "15 1918987744\n"
     ]
    }
   ],
   "source": [
    "# int\n",
    "a = 5\n",
    "print(a, id(a))\n",
    "\n",
    "a += 10\n",
    "print(a, id(a))"
   ]
  },
  {
   "cell_type": "code",
   "execution_count": 188,
   "metadata": {},
   "outputs": [
    {
     "name": "stdout",
     "output_type": "stream",
     "text": [
      "(1, 3, 4) 2690381503296\n",
      "(1, 3, 4, 2, 7, 5) 2690379623208\n"
     ]
    }
   ],
   "source": [
    "# tuple\n",
    "t = (1, 3, 4)\n",
    "print(t, id(t))\n",
    "\n",
    "t += (2, 7, 5)\n",
    "print(t,id(t))"
   ]
  },
  {
   "cell_type": "code",
   "execution_count": 1,
   "metadata": {},
   "outputs": [
    {
     "name": "stdout",
     "output_type": "stream",
     "text": [
      "some letters 1717906128560\n",
      "SOME LETTERS 1717906128432\n"
     ]
    }
   ],
   "source": [
    "# str\n",
    "s = 'some letters'\n",
    "print(s, id(s))\n",
    "\n",
    "s1 = s.upper()\n",
    "print(s1, id(s1))"
   ]
  },
  {
   "cell_type": "markdown",
   "metadata": {},
   "source": [
    "Though with same value, the `id`s of two objects may or may not be same."
   ]
  },
  {
   "cell_type": "code",
   "execution_count": 196,
   "metadata": {},
   "outputs": [
    {
     "name": "stdout",
     "output_type": "stream",
     "text": [
      "True\n",
      "True\n",
      "2690381543664 2690381543664\n",
      "\n",
      "##############################\n",
      "\n",
      "True\n",
      "False\n",
      "2690381543664 2690381543568\n"
     ]
    }
   ],
   "source": [
    "a = 100000000\n",
    "b = a\n",
    "print(a==b)\n",
    "print(a is b)\n",
    "print(id(a), id(b))\n",
    "\n",
    "print('\\n' + '#'*30 +'\\n')\n",
    "b = 100000000\n",
    "print(a==b)\n",
    "print(a is b)\n",
    "print(id(a), id(b))"
   ]
  },
  {
   "cell_type": "code",
   "execution_count": 10,
   "metadata": {},
   "outputs": [
    {
     "name": "stdout",
     "output_type": "stream",
     "text": [
      "True\n",
      "True\n",
      "1717906253744 1717906253744\n",
      "SingSoftly_12455523523532536, BeStill 1717906272392\n"
     ]
    }
   ],
   "source": [
    "a = \"SingSoftly_12455523523532536524\"\n",
    "b = \"SingSoftly_12455523523532536524\"\n",
    "print(a == b)\n",
    "print(a is b)\n",
    "print(id(a), id(b))\n",
    "\n",
    "b = b[:-3] + ', BeStill'\n",
    "print(b, id(b))"
   ]
  },
  {
   "cell_type": "markdown",
   "metadata": {},
   "source": [
    "Generally speaking, every time you define an object in Python, a new object with a new identity will be created. However, for the sake of optimization (mostly) there are some exceptions for small integers (between -5 and 256) and some strings."
   ]
  },
  {
   "cell_type": "markdown",
   "metadata": {},
   "source": [
    "**Python keeps an array of integer objects for all integers between -5 and 256.**\n",
    "\n",
    "When you create an integer in that range, you get back a reference to the already existing object."
   ]
  },
  {
   "cell_type": "code",
   "execution_count": 208,
   "metadata": {},
   "outputs": [
    {
     "name": "stdout",
     "output_type": "stream",
     "text": [
      "True\n",
      "False\n"
     ]
    }
   ],
   "source": [
    "a = 200\n",
    "b = 200\n",
    "print(a is b)\n",
    "\n",
    "a = 260\n",
    "b = 260\n",
    "print(a is b)"
   ]
  },
  {
   "cell_type": "markdown",
   "metadata": {},
   "source": [
    "The elements inside a `str`, `tuple` or `frozenset` object are not allowed to be changed."
   ]
  },
  {
   "cell_type": "code",
   "execution_count": 200,
   "metadata": {},
   "outputs": [],
   "source": [
    "s = 'data types'\n",
    "s[0] = 'D'"
   ]
  },
  {
   "cell_type": "code",
   "execution_count": 203,
   "metadata": {},
   "outputs": [],
   "source": [
    "t = (3, 4, 5)\n",
    "t[-1] = 3"
   ]
  },
  {
   "cell_type": "markdown",
   "metadata": {},
   "source": [
    "**Important Note**\n",
    "\n",
    "However, there is an exception in immutability for tuple. A tuple consists of a sequence of names with unchangeable bindings to objects. What if one element inside a tuple is a mutable object?\n",
    "\n",
    "Consider a tuple below."
   ]
  },
  {
   "cell_type": "code",
   "execution_count": 12,
   "metadata": {},
   "outputs": [
    {
     "name": "stdout",
     "output_type": "stream",
     "text": [
      "([3, 4, 5], 'name') <class 'tuple'> 1717904968904\n",
      "The id of the list is  1717906126984\n",
      "([100, 4, 5], 'name') <class 'tuple'> 1717904968904\n",
      "The id of the list is  1717906126984\n"
     ]
    }
   ],
   "source": [
    "# the list inside a tuple can change, though the id of this tuple won't change\n",
    "t = ([3, 4, 5], 'name')\n",
    "print(t, type(t), id(t))\n",
    "print(\"The id of the list is \", id(t[0]))\n",
    "\n",
    "t[0][0] = 100\n",
    "print(t, type(t), id(t))\n",
    "print(\"The id of the list is \", id(t[0]))"
   ]
  },
  {
   "cell_type": "markdown",
   "metadata": {},
   "source": [
    "The tuple consists of a string and a list. Strings are immutable so we can’t change its value. But the contents of the list can change. The tuple itself isn't mutable but contain items that are mutable."
   ]
  },
  {
   "cell_type": "markdown",
   "metadata": {},
   "source": [
    "### 1.3.2 Immutable data types"
   ]
  },
  {
   "cell_type": "markdown",
   "metadata": {},
   "source": [
    "These are the commonly used built-in mutable data types.\n",
    "- `list`\n",
    "- `dict`\n",
    "- `set`\n",
    "\n",
    "\n",
    "**Customly defined `class`es are generally mutable**."
   ]
  },
  {
   "cell_type": "markdown",
   "metadata": {},
   "source": [
    "We can change the data inside an mutable object, while keep its `id` not changed.\n",
    "\n",
    "When we modify a list and change its value in place, the list keeps the same address. However, the address of the value that you changed may change to a different address."
   ]
  },
  {
   "cell_type": "code",
   "execution_count": 225,
   "metadata": {},
   "outputs": [
    {
     "name": "stdout",
     "output_type": "stream",
     "text": [
      "['blue', 'green', 'red'] 2690381691720\n",
      "2690338370648\n",
      "['blue', 'purple', 'red'] 2690381691720\n",
      "2690380116184\n"
     ]
    }
   ],
   "source": [
    "x = ['blue', 'green', 'red']\n",
    "print(x, id(x))\n",
    "print(id(x[-2]))\n",
    "\n",
    "x[-2] = 'purple'\n",
    "print(x, id(x))\n",
    "print(id(x[-2]))"
   ]
  },
  {
   "cell_type": "markdown",
   "metadata": {},
   "source": [
    "Some of the built-in functions of these data types will change the value of the object."
   ]
  },
  {
   "cell_type": "code",
   "execution_count": 207,
   "metadata": {},
   "outputs": [
    {
     "name": "stdout",
     "output_type": "stream",
     "text": [
      "[3, 4, 5] 2690381568264\n",
      "[3, 4] 2690381568264\n"
     ]
    }
   ],
   "source": [
    "a = [3,4,5]\n",
    "print(a, id(a))\n",
    "\n",
    "a.pop()\n",
    "print(a, id(a))"
   ]
  },
  {
   "cell_type": "markdown",
   "metadata": {},
   "source": [
    "**Restrictions on Dictionary Keys**"
   ]
  },
  {
   "cell_type": "markdown",
   "metadata": {},
   "source": [
    "1. A given key can appear in a dictionary only once. If you specify a key a second time, then the second occurrence will override the first one.\n",
    "\n",
    "2. A dictionary key must be of a type that is immutable."
   ]
  },
  {
   "cell_type": "code",
   "execution_count": 15,
   "metadata": {},
   "outputs": [
    {
     "name": "stdout",
     "output_type": "stream",
     "text": [
      "{<built-in function id>: 'id', <class 'type'>: 'type'}\n"
     ]
    }
   ],
   "source": [
    "a = {id:'id', type:'type'}\n",
    "print(a)"
   ]
  },
  {
   "cell_type": "code",
   "execution_count": 17,
   "metadata": {},
   "outputs": [
    {
     "name": "stdout",
     "output_type": "stream",
     "text": [
      "1717824814032 <class 'builtin_function_or_method'>\n",
      "1918551024 <class 'type'>\n"
     ]
    }
   ],
   "source": [
    "# Essentially, even `id` and `type` are two immutable objects\n",
    "print(id(id), type(id))\n",
    "print(id(type), type(type))"
   ]
  },
  {
   "cell_type": "code",
   "execution_count": 19,
   "metadata": {},
   "outputs": [],
   "source": [
    "a = {[1]:1,[2]:2}\n",
    "print(a)"
   ]
  },
  {
   "cell_type": "code",
   "execution_count": 215,
   "metadata": {},
   "outputs": [
    {
     "name": "stdout",
     "output_type": "stream",
     "text": [
      "{1: 1, 2: 2}\n"
     ]
    }
   ],
   "source": [
    "a = {(1):1,(2):2}\n",
    "print(a)"
   ]
  },
  {
   "cell_type": "markdown",
   "metadata": {},
   "source": [
    "### 1.3.3 As Function Inputs"
   ]
  },
  {
   "cell_type": "markdown",
   "metadata": {},
   "source": [
    "- If a mutable object is called by reference in a function, the original variable may be changed. If you want to avoid changing the original variable, you need to copy it to another variable.\n",
    "\n",
    "Thus, we might not need a `return` statement in functions with mutable inputs. Becase we can change their value just indside this function. "
   ]
  },
  {
   "cell_type": "code",
   "execution_count": 236,
   "metadata": {},
   "outputs": [
    {
     "name": "stdout",
     "output_type": "stream",
     "text": [
      "Inside funcion, the list after processing: [9, 16, 25]\n",
      "Outside funcion, the list after processing: [9, 16, 25]\n"
     ]
    }
   ],
   "source": [
    "my_list = [3, 4, 5]\n",
    "def test(x):\n",
    "    for i in range(len(x)):\n",
    "        x[i] = x[i]**2\n",
    "    print(\"Inside funcion, the list after processing:\", x)\n",
    "\n",
    "test(my_list)\n",
    "print(\"Outside funcion, the list after processing:\", my_list)"
   ]
  },
  {
   "cell_type": "markdown",
   "metadata": {},
   "source": [
    "- When immutable objects are called by reference in a function, its value cannot be changed.\n",
    "\n",
    "Thus, we usually need a `return` statement if inputs are immutable to pass out the computation result."
   ]
  },
  {
   "cell_type": "code",
   "execution_count": 24,
   "metadata": {},
   "outputs": [
    {
     "name": "stdout",
     "output_type": "stream",
     "text": [
      "Inside the funcion, the string after upper operation: SING SOFTLY, BE STILL.\n",
      "Outside the funcion, the string after upper operation: sing softly, be still.\n"
     ]
    }
   ],
   "source": [
    "my_str = 'sing softly, be still.'\n",
    "\n",
    "def test(x):\n",
    "    x = x.upper()\n",
    "    print(\"Inside the funcion, the string after upper operation:\", x)\n",
    "\n",
    "test(my_str)\n",
    "print(\"Outside the funcion, the string after upper operation:\", my_str)"
   ]
  },
  {
   "cell_type": "code",
   "execution_count": 23,
   "metadata": {},
   "outputs": [
    {
     "name": "stdout",
     "output_type": "stream",
     "text": [
      "Inside the funcion, the string after upper operation: SING SOFTLY, BE STILL.\n",
      "Outside the funcion, the string after upper operation: SING SOFTLY, BE STILL.\n"
     ]
    }
   ],
   "source": [
    "my_str = 'sing softly, be still.'\n",
    "\n",
    "def test(x):\n",
    "    x = x.upper()\n",
    "    print(\"Inside the funcion, the string after upper operation:\", x)\n",
    "    return x\n",
    "\n",
    "my_str = test(my_str)\n",
    "print(\"Outside the funcion, the string after upper operation:\", my_str)"
   ]
  },
  {
   "cell_type": "markdown",
   "metadata": {},
   "source": [
    "## 2 Assignment, Shallow Copy & Deep Copy "
   ]
  },
  {
   "cell_type": "code",
   "execution_count": null,
   "metadata": {},
   "outputs": [],
   "source": []
  }
 ],
 "metadata": {
  "kernelspec": {
   "display_name": "Python 3",
   "language": "python",
   "name": "python3"
  },
  "language_info": {
   "codemirror_mode": {
    "name": "ipython",
    "version": 3
   },
   "file_extension": ".py",
   "mimetype": "text/x-python",
   "name": "python",
   "nbconvert_exporter": "python",
   "pygments_lexer": "ipython3",
   "version": "3.6.6"
  }
 },
 "nbformat": 4,
 "nbformat_minor": 2
}

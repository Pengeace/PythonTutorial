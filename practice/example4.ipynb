{
 "cells": [
  {
   "cell_type": "markdown",
   "metadata": {},
   "source": [
    "## Objective##"
   ]
  },
  {
   "cell_type": "markdown",
   "metadata": {},
   "source": [
    "You are required to write two functions to complete the below two tasks respectively.\n",
    "\n",
    "1. Search primes up to a given number.\n",
    "    - The input is an integer number, while the output should be a `list` containing all primes smaller than the given number.\n",
    "    - For example, primes smaller than 12 are 2, 3, 5, 7, 11. Thus, for input `12`, the list `[2, 3, 5, 7, 11]` should be returned.\n",
    "\n",
    "\n",
    "2. Prime factorization for a given decimal integer.\n",
    "    - You can find examples and explanations of prime factoration on this [page](https://www.mesacc.edu/~scotz47781/mat120/notes/radicals/simplify/images/examples/prime_factorization.html) or this [page](https://mathworld.wolfram.com/NarcissisticNumber.html).\n",
    "    - The input is a decimal integer for perform factorization.\n",
    "    - The output should be a `dict`, with each key as a prime factor and the corresponding value as the occurrance number of this factor in given number.\n",
    "    - For example, $360 = 2^3 \\cdot 3^2 \\cdot 5$.  Thus, if the input is 360, the expected out put is `dict`\n",
    "    ```python\n",
    "    {2:3, 3:2, 5:1}\n",
    "    ```\n",
    "    - Hint: the function implemented in the first task are helpful for this task."
   ]
  },
  {
   "cell_type": "markdown",
   "metadata": {},
   "source": [
    "A Way of Problem Solving: **Top-down design and Step-wise refinement**."
   ]
  },
  {
   "cell_type": "markdown",
   "metadata": {},
   "source": [
    "## Code"
   ]
  },
  {
   "cell_type": "markdown",
   "metadata": {},
   "source": [
    "#### 1. Search Primes up to a given Limit\n",
    "\n",
    "- The naive way, searching by prime defination\n",
    "    - Three implementations are provided here, the search_primes_naive3 is the quickest one among them."
   ]
  },
  {
   "cell_type": "code",
   "execution_count": 9,
   "metadata": {},
   "outputs": [],
   "source": [
    "def search_primes_naive1(n):\n",
    "    primes = []\n",
    "    for i in range(2, n+1):\n",
    "        # check \n",
    "        is_prime = True\n",
    "        print(i, list(range(2,i)))\n",
    "        for x in range(2, i):\n",
    "            if i % x == 0:\n",
    "                is_prime = False\n",
    "                break\n",
    "        if is_prime:\n",
    "            primes.append(i)\n",
    "    return primes\n",
    "\n",
    "# 12 = 2 * 3 * 2, then 2 and 3 are factors of 12\n",
    "# 12 % 2 == 0\n",
    "# 12 % 3 == 0\n",
    "# 12 is not a prime\n",
    "# A prime only have 1 and itself as its factors"
   ]
  },
  {
   "cell_type": "code",
   "execution_count": 10,
   "metadata": {},
   "outputs": [
    {
     "name": "stdout",
     "output_type": "stream",
     "text": [
      "2 []\n",
      "3 [2]\n",
      "4 [2, 3]\n",
      "5 [2, 3, 4]\n",
      "6 [2, 3, 4, 5]\n",
      "7 [2, 3, 4, 5, 6]\n",
      "8 [2, 3, 4, 5, 6, 7]\n",
      "9 [2, 3, 4, 5, 6, 7, 8]\n",
      "10 [2, 3, 4, 5, 6, 7, 8, 9]\n",
      "11 [2, 3, 4, 5, 6, 7, 8, 9, 10]\n",
      "12 [2, 3, 4, 5, 6, 7, 8, 9, 10, 11]\n",
      "13 [2, 3, 4, 5, 6, 7, 8, 9, 10, 11, 12]\n",
      "14 [2, 3, 4, 5, 6, 7, 8, 9, 10, 11, 12, 13]\n",
      "15 [2, 3, 4, 5, 6, 7, 8, 9, 10, 11, 12, 13, 14]\n",
      "16 [2, 3, 4, 5, 6, 7, 8, 9, 10, 11, 12, 13, 14, 15]\n",
      "17 [2, 3, 4, 5, 6, 7, 8, 9, 10, 11, 12, 13, 14, 15, 16]\n",
      "18 [2, 3, 4, 5, 6, 7, 8, 9, 10, 11, 12, 13, 14, 15, 16, 17]\n",
      "19 [2, 3, 4, 5, 6, 7, 8, 9, 10, 11, 12, 13, 14, 15, 16, 17, 18]\n",
      "20 [2, 3, 4, 5, 6, 7, 8, 9, 10, 11, 12, 13, 14, 15, 16, 17, 18, 19]\n"
     ]
    },
    {
     "data": {
      "text/plain": [
       "[2, 3, 5, 7, 11, 13, 17, 19]"
      ]
     },
     "execution_count": 10,
     "metadata": {},
     "output_type": "execute_result"
    }
   ],
   "source": [
    "search_primes_naive1(20)"
   ]
  },
  {
   "cell_type": "code",
   "execution_count": 29,
   "metadata": {},
   "outputs": [],
   "source": [
    "def search_primes_naive2(n):\n",
    "    primes = []\n",
    "    for i in range(2, n+1):\n",
    "        print(i, primes)\n",
    "        is_prime = True\n",
    "        for x in primes:\n",
    "            if i % x==0:\n",
    "                is_prime = False\n",
    "                break\n",
    "        if is_prime:\n",
    "            primes.append(i)\n",
    "    return primes"
   ]
  },
  {
   "cell_type": "code",
   "execution_count": 30,
   "metadata": {},
   "outputs": [
    {
     "name": "stdout",
     "output_type": "stream",
     "text": [
      "2 []\n",
      "3 [2]\n",
      "4 [2, 3]\n",
      "5 [2, 3]\n",
      "6 [2, 3, 5]\n",
      "7 [2, 3, 5]\n",
      "8 [2, 3, 5, 7]\n",
      "9 [2, 3, 5, 7]\n",
      "10 [2, 3, 5, 7]\n",
      "11 [2, 3, 5, 7]\n",
      "12 [2, 3, 5, 7, 11]\n",
      "13 [2, 3, 5, 7, 11]\n",
      "14 [2, 3, 5, 7, 11, 13]\n",
      "15 [2, 3, 5, 7, 11, 13]\n",
      "16 [2, 3, 5, 7, 11, 13]\n",
      "17 [2, 3, 5, 7, 11, 13]\n",
      "18 [2, 3, 5, 7, 11, 13, 17]\n",
      "19 [2, 3, 5, 7, 11, 13, 17]\n",
      "20 [2, 3, 5, 7, 11, 13, 17, 19]\n"
     ]
    },
    {
     "data": {
      "text/plain": [
       "[2, 3, 5, 7, 11, 13, 17, 19]"
      ]
     },
     "execution_count": 30,
     "metadata": {},
     "output_type": "execute_result"
    }
   ],
   "source": [
    "search_primes_naive2(20)"
   ]
  },
  {
   "cell_type": "code",
   "execution_count": 68,
   "metadata": {},
   "outputs": [],
   "source": [
    "from math import sqrt\n",
    "\n",
    "def search_primes_naive3(n):\n",
    "    primes = []\n",
    "    for i in range(2, n+1):\n",
    "        is_prime = True\n",
    "        check_limit = int(sqrt(i)) + 1\n",
    "#         print(i, [x for x in primes if x < check_limit])\n",
    "        for x in primes:\n",
    "            if i % x==0:\n",
    "                is_prime = False\n",
    "                break\n",
    "            elif x > check_limit:\n",
    "                break\n",
    "        if is_prime:\n",
    "            primes.append(i)\n",
    "    return primes"
   ]
  },
  {
   "cell_type": "code",
   "execution_count": 51,
   "metadata": {},
   "outputs": [
    {
     "name": "stdout",
     "output_type": "stream",
     "text": [
      "3.872983346207417\n"
     ]
    }
   ],
   "source": [
    "n = 15\n",
    "print(sqrt(n))"
   ]
  },
  {
   "cell_type": "code",
   "execution_count": 52,
   "metadata": {},
   "outputs": [
    {
     "data": {
      "text/plain": [
       "True"
      ]
     },
     "execution_count": 52,
     "metadata": {},
     "output_type": "execute_result"
    }
   ],
   "source": [
    "15 != 5 * 5"
   ]
  },
  {
   "cell_type": "code",
   "execution_count": 62,
   "metadata": {},
   "outputs": [
    {
     "name": "stdout",
     "output_type": "stream",
     "text": [
      "2 []\n",
      "3 []\n",
      "4 [2]\n",
      "5 [2]\n",
      "6 [2]\n",
      "7 [2]\n",
      "8 [2]\n",
      "9 [2, 3]\n",
      "10 [2, 3]\n",
      "11 [2, 3]\n",
      "12 [2, 3]\n",
      "13 [2, 3]\n",
      "14 [2, 3]\n",
      "15 [2, 3]\n",
      "16 [2, 3]\n",
      "17 [2, 3]\n",
      "18 [2, 3]\n",
      "19 [2, 3]\n",
      "20 [2, 3]\n"
     ]
    },
    {
     "data": {
      "text/plain": [
       "[2, 3, 5, 7, 11, 13, 17, 19]"
      ]
     },
     "execution_count": 62,
     "metadata": {},
     "output_type": "execute_result"
    }
   ],
   "source": [
    "search_primes_naive3(20)"
   ]
  },
  {
   "cell_type": "markdown",
   "metadata": {},
   "source": [
    "- **The better way, Sieve of Eratosthenes**\n",
    "\n",
    "This [one](https://brilliant.org/wiki/sieve-of-eratosthenes/) and this [one](https://www.khanacademy.org/computing/computer-science/cryptography/comp-number-theory/v/sieve-of-eratosthenes-prime-adventure-part-4) are two explanations of this methed.\n",
    "\n",
    "The key idea behind this method is rather simple: **all multiples of a prime are composite numbers that can filtered out**."
   ]
  },
  {
   "cell_type": "markdown",
   "metadata": {},
   "source": [
    "![Sieve_of_Eratosthenes](../figure/Sieve_of_Eratosthenes_animation.gif)"
   ]
  },
  {
   "cell_type": "code",
   "execution_count": 71,
   "metadata": {},
   "outputs": [],
   "source": [
    "def prime_sieve(n):\n",
    "    upper_limit = n + 1\n",
    "    is_prime = [True] * (n+1)\n",
    "    for i in range(2, int(sqrt(n))+1):\n",
    "        if is_prime[i]:\n",
    "            t = i * i\n",
    "            while t < upper_limit:\n",
    "                is_prime[t] = False\n",
    "                t += i\n",
    "    return [i for i in range(2, n+1) if is_prime[i]]"
   ]
  },
  {
   "cell_type": "code",
   "execution_count": 72,
   "metadata": {},
   "outputs": [
    {
     "data": {
      "text/plain": [
       "[2, 3, 5, 7, 11, 13, 17, 19]"
      ]
     },
     "execution_count": 72,
     "metadata": {},
     "output_type": "execute_result"
    }
   ],
   "source": [
    "prime_sieve(20)"
   ]
  },
  {
   "cell_type": "markdown",
   "metadata": {},
   "source": [
    "To compare there time costs."
   ]
  },
  {
   "cell_type": "code",
   "execution_count": 70,
   "metadata": {},
   "outputs": [
    {
     "name": "stdout",
     "output_type": "stream",
     "text": [
      "True\n",
      "16.778305675892625 2.096184248352074\n"
     ]
    }
   ],
   "source": [
    "import time\n",
    "n = 10000000 # 10 million\n",
    "\n",
    "time_start_1 = time.clock()\n",
    "primes1 = search_primes_naive3(n)\n",
    "time_stop_1 = time.clock()\n",
    "\n",
    "time_start_2 = time.clock()\n",
    "primes2 = prime_sieve(n)\n",
    "time_stop_2 = time.clock()\n",
    "\n",
    "print(primes1 == primes2)\n",
    "print(time_stop_1 - time_start_1, time_stop_2 - time_start_2)"
   ]
  },
  {
   "cell_type": "markdown",
   "metadata": {},
   "source": [
    "#### 2. Prime Factorization"
   ]
  },
  {
   "cell_type": "code",
   "execution_count": 63,
   "metadata": {},
   "outputs": [],
   "source": [
    "def prime_factorization(n):\n",
    "    limit = int(sqrt(n)) + 1\n",
    "    primes = prime_sieve(limit)\n",
    "    factor_dict = dict()\n",
    "    for p in primes:\n",
    "        if n % p == 0:\n",
    "            factor_dict[p] = 0\n",
    "            while n % p == 0:\n",
    "                n /= p\n",
    "                factor_dict[p] += 1\n",
    "            if n == 1:\n",
    "                break\n",
    "    if n > 1:\n",
    "        factor_dict[n] = 1\n",
    "    return factor_dict"
   ]
  },
  {
   "cell_type": "code",
   "execution_count": 64,
   "metadata": {},
   "outputs": [
    {
     "data": {
      "text/plain": [
       "{2: 2, 3: 2, 5: 1, 19: 1}"
      ]
     },
     "execution_count": 64,
     "metadata": {},
     "output_type": "execute_result"
    }
   ],
   "source": [
    "prime_factorization(3420)"
   ]
  },
  {
   "cell_type": "code",
   "execution_count": 65,
   "metadata": {},
   "outputs": [
    {
     "data": {
      "text/plain": [
       "{2: 3, 3: 2, 5: 1}"
      ]
     },
     "execution_count": 65,
     "metadata": {},
     "output_type": "execute_result"
    }
   ],
   "source": [
    "prime_factorization(360)"
   ]
  }
 ],
 "metadata": {
  "kernelspec": {
   "display_name": "Python 3",
   "language": "python",
   "name": "python3"
  },
  "language_info": {
   "codemirror_mode": {
    "name": "ipython",
    "version": 3
   },
   "file_extension": ".py",
   "mimetype": "text/x-python",
   "name": "python",
   "nbconvert_exporter": "python",
   "pygments_lexer": "ipython3",
   "version": "3.6.6"
  }
 },
 "nbformat": 4,
 "nbformat_minor": 2
}

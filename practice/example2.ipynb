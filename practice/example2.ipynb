{
 "cells": [
  {
   "cell_type": "markdown",
   "metadata": {},
   "source": [
    "## Objective"
   ]
  },
  {
   "cell_type": "markdown",
   "metadata": {},
   "source": [
    "You are required to write a function to complete this below task.\n",
    "\n",
    "\n",
    "- Judge that whether a decimal integer number is a [Narcissistic Numbe](https://mathworld.wolfram.com/NarcissisticNumber.html).\n",
    "    - The input is an integer, while the output should be a `bool` check result.\n",
    "    - An $n$-digit number that is the sum of the $n$-th powers of its digits is called an $n$-narcissistic number.\n",
    "    - For example, the three digits number 153 is a Narcissistic Number, for $153= 1^3 + 5^3 + 3^3$. Thus, `True` should be returned by your function for this number."
   ]
  },
  {
   "cell_type": "markdown",
   "metadata": {},
   "source": [
    "Hint: use `str()` to convert a number to string; use `for` loop to iterate all characters inside a string; use `int()` back to convert a string or character to an integer."
   ]
  },
  {
   "cell_type": "code",
   "execution_count": 1,
   "metadata": {},
   "outputs": [
    {
     "name": "stdout",
     "output_type": "stream",
     "text": [
      "123\n",
      "1\n",
      "2\n",
      "3\n"
     ]
    }
   ],
   "source": [
    "num = 123\n",
    "\n",
    "string = str(num)\n",
    "print(string)\n",
    "\n",
    "for c in string:\n",
    "    print(int(c))"
   ]
  }
 ],
 "metadata": {
  "kernelspec": {
   "display_name": "Python 3",
   "language": "python",
   "name": "python3"
  },
  "language_info": {
   "codemirror_mode": {
    "name": "ipython",
    "version": 3
   },
   "file_extension": ".py",
   "mimetype": "text/x-python",
   "name": "python",
   "nbconvert_exporter": "python",
   "pygments_lexer": "ipython3",
   "version": "3.6.6"
  }
 },
 "nbformat": 4,
 "nbformat_minor": 2
}

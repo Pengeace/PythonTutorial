{
 "cells": [
  {
   "cell_type": "markdown",
   "metadata": {},
   "source": [
    "## Objective"
   ]
  },
  {
   "cell_type": "markdown",
   "metadata": {},
   "source": [
    "You are required to write two functions to complete these two tasks.\n",
    "\n",
    "\n",
    "1. Judge that whether a decimal integer number is an [Narcissistic Numbe](https://mathworld.wolfram.com/NarcissisticNumber.html).\n",
    "    - The input is an integer, while the output should be the bool check result.\n",
    "    - An $n$-digit number that is the sum of the $n$-th powers of its digits is called an $n$-narcissistic number.\n",
    "        - For example, the three digits number 153 is an Narcissistic Number for $153= 1^3 + 5^3 + 3^3$.\n",
    "\n",
    "\n",
    "2. Find all prime factors of a decimal integer.\n",
    "    - The input is a decimal integer for perform factorization.\n",
    "    - The output is a dict, with each key as a prime factor and the corresponding value as the apperaeance times of this factor in given number."
   ]
  }
 ],
 "metadata": {
  "kernelspec": {
   "display_name": "Python 3",
   "language": "python",
   "name": "python3"
  },
  "language_info": {
   "codemirror_mode": {
    "name": "ipython",
    "version": 3
   },
   "file_extension": ".py",
   "mimetype": "text/x-python",
   "name": "python",
   "nbconvert_exporter": "python",
   "pygments_lexer": "ipython3",
   "version": "3.6.6"
  }
 },
 "nbformat": 4,
 "nbformat_minor": 2
}

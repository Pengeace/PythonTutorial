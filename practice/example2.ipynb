{
 "cells": [
  {
   "cell_type": "markdown",
   "metadata": {},
   "source": [
    "## Objective"
   ]
  },
  {
   "cell_type": "markdown",
   "metadata": {},
   "source": [
    "You are required to write a function to complete this below task.\n",
    "\n",
    "\n",
    "- Judge that whether a decimal integer number is a [Narcissistic Number](https://mathworld.wolfram.com/NarcissisticNumber.html).\n",
    "    - The input is an integer, while the output should be a `bool` check result.\n",
    "    - An $n$-digit number that is the sum of the $n$-th powers of its digits is called an $n$-narcissistic number.\n",
    "    - For example, the three digits number 153 is a Narcissistic Number, for $153= 1^3 + 5^3 + 3^3$. Thus, `True` should be returned by your function for this number."
   ]
  },
  {
   "cell_type": "markdown",
   "metadata": {},
   "source": [
    "Hint: use `str()` to convert a number to string; use `for` loop to iterate all characters inside a string; use `int()` back to convert a string or character to an integer."
   ]
  },
  {
   "cell_type": "code",
   "execution_count": 12,
   "metadata": {},
   "outputs": [
    {
     "name": "stdout",
     "output_type": "stream",
     "text": [
      "12345\n",
      "5\n",
      "1\n",
      "2\n",
      "3\n",
      "4\n",
      "5\n"
     ]
    }
   ],
   "source": [
    "num = 12345\n",
    "\n",
    "string = str(num)\n",
    "print(string)\n",
    "\n",
    "print(len(string))\n",
    "\n",
    "for c in string:\n",
    "    print(c)"
   ]
  },
  {
   "cell_type": "markdown",
   "metadata": {},
   "source": [
    "To check that whether this equation is true or not.\n",
    "\n",
    "$$12345 == 1^5 + 2^5 + 3^5 + 4^5 + 5^5$$"
   ]
  },
  {
   "cell_type": "code",
   "execution_count": 20,
   "metadata": {},
   "outputs": [
    {
     "name": "stdout",
     "output_type": "stream",
     "text": [
      "30\n",
      "15\n"
     ]
    }
   ],
   "source": [
    "print(sum([3,6,9,12]))\n",
    "print(sum(list(range(6))))"
   ]
  },
  {
   "cell_type": "markdown",
   "metadata": {},
   "source": [
    "## Code"
   ]
  },
  {
   "cell_type": "code",
   "execution_count": 22,
   "metadata": {},
   "outputs": [],
   "source": [
    "def check_narcissistic_number(num):\n",
    "    string_value = str(num)\n",
    "    length = len(string_value)\n",
    "    return num == sum([int(c)**length for c in string_value])"
   ]
  },
  {
   "cell_type": "code",
   "execution_count": 23,
   "metadata": {},
   "outputs": [
    {
     "data": {
      "text/plain": [
       "True"
      ]
     },
     "execution_count": 23,
     "metadata": {},
     "output_type": "execute_result"
    }
   ],
   "source": [
    "check_narcissistic_number(153)"
   ]
  },
  {
   "cell_type": "code",
   "execution_count": 24,
   "metadata": {},
   "outputs": [
    {
     "data": {
      "text/plain": [
       "False"
      ]
     },
     "execution_count": 24,
     "metadata": {},
     "output_type": "execute_result"
    }
   ],
   "source": [
    "check_narcissistic_number(15334)"
   ]
  },
  {
   "cell_type": "code",
   "execution_count": 27,
   "metadata": {},
   "outputs": [
    {
     "data": {
      "text/plain": [
       "0.9460792489999994"
      ]
     },
     "execution_count": 27,
     "metadata": {},
     "output_type": "execute_result"
    }
   ],
   "source": [
    "from math import sqrt\n",
    "\n",
    "def dis(t1, t2):\n",
    "    return sqrt(sum([(t1[i]-t2[i])**2 for i in range(3)]))\n",
    "\n",
    "dis((35.742958915, -5.889088615, 12.221128609), (35.742958915, -6.835167864, 12.221128609))"
   ]
  },
  {
   "cell_type": "code",
   "execution_count": 28,
   "metadata": {},
   "outputs": [
    {
     "data": {
      "text/plain": [
       "0.9460792488112177"
      ]
     },
     "execution_count": 28,
     "metadata": {},
     "output_type": "execute_result"
    }
   ],
   "source": [
    "dis((35.742958915, -5.889088615, 12.221128609), (36.258230604, -5.095639794, 12.221128609))"
   ]
  },
  {
   "cell_type": "code",
   "execution_count": 29,
   "metadata": {},
   "outputs": [
    {
     "name": "stdout",
     "output_type": "stream",
     "text": [
      "4.1108923880000035\n",
      "4.1108923880000035\n",
      "4.110892389\n"
     ]
    }
   ],
   "source": [
    "a=(51.794518771, 50.139928970, 13.943569554)\n",
    "\n",
    "b=(51.794518771, 54.250821358, 13.943569554)\n",
    "c=(47.683626383, 50.139928970, 13.943569554)\n",
    "d=(55.905411160, 50.139928970, 13.943569554)\n",
    "print(dis(a,b))\n",
    "print(dis(a,c))\n",
    "print(dis(a,d))"
   ]
  }
 ],
 "metadata": {
  "kernelspec": {
   "display_name": "Python 3",
   "language": "python",
   "name": "python3"
  },
  "language_info": {
   "codemirror_mode": {
    "name": "ipython",
    "version": 3
   },
   "file_extension": ".py",
   "mimetype": "text/x-python",
   "name": "python",
   "nbconvert_exporter": "python",
   "pygments_lexer": "ipython3",
   "version": "3.6.6"
  }
 },
 "nbformat": 4,
 "nbformat_minor": 2
}

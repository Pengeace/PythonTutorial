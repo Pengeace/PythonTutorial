{
 "cells": [
  {
   "cell_type": "markdown",
   "metadata": {},
   "source": [
    "## Objective"
   ]
  },
  {
   "cell_type": "markdown",
   "metadata": {},
   "source": [
    "You are supposed to write a function for counting the number of occurrences of digits, lower case letters and upper case letters in a string.\n",
    "\n",
    "- The input is a string for processing.\n",
    "- The output is three integers indicating the occurrence numbers of digits, lower case letters and upper case letters, repectively.\n",
    "- For instance, if the input is \"My Example4\", then 1, 7 and 2 should be returned. \n"
   ]
  },
  {
   "cell_type": "markdown",
   "metadata": {},
   "source": [
    "## Code"
   ]
  },
  {
   "cell_type": "code",
   "execution_count": 1,
   "metadata": {},
   "outputs": [],
   "source": [
    "def count_character(s):\n",
    "    count_digit = 0\n",
    "    count_lower = 0\n",
    "    count_upper = 0\n",
    "    for c in s:\n",
    "        if c.isdigit():\n",
    "            count_digit += 1\n",
    "        elif c.islower():\n",
    "            count_lower += 1\n",
    "        elif c.isupper():\n",
    "            count_upper += 1\n",
    "    return count_digit, count_lower, count_upper"
   ]
  },
  {
   "cell_type": "code",
   "execution_count": 6,
   "metadata": {},
   "outputs": [
    {
     "name": "stdout",
     "output_type": "stream",
     "text": [
      "The number of digits, lower case and upper case letters in this string are (8, 14, 1).\n"
     ]
    }
   ],
   "source": [
    "input_str = \"Today is a good day. --- 20200914\"\n",
    "print(\"The number of digits, lower case and upper case letters in this string are {}.\".format(count_character(input_str)))"
   ]
  }
 ],
 "metadata": {
  "kernelspec": {
   "display_name": "Python 3",
   "language": "python",
   "name": "python3"
  },
  "language_info": {
   "codemirror_mode": {
    "name": "ipython",
    "version": 3
   },
   "file_extension": ".py",
   "mimetype": "text/x-python",
   "name": "python",
   "nbconvert_exporter": "python",
   "pygments_lexer": "ipython3",
   "version": "3.6.6"
  }
 },
 "nbformat": 4,
 "nbformat_minor": 2
}

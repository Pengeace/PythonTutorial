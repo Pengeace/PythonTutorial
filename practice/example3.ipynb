{
 "cells": [
  {
   "cell_type": "markdown",
   "metadata": {},
   "source": [
    "## Objective##"
   ]
  },
  {
   "cell_type": "markdown",
   "metadata": {},
   "source": [
    "You are required to write two functions to complete the below two tasks respectively.\n",
    "\n",
    "1. Search primes up to a given number.\n",
    "    - The input is an integer number, while the output should be a `list` containing all primes smaller than the given number.\n",
    "    - For example, primes smaller than 12 are 2, 3, 5, 7, 11. Thus, for input `12`, the list `[2, 3, 5, 7, 11]` should be returned.\n",
    "\n",
    "\n",
    "2. Prime factorization for a given decimal integer.\n",
    "    - You can find examples and explanations of prime factoration on this [page](https://www.mesacc.edu/~scotz47781/mat120/notes/radicals/simplify/images/examples/prime_factorization.html) or this [page](https://mathworld.wolfram.com/NarcissisticNumber.html).\n",
    "    - The input is a decimal integer for perform factorization.\n",
    "    - The output should be a `dict`, with each key as a prime factor and the corresponding value as the appearence times of this factor in given number.\n",
    "    - For example, $360 = 2^3 \\cdot 3^2 \\cdot 5$.  Thus, if the input is 360, the expected out put is `dict`\n",
    "    ```python\n",
    "    {2:3, 3:2, 5:1}\n",
    "    ```\n",
    "    - Hint: the function implemented in the first task are helpful for this task."
   ]
  }
 ],
 "metadata": {
  "kernelspec": {
   "display_name": "Python 3",
   "language": "python",
   "name": "python3"
  },
  "language_info": {
   "codemirror_mode": {
    "name": "ipython",
    "version": 3
   },
   "file_extension": ".py",
   "mimetype": "text/x-python",
   "name": "python",
   "nbconvert_exporter": "python",
   "pygments_lexer": "ipython3",
   "version": "3.6.6"
  }
 },
 "nbformat": 4,
 "nbformat_minor": 2
}

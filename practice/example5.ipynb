{
 "cells": [
  {
   "cell_type": "markdown",
   "metadata": {},
   "source": [
    "## Objective##"
   ]
  },
  {
   "cell_type": "markdown",
   "metadata": {},
   "source": [
    "Write a program to perform Parenthesis Matching.\n",
    "\n",
    "1. Find the unmatched round brackets.\n",
    "    - A left bracket is matched with the nearest unmatched right bracket after it.\n",
    "    - A right bracket is matched with the nearest unmatched left bracket before it.\n",
    "    - The input is a string with some left or right brackets inside it.\n",
    "    - The output should be a list made up of the positions of unmatched brackets.\n",
    "    - Some examples.\n",
    "        - Input: `\"(()abdc34\"`; Output: `[1]`\n",
    "        - Input: `\"((a)))3\"`; Output: `[6]`\n",
    "        - Input: `\"(((a))(3\"`; Output: `[1, 7]`\n",
    " \n",
    "    - Hint: use `list` as a stack data structure with last-in first-out manner; process each bracket in input orderly."
   ]
  },
  {
   "cell_type": "markdown",
   "metadata": {},
   "source": [
    "### Stack"
   ]
  },
  {
   "cell_type": "markdown",
   "metadata": {},
   "source": [
    "**Defination**"
   ]
  },
  {
   "cell_type": "markdown",
   "metadata": {},
   "source": [
    "Stack is a linear data structure which follows a particular order in which the operations are performed. The order may be LIFO(Last In First Out) or FILO(First In Last Out).\n",
    "\n",
    "> Insertion and Deletion happen at the same end of a stack."
   ]
  },
  {
   "cell_type": "markdown",
   "metadata": {},
   "source": [
    "![stack](../figure/Stack.png)"
   ]
  },
  {
   "cell_type": "markdown",
   "metadata": {},
   "source": [
    "Or, we can put it down."
   ]
  },
  {
   "cell_type": "markdown",
   "metadata": {},
   "source": [
    "![Stack-1](../figure/Stack-1.png)"
   ]
  },
  {
   "cell_type": "markdown",
   "metadata": {},
   "source": [
    "The **functions associated with stack** are:\n",
    "\n",
    "- `empty()` – Returns whether the stack is empty – Time Complexity : O(1)\n",
    "- `size()` – Returns the size of the stack – Time Complexity : O(1)\n",
    "- `top()` – Returns a reference to the top most element of the stack – Time Complexity : O(1)\n",
    "- `push(e)` – Adds the element `e` at the top of the stack – Time Complexity : O(1)\n",
    "- `pop()` – Deletes the top most element of the stack – Time Complexity : O(1)"
   ]
  },
  {
   "cell_type": "markdown",
   "metadata": {},
   "source": [
    "**Stack applications**\n",
    "\n",
    "- Function Call Management\n",
    "- Parenthesis Checking\n",
    "- Expression Evaluation \n",
    "- Expression Conversion\n",
    "- Backtracking\n",
    "- Syntax Parsing\n",
    "- Memory Management\n",
    "\n",
    "Some explanations of these applications could be found [here](https://www.faceprep.in/data-structures/stack-applications-in-data-structure/) and [here](http://jcsites.juniata.edu/faculty/kruse/cs240/stackapps.htm).\n",
    "\n",
    "We provide two examples below to explain the usage of stack in function calls."
   ]
  },
  {
   "cell_type": "code",
   "execution_count": 56,
   "metadata": {},
   "outputs": [],
   "source": [
    "# Recursive manner to compute factorial\n",
    "def recursive_factorial(n):\n",
    "    if n > 1:\n",
    "        return n * recursive_factorial(n-1)\n",
    "    else:\n",
    "        return 1"
   ]
  },
  {
   "cell_type": "code",
   "execution_count": 57,
   "metadata": {},
   "outputs": [
    {
     "data": {
      "text/plain": [
       "24"
      ]
     },
     "execution_count": 57,
     "metadata": {},
     "output_type": "execute_result"
    }
   ],
   "source": [
    "recursive_factorial(4)"
   ]
  },
  {
   "cell_type": "markdown",
   "metadata": {},
   "source": [
    "The function call stack is here.\n",
    "\n",
    "![function-call-stack](../figure/function-call-stack.png)"
   ]
  },
  {
   "cell_type": "markdown",
   "metadata": {},
   "source": [
    "Another example. For below three functions, the function call stack is shown following it.\n",
    "\n",
    "```python\n",
    "def bar():\n",
    "    pass\n",
    "\n",
    "def foo():\n",
    "    bar();\n",
    "\n",
    "def main():\n",
    "    foo();\n",
    "    bar();\n",
    "```\n",
    "\n",
    "![function-call-stack-1](../figure/function-call-stack-1.png)"
   ]
  },
  {
   "cell_type": "markdown",
   "metadata": {},
   "source": [
    "**Stack in Python** can be implemented using following ways.\n",
    "\n",
    "- `list`\n",
    "- `collections.deque`\n",
    "- `queue.LifoQueue`\n",
    "\n",
    "Python's buil-in data structure `list` can be used as a `stack`. Instead of `push()`, `append()` is used to add elements to the top of stack while `pop()` removes the element in LIFO order."
   ]
  },
  {
   "cell_type": "markdown",
   "metadata": {},
   "source": [
    "## Code"
   ]
  },
  {
   "cell_type": "code",
   "execution_count": 41,
   "metadata": {},
   "outputs": [],
   "source": [
    "def find_unmatched_brackets(string):\n",
    "    \"\"\"\n",
    "    Find the indices of unmatched round brackets\n",
    "    inside the input string. Return these indices\n",
    "    in a list.\n",
    "    \"\"\"\n",
    "    stack = []     # store the indices of currently unmatched left brackets \n",
    "    ans = []       # firstly, store the indices of all unmatched right brackets;                   \n",
    "    for i, c in enumerate(string):\n",
    "        if c==\"(\":\n",
    "            stack.append(i+1)\n",
    "        elif c==\")\":\n",
    "            if len(stack):\n",
    "                stack.pop()\n",
    "            else:\n",
    "                ans.append(i+1)\n",
    "    ans =  ans + stack # secondly, store indices of all unmatched brackets\n",
    "    ans.sort()\n",
    "    return ans"
   ]
  },
  {
   "cell_type": "code",
   "execution_count": 42,
   "metadata": {},
   "outputs": [
    {
     "data": {
      "text/plain": [
       "[1]"
      ]
     },
     "execution_count": 42,
     "metadata": {},
     "output_type": "execute_result"
    }
   ],
   "source": [
    "find_unmatched_brackets(\"(()abdc34\")"
   ]
  },
  {
   "cell_type": "code",
   "execution_count": 43,
   "metadata": {},
   "outputs": [
    {
     "data": {
      "text/plain": [
       "[1, 7]"
      ]
     },
     "execution_count": 43,
     "metadata": {},
     "output_type": "execute_result"
    }
   ],
   "source": [
    "find_unmatched_brackets(\"(((a))(3\")"
   ]
  },
  {
   "cell_type": "code",
   "execution_count": 44,
   "metadata": {},
   "outputs": [
    {
     "name": "stdout",
     "output_type": "stream",
     "text": [
      "Help on class enumerate in module builtins:\n",
      "\n",
      "class enumerate(object)\n",
      " |  enumerate(iterable[, start]) -> iterator for index, value of iterable\n",
      " |  \n",
      " |  Return an enumerate object.  iterable must be another object that supports\n",
      " |  iteration.  The enumerate object yields pairs containing a count (from\n",
      " |  start, which defaults to zero) and a value yielded by the iterable argument.\n",
      " |  enumerate is useful for obtaining an indexed list:\n",
      " |      (0, seq[0]), (1, seq[1]), (2, seq[2]), ...\n",
      " |  \n",
      " |  Methods defined here:\n",
      " |  \n",
      " |  __getattribute__(self, name, /)\n",
      " |      Return getattr(self, name).\n",
      " |  \n",
      " |  __iter__(self, /)\n",
      " |      Implement iter(self).\n",
      " |  \n",
      " |  __new__(*args, **kwargs) from builtins.type\n",
      " |      Create and return a new object.  See help(type) for accurate signature.\n",
      " |  \n",
      " |  __next__(self, /)\n",
      " |      Implement next(self).\n",
      " |  \n",
      " |  __reduce__(...)\n",
      " |      Return state information for pickling.\n",
      "\n"
     ]
    }
   ],
   "source": [
    "help(enumerate)"
   ]
  },
  {
   "cell_type": "code",
   "execution_count": 45,
   "metadata": {},
   "outputs": [
    {
     "name": "stdout",
     "output_type": "stream",
     "text": [
      "[1, 2, 3, 4, 5, 6]\n"
     ]
    }
   ],
   "source": [
    "a = [1,2,3]\n",
    "b = [4,5,6]\n",
    "a += b\n",
    "print(a)\n"
   ]
  },
  {
   "cell_type": "code",
   "execution_count": 46,
   "metadata": {},
   "outputs": [
    {
     "name": "stdout",
     "output_type": "stream",
     "text": [
      "0 f\n",
      "1 s\n",
      "2 d\n",
      "3 a\n",
      "4 s\n",
      "5 f\n",
      "6 s\n",
      "7 a\n",
      "8 d\n",
      "9 g\n"
     ]
    }
   ],
   "source": [
    "s = \"fsdasfsadg\"\n",
    "for i, c in enumerate(s):\n",
    "    print(i, c)"
   ]
  }
 ],
 "metadata": {
  "kernelspec": {
   "display_name": "Python 3",
   "language": "python",
   "name": "python3"
  },
  "language_info": {
   "codemirror_mode": {
    "name": "ipython",
    "version": 3
   },
   "file_extension": ".py",
   "mimetype": "text/x-python",
   "name": "python",
   "nbconvert_exporter": "python",
   "pygments_lexer": "ipython3",
   "version": "3.6.6"
  }
 },
 "nbformat": 4,
 "nbformat_minor": 2
}

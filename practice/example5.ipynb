{
 "cells": [
  {
   "cell_type": "markdown",
   "metadata": {},
   "source": [
    "## Objective##"
   ]
  },
  {
   "cell_type": "markdown",
   "metadata": {},
   "source": [
    "Write a program to perform Parenthesis Matching.\n",
    "\n",
    "1. Find the unmatched round brackets.\n",
    "    - A left bracket is matched with the nearest unmatched right bracket after it.\n",
    "    - The input is a string with some left or right brackets inside it.\n",
    "    - The output should be a list made up of the positions of unmatched brackets.\n",
    "    - Some examples.\n",
    "        - Input: `\"(()abdc34\"`; Output: `[1]`\n",
    "        - Input: `\"((a)))3\"`; Output: `[6]`\n",
    "        - Input: `\"(((a))(3\"`; Output: `[1, 7]`\n",
    " \n",
    "    - Hint: use `list` as a stack data structure with last-in first-out manner; process each bracket in input orderly."
   ]
  },
  {
   "cell_type": "markdown",
   "metadata": {},
   "source": [
    "## Code"
   ]
  },
  {
   "cell_type": "code",
   "execution_count": 18,
   "metadata": {},
   "outputs": [],
   "source": []
  }
 ],
 "metadata": {
  "kernelspec": {
   "display_name": "Python 3",
   "language": "python",
   "name": "python3"
  },
  "language_info": {
   "codemirror_mode": {
    "name": "ipython",
    "version": 3
   },
   "file_extension": ".py",
   "mimetype": "text/x-python",
   "name": "python",
   "nbconvert_exporter": "python",
   "pygments_lexer": "ipython3",
   "version": "3.6.6"
  }
 },
 "nbformat": 4,
 "nbformat_minor": 2
}
